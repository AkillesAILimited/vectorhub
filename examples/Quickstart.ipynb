{
  "nbformat": 4,
  "nbformat_minor": 0,
  "metadata": {
    "colab": {
      "name": "VectorHub.ipynb",
      "provenance": [],
      "collapsed_sections": [],
      "machine_shape": "hm"
    },
    "kernelspec": {
      "name": "python3",
      "display_name": "Python 3"
    },
    "accelerator": "GPU"
  },
  "cells": [
    {
      "cell_type": "markdown",
      "metadata": {
        "id": "1OjKDSQdl1DU"
      },
      "source": [
        "# Install Vector Hub\n",
        "Feel free to contact the vector hub dev team at dev@vctr.ai for support"
      ]
    },
    {
      "cell_type": "code",
      "metadata": {
        "id": "fOYg9Hhgy9uM"
      },
      "source": [
        "!pip install vectorhub[all]"
      ],
      "execution_count": null,
      "outputs": []
    },
    {
      "cell_type": "markdown",
      "metadata": {
        "id": "2cF3fOdPj9qU"
      },
      "source": [
        "# Text2Vec - Turn Text to Vectors"
      ]
    },
    {
      "cell_type": "markdown",
      "metadata": {
        "id": "SOyrTKAXkDkH"
      },
      "source": [
        "## TFHub Models\n",
        "!pip install vectorhub[encoders-text-tfhub]"
      ]
    },
    {
      "cell_type": "markdown",
      "metadata": {
        "id": "qfq5gOkpkGtq"
      },
      "source": [
        "### BERT2Vec\n",
        "Bidirectional Encoder Representations from Transformers"
      ]
    },
    {
      "cell_type": "code",
      "metadata": {
        "id": "f0NQEzXJkJ6Y"
      },
      "source": [
        "from vectorhub.encoders.text.tfhub import Bert2Vec\n",
        "model = Bert2Vec()\n",
        "vector = model.encode(\"I enjoy taking long walks along the beach with my dog.\")\n",
        "len(vector), vector[:10]"
      ],
      "execution_count": null,
      "outputs": []
    },
    {
      "cell_type": "markdown",
      "metadata": {
        "id": "ewWbLuoBkU02"
      },
      "source": [
        "### Albert2Vec\n",
        "A Lite Bert"
      ]
    },
    {
      "cell_type": "code",
      "metadata": {
        "id": "zLslSstkjVdc"
      },
      "source": [
        "from vectorhub.encoders.text.tfhub import Albert2Vec\n",
        "model = Albert2Vec()\n",
        "vector = model.encode(\"I enjoy taking long walks along the beach with my dog.\")\n",
        "len(vector), vector[:10]"
      ],
      "execution_count": null,
      "outputs": []
    },
    {
      "cell_type": "markdown",
      "metadata": {
        "id": "dk2blUVakwtx"
      },
      "source": [
        "### LaBSE2Vec\n",
        "Language-agnostic BERT Sentence Embedding"
      ]
    },
    {
      "cell_type": "code",
      "metadata": {
        "id": "oJ_D7lFyjl7j"
      },
      "source": [
        "from vectorhub.encoders.text.tfhub import LaBSE2Vec\n",
        "model = LaBSE2Vec()\n",
        "vector = model.encode(\"I enjoy taking long walks along the beach with my dog.\")\n",
        "len(vector), vector[:10]"
      ],
      "execution_count": null,
      "outputs": []
    },
    {
      "cell_type": "markdown",
      "metadata": {
        "id": "W4zQF22zlC2k"
      },
      "source": [
        "### USE2Vec\n",
        "Universal Sentence Encoder"
      ]
    },
    {
      "cell_type": "code",
      "metadata": {
        "id": "yDX_7qfllCPe"
      },
      "source": [
        "from vectorhub.encoders.text.tfhub import USE2Vec\n",
        "model = USE2Vec()\n",
        "vector = model.encode(\"I enjoy taking long walks along the beach with my dog.\")\n",
        "len(vector), vector[:10]"
      ],
      "execution_count": null,
      "outputs": []
    },
    {
      "cell_type": "markdown",
      "metadata": {
        "id": "BVIipsAqlPva"
      },
      "source": [
        "### USEMulti2Vec\n",
        "Universal Sentence Encoder Multilingual"
      ]
    },
    {
      "cell_type": "code",
      "metadata": {
        "id": "rfQQl6JjlOgt"
      },
      "source": [
        "from vectorhub.encoders.text.tfhub import USEMulti2Vec\n",
        "model = USEMulti2Vec()\n",
        "vector = model.encode(\"I enjoy taking long walks along the beach with my dog.\")\n",
        "len(vector), vector[:10]"
      ],
      "execution_count": null,
      "outputs": []
    },
    {
      "cell_type": "markdown",
      "metadata": {
        "id": "QVVsLapQqst8"
      },
      "source": [
        "### USELite2Vec (Requires disabling tf2)\n",
        "Universal Sentence Encoder Lite (uncomment to run, the rest of the code might not work though)"
      ]
    },
    {
      "cell_type": "code",
      "metadata": {
        "id": "98pIIjC3p3CW"
      },
      "source": [
        "# from vectorhub.encoders.text.tfhub import USELite2Vec\n",
        "# model = USELite2Vec()\n",
        "# model.init()\n",
        "# vector = model.encode(\"I enjoy taking long walks along the beach with my dog.\")\n",
        "# len(vector), vector[:10]"
      ],
      "execution_count": null,
      "outputs": []
    },
    {
      "cell_type": "markdown",
      "metadata": {
        "id": "tLx8z-i-ru94"
      },
      "source": [
        "## Transformers Models\n",
        "NLP Models made by hugging face\n",
        "\n",
        "For Pytorch\n",
        "\n",
        "!pip install vectorhub[encoders-text-torch-transformers]\n",
        "\n",
        "For Tensorflow\n",
        "\n",
        "!pip install vectorhub[encoders-text-tf-transformers]"
      ]
    },
    {
      "cell_type": "markdown",
      "metadata": {
        "id": "1Ihm8m40wYOT"
      },
      "source": [
        "### PyTorch Bert"
      ]
    },
    {
      "cell_type": "code",
      "metadata": {
        "id": "9iZtNarertqO"
      },
      "source": [
        "from vectorhub.encoders.text.torch_transformers import Transformer2Vec\n",
        "model = Transformer2Vec('bert-base-uncased')\n",
        "vector = model.encode(\"I enjoy taking long walks along the beach with my dog.\")\n",
        "len(vector), vector[:10]"
      ],
      "execution_count": null,
      "outputs": []
    },
    {
      "cell_type": "markdown",
      "metadata": {
        "id": "hjPfQtFdwbSr"
      },
      "source": [
        "### Tensorflow Bert"
      ]
    },
    {
      "cell_type": "code",
      "metadata": {
        "id": "FOuZzgdOrtt2"
      },
      "source": [
        "from vectorhub.encoders.text.tf_transformers import TFTransformer2Vec\n",
        "model = TFTransformer2Vec('bert-base-uncased')\n",
        "vector = model.encode(\"I enjoy taking long walks along the beach with my dog.\")\n",
        "len(vector), vector[:10]"
      ],
      "execution_count": null,
      "outputs": []
    },
    {
      "cell_type": "markdown",
      "metadata": {
        "id": "AGaoMs8_xsH-"
      },
      "source": [
        "# Image2Vec - Turn Image to Vectors"
      ]
    },
    {
      "cell_type": "markdown",
      "metadata": {
        "id": "Eel8tptfx0F0"
      },
      "source": [
        "## TFHub Models\n",
        "!pip install vectorhub[encoders-image-tfhub]"
      ]
    },
    {
      "cell_type": "markdown",
      "metadata": {
        "id": "3fEuiI8jx0LX"
      },
      "source": [
        "### BIT2Vec\n",
        "BiT - Big Transfer, General Visual Representation Learning"
      ]
    },
    {
      "cell_type": "code",
      "metadata": {
        "id": "ppo-2-8HxqcL"
      },
      "source": [
        "from vectorhub.encoders.image.tfhub import BitSmall2Vec\n",
        "model = BitSmall2Vec()\n",
        "sample = model.read('https://getvectorai.com/assets/hub-logo-with-text.png')\n",
        "vector = model.encode(sample)\n",
        "len(vector), vector[:10]"
      ],
      "execution_count": null,
      "outputs": []
    },
    {
      "cell_type": "code",
      "metadata": {
        "id": "QH9uutquyq3K"
      },
      "source": [
        "from vectorhub.encoders.image.tfhub import BitMedium2Vec\n",
        "model = BitMedium2Vec()\n",
        "sample = model.read('https://getvectorai.com/assets/hub-logo-with-text.png')\n",
        "vector = model.encode(sample)\n",
        "len(vector), vector[:10]"
      ],
      "execution_count": null,
      "outputs": []
    },
    {
      "cell_type": "markdown",
      "metadata": {
        "id": "z7Lh6K4xysan"
      },
      "source": [
        "### Inception2Vec\n",
        "Inception"
      ]
    },
    {
      "cell_type": "code",
      "metadata": {
        "id": "IWGEffZOysap"
      },
      "source": [
        "from vectorhub.encoders.image.tfhub import InceptionV12Vec\n",
        "model = InceptionV12Vec()\n",
        "sample = model.read('https://getvectorai.com/assets/hub-logo-with-text.png')\n",
        "vector = model.encode(sample)\n",
        "len(vector), vector[:10]"
      ],
      "execution_count": null,
      "outputs": []
    },
    {
      "cell_type": "code",
      "metadata": {
        "id": "WuTr3vv1ysD-"
      },
      "source": [
        "from vectorhub.encoders.image.tfhub import InceptionV22Vec\n",
        "model = InceptionV22Vec()\n",
        "sample = model.read('https://getvectorai.com/assets/hub-logo-with-text.png')\n",
        "vector = model.encode(sample)\n",
        "len(vector), vector[:10]"
      ],
      "execution_count": null,
      "outputs": []
    },
    {
      "cell_type": "code",
      "metadata": {
        "id": "Ffa-U63XysKS"
      },
      "source": [
        "from vectorhub.encoders.image.tfhub import InceptionV32Vec\n",
        "model = InceptionV32Vec()\n",
        "sample = model.read('https://getvectorai.com/assets/hub-logo-with-text.png')\n",
        "vector = model.encode(sample)\n",
        "len(vector), vector[:10]"
      ],
      "execution_count": null,
      "outputs": []
    },
    {
      "cell_type": "markdown",
      "metadata": {
        "id": "fC4kpr6gzxf2"
      },
      "source": [
        "### Resnet2Vec\n",
        "Resnet"
      ]
    },
    {
      "cell_type": "code",
      "metadata": {
        "id": "2Iwf-oPgzxf4"
      },
      "source": [
        "from vectorhub.encoders.image.tfhub import ResnetV12Vec\n",
        "model = ResnetV12Vec()\n",
        "sample = model.read('https://getvectorai.com/assets/hub-logo-with-text.png')\n",
        "vector = model.encode(sample)\n",
        "len(vector), vector[:10]"
      ],
      "execution_count": null,
      "outputs": []
    },
    {
      "cell_type": "code",
      "metadata": {
        "id": "GgxYSsBlz9Hp"
      },
      "source": [
        "from vectorhub.encoders.image.tfhub import ResnetV22Vec\n",
        "model = ResnetV22Vec()\n",
        "sample = model.read('https://getvectorai.com/assets/hub-logo-with-text.png')\n",
        "vector = model.encode(sample)\n",
        "len(vector), vector[:10]"
      ],
      "execution_count": null,
      "outputs": []
    },
    {
      "cell_type": "markdown",
      "metadata": {
        "id": "GH-vWB9zz4v1"
      },
      "source": [
        "### InceptionResnet2Vec\n",
        "Inception Resnet"
      ]
    },
    {
      "cell_type": "code",
      "metadata": {
        "id": "KtdTT1k2z4v1"
      },
      "source": [
        "from vectorhub.encoders.image.tfhub import InceptionResnet2Vec\n",
        "model = InceptionResnet2Vec()\n",
        "sample = model.read('https://getvectorai.com/assets/hub-logo-with-text.png')\n",
        "vector = model.encode(sample)\n",
        "len(vector), vector[:10]"
      ],
      "execution_count": null,
      "outputs": []
    },
    {
      "cell_type": "markdown",
      "metadata": {
        "id": "Z4fiXY2r0GCE"
      },
      "source": [
        "### MobileNet2Vec\n",
        "MobileNet"
      ]
    },
    {
      "cell_type": "code",
      "metadata": {
        "id": "iZ9m22zm0GCF"
      },
      "source": [
        "from vectorhub.encoders.image.tfhub import MobileNetV12Vec\n",
        "model = MobileNetV12Vec('https://tfhub.dev/google/imagenet/mobilenet_v1_025_224/feature_vector/4', image_dimensions=224)\n",
        "sample = model.read('https://getvectorai.com/assets/hub-logo-with-text.png')\n",
        "vector = model.encode(sample)\n",
        "len(vector), vector[:10]"
      ],
      "execution_count": null,
      "outputs": []
    },
    {
      "cell_type": "code",
      "metadata": {
        "id": "kV0Kc50U0Liu"
      },
      "source": [
        "from vectorhub.encoders.image.tfhub import MobileNetV22Vec\n",
        "model = MobileNetV22Vec()\n",
        "sample = model.read('https://getvectorai.com/assets/hub-logo-with-text.png')\n",
        "vector = model.encode(sample)\n",
        "len(vector), vector[:10]"
      ],
      "execution_count": null,
      "outputs": []
    },
    {
      "cell_type": "markdown",
      "metadata": {
        "id": "YhrHSHu71-av"
      },
      "source": [
        "# Audio2Vec - Turn Audio to Vectors"
      ]
    },
    {
      "cell_type": "markdown",
      "metadata": {
        "id": "F6Brb36M2Ci_"
      },
      "source": [
        "## TFHub Models\n",
        "!pip install vectorhub[encoders-audio-tfhub]"
      ]
    },
    {
      "cell_type": "markdown",
      "metadata": {
        "id": "wsAD7g-S2GNm"
      },
      "source": [
        "### SpeechEmbedding2Vec\n",
        "Speech Embedding"
      ]
    },
    {
      "cell_type": "code",
      "metadata": {
        "id": "OJ9YCCau0NNS"
      },
      "source": [
        "from vectorhub.encoders.audio.tfhub import SpeechEmbedding2Vec\n",
        "model = SpeechEmbedding2Vec()\n",
        "sample = model.read('https://vecsearch-bucket.s3.us-east-2.amazonaws.com/voices/common_voice_en_2.wav')\n",
        "vector = model.encode(sample)\n",
        "len(vector), vector[:10]"
      ],
      "execution_count": null,
      "outputs": []
    },
    {
      "cell_type": "markdown",
      "metadata": {
        "id": "KKKsWl3T2dM7"
      },
      "source": [
        "### Trill2Vec\n",
        "Triplet Loss Network"
      ]
    },
    {
      "cell_type": "code",
      "metadata": {
        "id": "s77eflZ12dM7"
      },
      "source": [
        "from vectorhub.encoders.audio.tfhub import Trill2Vec\n",
        "model = Trill2Vec()\n",
        "sample = model.read('https://vecsearch-bucket.s3.us-east-2.amazonaws.com/voices/common_voice_en_2.wav')\n",
        "vector = model.encode(sample)\n",
        "len(vector), vector[:10]"
      ],
      "execution_count": null,
      "outputs": []
    },
    {
      "cell_type": "code",
      "metadata": {
        "id": "aE7zzZqy2i_L"
      },
      "source": [
        "from vectorhub.encoders.audio.tfhub import TrillDistilled2Vec\n",
        "model = TrillDistilled2Vec()\n",
        "sample = model.read('https://vecsearch-bucket.s3.us-east-2.amazonaws.com/voices/common_voice_en_2.wav')\n",
        "vector = model.encode(sample)\n",
        "len(vector), vector[:10]"
      ],
      "execution_count": null,
      "outputs": []
    },
    {
      "cell_type": "markdown",
      "metadata": {
        "id": "n3sLZdSF2dmF"
      },
      "source": [
        "### Vggish2Vec\n",
        "Vggish"
      ]
    },
    {
      "cell_type": "code",
      "metadata": {
        "id": "AJJYj3Ar2dmF"
      },
      "source": [
        "from vectorhub.encoders.audio.tfhub import Vggish2Vec\n",
        "model = Vggish2Vec()\n",
        "sample = model.read('https://vecsearch-bucket.s3.us-east-2.amazonaws.com/voices/common_voice_en_2.wav')\n",
        "vector = model.encode(sample)\n",
        "len(vector), vector[:10]"
      ],
      "execution_count": null,
      "outputs": []
    },
    {
      "cell_type": "markdown",
      "metadata": {
        "id": "hJaz-wJQ4CY4"
      },
      "source": [
        "### Yamnet2Vec\n",
        "Yamnet"
      ]
    },
    {
      "cell_type": "code",
      "metadata": {
        "id": "UzR1aUP64CY5"
      },
      "source": [
        "from vectorhub.encoders.audio.tfhub import Yamnet2Vec\n",
        "model = Yamnet2Vec()\n",
        "sample = model.read('https://vecsearch-bucket.s3.us-east-2.amazonaws.com/voices/common_voice_en_2.wav')\n",
        "vector = model.encode(sample)\n",
        "len(vector), vector[:10]"
      ],
      "execution_count": null,
      "outputs": []
    },
    {
      "cell_type": "markdown",
      "metadata": {
        "id": "O65zP25r4Yih"
      },
      "source": [
        "## Pytorch Fairseq Models\n",
        "!pip install vectorhub[encoders-audio-pytorch]"
      ]
    },
    {
      "cell_type": "markdown",
      "metadata": {
        "id": "PHPBhmAg4kPq"
      },
      "source": [
        "### Wav2Vec\n",
        "Wav2Vec 2.0"
      ]
    },
    {
      "cell_type": "code",
      "metadata": {
        "id": "di_lTXIZ4emd"
      },
      "source": [
        "from vectorhub.encoders.audio.pytorch import Wav2Vec\n",
        "model = Wav2Vec()\n",
        "sample = model.read('https://vecsearch-bucket.s3.us-east-2.amazonaws.com/voices/common_voice_en_2.wav')\n",
        "vector = model.encode(sample)\n",
        "len(vector), vector[:10]"
      ],
      "execution_count": null,
      "outputs": []
    },
    {
      "cell_type": "markdown",
      "metadata": {
        "id": "vI2baQYw4whr"
      },
      "source": [
        "# TextText2Vec - Turn 2 Different Type of Text to vectors. E.g. Question Answering"
      ]
    },
    {
      "cell_type": "markdown",
      "metadata": {
        "id": "YaVKAIc3489m"
      },
      "source": [
        "## QA TFHub Models\n",
        "!pip install vectorhub[encoders-text-tfhub]"
      ]
    },
    {
      "cell_type": "markdown",
      "metadata": {
        "id": "VVnZDk4B5iYr"
      },
      "source": [
        "### USEQA2Vec\n",
        "Unviersal Sentence Encoder Question Answering"
      ]
    },
    {
      "cell_type": "code",
      "metadata": {
        "id": "7dTrLZFR5o52"
      },
      "source": [
        "from vectorhub.bi_encoders.text_text.tfhub import USEQA2Vec\n",
        "model = USEQA2Vec()\n",
        "q_vector = model.encode_question('How is the weather today?')\n",
        "a_vector = model.encode_answer('The weather is great today.')\n",
        "len(q_vector), q_vector[:10], len(a_vector), a_vector[:10]"
      ],
      "execution_count": null,
      "outputs": []
    },
    {
      "cell_type": "markdown",
      "metadata": {
        "id": "YVHdtqZG5rZd"
      },
      "source": [
        "### USEMultieQA2Vec\n",
        "Unviersal Sentence Encoder Mulitlingual Question Answering"
      ]
    },
    {
      "cell_type": "code",
      "metadata": {
        "id": "DEEAsNNx43Pn"
      },
      "source": [
        "from vectorhub.bi_encoders.text_text.tfhub import USEMultiQA2Vec\n",
        "model = USEMultiQA2Vec()\n",
        "q_vector = model.encode_question('How is the weather today?')\n",
        "a_vector = model.encode_answer('The weather is great today.')\n",
        "len(q_vector), q_vector[:10], len(a_vector), a_vector[:10]"
      ],
      "execution_count": null,
      "outputs": []
    },
    {
      "cell_type": "markdown",
      "metadata": {
        "id": "vvuiYUCh_glf"
      },
      "source": [
        "### LAReQA2Vec\n",
        "Language-agnostic Question Answering model for retrieving answers from a multilingual candidate pool"
      ]
    },
    {
      "cell_type": "code",
      "metadata": {
        "id": "-ZU4VYPG5L31"
      },
      "source": [
        "from vectorhub.bi_encoders.text_text.tfhub import LAReQA2Vec\n",
        "model = LAReQA2Vec()\n",
        "q_vector = model.encode_question('How is the weather today?')\n",
        "a_vector = model.encode_answer('The weather is great today.')\n",
        "len(q_vector), q_vector[:10], len(a_vector), a_vector[:10]"
      ],
      "execution_count": null,
      "outputs": []
    },
    {
      "cell_type": "markdown",
      "metadata": {
        "id": "-zIUEwxg5-n5"
      },
      "source": [
        "## Pytorch Transformers"
      ]
    },
    {
      "cell_type": "markdown",
      "metadata": {
        "id": "ZYEQfi7K5zz-"
      },
      "source": [
        "### DPR2Vec - By Facebook \n",
        "Dense Passage Retrieval"
      ]
    },
    {
      "cell_type": "code",
      "metadata": {
        "id": "GFOs1v3Q5zz_"
      },
      "source": [
        "from vectorhub.bi_encoders.text_text.torch_transformers import DPR2Vec\n",
        "model = DPR2Vec()\n",
        "q_vector = model.encode_question('How is the weather today?')\n",
        "a_vector = model.encode_answer('The weather is great today.')\n",
        "len(q_vector), q_vector[:10], len(a_vector), a_vector[:10]"
      ],
      "execution_count": null,
      "outputs": []
    },
    {
      "cell_type": "code",
      "metadata": {
        "id": "51_ihWuC7Jzm"
      },
      "source": [
        ""
      ],
      "execution_count": null,
      "outputs": []
    }
  ]
}