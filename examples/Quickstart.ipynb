{
  "nbformat": 4,
  "nbformat_minor": 0,
  "metadata": {
    "colab": {
      "name": "VectorHub.ipynb",
      "provenance": [],
      "collapsed_sections": [],
      "machine_shape": "hm"
    },
    "kernelspec": {
      "name": "python3",
      "display_name": "Python 3"
    },
    "accelerator": "GPU",
    "widgets": {
      "application/vnd.jupyter.widget-state+json": {
        "10a7a326a9d24d72a0e912a02b07dc7b": {
          "model_module": "@jupyter-widgets/controls",
          "model_name": "HBoxModel",
          "state": {
            "_view_name": "HBoxView",
            "_dom_classes": [],
            "_model_name": "HBoxModel",
            "_view_module": "@jupyter-widgets/controls",
            "_model_module_version": "1.5.0",
            "_view_count": null,
            "_view_module_version": "1.5.0",
            "box_style": "",
            "layout": "IPY_MODEL_e8d18ff4879647288637fe05bcfcd326",
            "_model_module": "@jupyter-widgets/controls",
            "children": [
              "IPY_MODEL_8c7b1b6de51640f2baccfb0c6613c3f6",
              "IPY_MODEL_f74d902ee7914d9e92e3ee1499b95f9b"
            ]
          }
        },
        "e8d18ff4879647288637fe05bcfcd326": {
          "model_module": "@jupyter-widgets/base",
          "model_name": "LayoutModel",
          "state": {
            "_view_name": "LayoutView",
            "grid_template_rows": null,
            "right": null,
            "justify_content": null,
            "_view_module": "@jupyter-widgets/base",
            "overflow": null,
            "_model_module_version": "1.2.0",
            "_view_count": null,
            "flex_flow": null,
            "width": null,
            "min_width": null,
            "border": null,
            "align_items": null,
            "bottom": null,
            "_model_module": "@jupyter-widgets/base",
            "top": null,
            "grid_column": null,
            "overflow_y": null,
            "overflow_x": null,
            "grid_auto_flow": null,
            "grid_area": null,
            "grid_template_columns": null,
            "flex": null,
            "_model_name": "LayoutModel",
            "justify_items": null,
            "grid_row": null,
            "max_height": null,
            "align_content": null,
            "visibility": null,
            "align_self": null,
            "height": null,
            "min_height": null,
            "padding": null,
            "grid_auto_rows": null,
            "grid_gap": null,
            "max_width": null,
            "order": null,
            "_view_module_version": "1.2.0",
            "grid_template_areas": null,
            "object_position": null,
            "object_fit": null,
            "grid_auto_columns": null,
            "margin": null,
            "display": null,
            "left": null
          }
        },
        "8c7b1b6de51640f2baccfb0c6613c3f6": {
          "model_module": "@jupyter-widgets/controls",
          "model_name": "FloatProgressModel",
          "state": {
            "_view_name": "ProgressView",
            "style": "IPY_MODEL_eba2ff9d10a849a4bd67ac768d39eeda",
            "_dom_classes": [],
            "description": "Downloading: 100%",
            "_model_name": "FloatProgressModel",
            "bar_style": "success",
            "max": 433,
            "_view_module": "@jupyter-widgets/controls",
            "_model_module_version": "1.5.0",
            "value": 433,
            "_view_count": null,
            "_view_module_version": "1.5.0",
            "orientation": "horizontal",
            "min": 0,
            "description_tooltip": null,
            "_model_module": "@jupyter-widgets/controls",
            "layout": "IPY_MODEL_3a6c1bb3c8334654963c2cde9ae78e86"
          }
        },
        "f74d902ee7914d9e92e3ee1499b95f9b": {
          "model_module": "@jupyter-widgets/controls",
          "model_name": "HTMLModel",
          "state": {
            "_view_name": "HTMLView",
            "style": "IPY_MODEL_12e86dc0691c4c4f8110069ebccacbd8",
            "_dom_classes": [],
            "description": "",
            "_model_name": "HTMLModel",
            "placeholder": "​",
            "_view_module": "@jupyter-widgets/controls",
            "_model_module_version": "1.5.0",
            "value": " 433/433 [00:10&lt;00:00, 42.4B/s]",
            "_view_count": null,
            "_view_module_version": "1.5.0",
            "description_tooltip": null,
            "_model_module": "@jupyter-widgets/controls",
            "layout": "IPY_MODEL_e62e753741ac499cb50597d0cb14136b"
          }
        },
        "eba2ff9d10a849a4bd67ac768d39eeda": {
          "model_module": "@jupyter-widgets/controls",
          "model_name": "ProgressStyleModel",
          "state": {
            "_view_name": "StyleView",
            "_model_name": "ProgressStyleModel",
            "description_width": "initial",
            "_view_module": "@jupyter-widgets/base",
            "_model_module_version": "1.5.0",
            "_view_count": null,
            "_view_module_version": "1.2.0",
            "bar_color": null,
            "_model_module": "@jupyter-widgets/controls"
          }
        },
        "3a6c1bb3c8334654963c2cde9ae78e86": {
          "model_module": "@jupyter-widgets/base",
          "model_name": "LayoutModel",
          "state": {
            "_view_name": "LayoutView",
            "grid_template_rows": null,
            "right": null,
            "justify_content": null,
            "_view_module": "@jupyter-widgets/base",
            "overflow": null,
            "_model_module_version": "1.2.0",
            "_view_count": null,
            "flex_flow": null,
            "width": null,
            "min_width": null,
            "border": null,
            "align_items": null,
            "bottom": null,
            "_model_module": "@jupyter-widgets/base",
            "top": null,
            "grid_column": null,
            "overflow_y": null,
            "overflow_x": null,
            "grid_auto_flow": null,
            "grid_area": null,
            "grid_template_columns": null,
            "flex": null,
            "_model_name": "LayoutModel",
            "justify_items": null,
            "grid_row": null,
            "max_height": null,
            "align_content": null,
            "visibility": null,
            "align_self": null,
            "height": null,
            "min_height": null,
            "padding": null,
            "grid_auto_rows": null,
            "grid_gap": null,
            "max_width": null,
            "order": null,
            "_view_module_version": "1.2.0",
            "grid_template_areas": null,
            "object_position": null,
            "object_fit": null,
            "grid_auto_columns": null,
            "margin": null,
            "display": null,
            "left": null
          }
        },
        "12e86dc0691c4c4f8110069ebccacbd8": {
          "model_module": "@jupyter-widgets/controls",
          "model_name": "DescriptionStyleModel",
          "state": {
            "_view_name": "StyleView",
            "_model_name": "DescriptionStyleModel",
            "description_width": "",
            "_view_module": "@jupyter-widgets/base",
            "_model_module_version": "1.5.0",
            "_view_count": null,
            "_view_module_version": "1.2.0",
            "_model_module": "@jupyter-widgets/controls"
          }
        },
        "e62e753741ac499cb50597d0cb14136b": {
          "model_module": "@jupyter-widgets/base",
          "model_name": "LayoutModel",
          "state": {
            "_view_name": "LayoutView",
            "grid_template_rows": null,
            "right": null,
            "justify_content": null,
            "_view_module": "@jupyter-widgets/base",
            "overflow": null,
            "_model_module_version": "1.2.0",
            "_view_count": null,
            "flex_flow": null,
            "width": null,
            "min_width": null,
            "border": null,
            "align_items": null,
            "bottom": null,
            "_model_module": "@jupyter-widgets/base",
            "top": null,
            "grid_column": null,
            "overflow_y": null,
            "overflow_x": null,
            "grid_auto_flow": null,
            "grid_area": null,
            "grid_template_columns": null,
            "flex": null,
            "_model_name": "LayoutModel",
            "justify_items": null,
            "grid_row": null,
            "max_height": null,
            "align_content": null,
            "visibility": null,
            "align_self": null,
            "height": null,
            "min_height": null,
            "padding": null,
            "grid_auto_rows": null,
            "grid_gap": null,
            "max_width": null,
            "order": null,
            "_view_module_version": "1.2.0",
            "grid_template_areas": null,
            "object_position": null,
            "object_fit": null,
            "grid_auto_columns": null,
            "margin": null,
            "display": null,
            "left": null
          }
        },
        "11043cb2bde147fba0bab6ceef446a35": {
          "model_module": "@jupyter-widgets/controls",
          "model_name": "HBoxModel",
          "state": {
            "_view_name": "HBoxView",
            "_dom_classes": [],
            "_model_name": "HBoxModel",
            "_view_module": "@jupyter-widgets/controls",
            "_model_module_version": "1.5.0",
            "_view_count": null,
            "_view_module_version": "1.5.0",
            "box_style": "",
            "layout": "IPY_MODEL_6aed205579554f818283128a75b630b6",
            "_model_module": "@jupyter-widgets/controls",
            "children": [
              "IPY_MODEL_5093f3fca112492f815574f75a059afc",
              "IPY_MODEL_f9f33ccfcb254fccadf70eb33a9fb244"
            ]
          }
        },
        "6aed205579554f818283128a75b630b6": {
          "model_module": "@jupyter-widgets/base",
          "model_name": "LayoutModel",
          "state": {
            "_view_name": "LayoutView",
            "grid_template_rows": null,
            "right": null,
            "justify_content": null,
            "_view_module": "@jupyter-widgets/base",
            "overflow": null,
            "_model_module_version": "1.2.0",
            "_view_count": null,
            "flex_flow": null,
            "width": null,
            "min_width": null,
            "border": null,
            "align_items": null,
            "bottom": null,
            "_model_module": "@jupyter-widgets/base",
            "top": null,
            "grid_column": null,
            "overflow_y": null,
            "overflow_x": null,
            "grid_auto_flow": null,
            "grid_area": null,
            "grid_template_columns": null,
            "flex": null,
            "_model_name": "LayoutModel",
            "justify_items": null,
            "grid_row": null,
            "max_height": null,
            "align_content": null,
            "visibility": null,
            "align_self": null,
            "height": null,
            "min_height": null,
            "padding": null,
            "grid_auto_rows": null,
            "grid_gap": null,
            "max_width": null,
            "order": null,
            "_view_module_version": "1.2.0",
            "grid_template_areas": null,
            "object_position": null,
            "object_fit": null,
            "grid_auto_columns": null,
            "margin": null,
            "display": null,
            "left": null
          }
        },
        "5093f3fca112492f815574f75a059afc": {
          "model_module": "@jupyter-widgets/controls",
          "model_name": "FloatProgressModel",
          "state": {
            "_view_name": "ProgressView",
            "style": "IPY_MODEL_ff36308704064ae7a41464bc4c407e65",
            "_dom_classes": [],
            "description": "Downloading: 100%",
            "_model_name": "FloatProgressModel",
            "bar_style": "success",
            "max": 440473133,
            "_view_module": "@jupyter-widgets/controls",
            "_model_module_version": "1.5.0",
            "value": 440473133,
            "_view_count": null,
            "_view_module_version": "1.5.0",
            "orientation": "horizontal",
            "min": 0,
            "description_tooltip": null,
            "_model_module": "@jupyter-widgets/controls",
            "layout": "IPY_MODEL_532600a5a4f446de8af1f8dbe503caa2"
          }
        },
        "f9f33ccfcb254fccadf70eb33a9fb244": {
          "model_module": "@jupyter-widgets/controls",
          "model_name": "HTMLModel",
          "state": {
            "_view_name": "HTMLView",
            "style": "IPY_MODEL_4bfc0f8acb2f4c068561c743eae5e67e",
            "_dom_classes": [],
            "description": "",
            "_model_name": "HTMLModel",
            "placeholder": "​",
            "_view_module": "@jupyter-widgets/controls",
            "_model_module_version": "1.5.0",
            "value": " 440M/440M [00:06&lt;00:00, 66.2MB/s]",
            "_view_count": null,
            "_view_module_version": "1.5.0",
            "description_tooltip": null,
            "_model_module": "@jupyter-widgets/controls",
            "layout": "IPY_MODEL_a8d1f129e80b411aabae0dae733584ca"
          }
        },
        "ff36308704064ae7a41464bc4c407e65": {
          "model_module": "@jupyter-widgets/controls",
          "model_name": "ProgressStyleModel",
          "state": {
            "_view_name": "StyleView",
            "_model_name": "ProgressStyleModel",
            "description_width": "initial",
            "_view_module": "@jupyter-widgets/base",
            "_model_module_version": "1.5.0",
            "_view_count": null,
            "_view_module_version": "1.2.0",
            "bar_color": null,
            "_model_module": "@jupyter-widgets/controls"
          }
        },
        "532600a5a4f446de8af1f8dbe503caa2": {
          "model_module": "@jupyter-widgets/base",
          "model_name": "LayoutModel",
          "state": {
            "_view_name": "LayoutView",
            "grid_template_rows": null,
            "right": null,
            "justify_content": null,
            "_view_module": "@jupyter-widgets/base",
            "overflow": null,
            "_model_module_version": "1.2.0",
            "_view_count": null,
            "flex_flow": null,
            "width": null,
            "min_width": null,
            "border": null,
            "align_items": null,
            "bottom": null,
            "_model_module": "@jupyter-widgets/base",
            "top": null,
            "grid_column": null,
            "overflow_y": null,
            "overflow_x": null,
            "grid_auto_flow": null,
            "grid_area": null,
            "grid_template_columns": null,
            "flex": null,
            "_model_name": "LayoutModel",
            "justify_items": null,
            "grid_row": null,
            "max_height": null,
            "align_content": null,
            "visibility": null,
            "align_self": null,
            "height": null,
            "min_height": null,
            "padding": null,
            "grid_auto_rows": null,
            "grid_gap": null,
            "max_width": null,
            "order": null,
            "_view_module_version": "1.2.0",
            "grid_template_areas": null,
            "object_position": null,
            "object_fit": null,
            "grid_auto_columns": null,
            "margin": null,
            "display": null,
            "left": null
          }
        },
        "4bfc0f8acb2f4c068561c743eae5e67e": {
          "model_module": "@jupyter-widgets/controls",
          "model_name": "DescriptionStyleModel",
          "state": {
            "_view_name": "StyleView",
            "_model_name": "DescriptionStyleModel",
            "description_width": "",
            "_view_module": "@jupyter-widgets/base",
            "_model_module_version": "1.5.0",
            "_view_count": null,
            "_view_module_version": "1.2.0",
            "_model_module": "@jupyter-widgets/controls"
          }
        },
        "a8d1f129e80b411aabae0dae733584ca": {
          "model_module": "@jupyter-widgets/base",
          "model_name": "LayoutModel",
          "state": {
            "_view_name": "LayoutView",
            "grid_template_rows": null,
            "right": null,
            "justify_content": null,
            "_view_module": "@jupyter-widgets/base",
            "overflow": null,
            "_model_module_version": "1.2.0",
            "_view_count": null,
            "flex_flow": null,
            "width": null,
            "min_width": null,
            "border": null,
            "align_items": null,
            "bottom": null,
            "_model_module": "@jupyter-widgets/base",
            "top": null,
            "grid_column": null,
            "overflow_y": null,
            "overflow_x": null,
            "grid_auto_flow": null,
            "grid_area": null,
            "grid_template_columns": null,
            "flex": null,
            "_model_name": "LayoutModel",
            "justify_items": null,
            "grid_row": null,
            "max_height": null,
            "align_content": null,
            "visibility": null,
            "align_self": null,
            "height": null,
            "min_height": null,
            "padding": null,
            "grid_auto_rows": null,
            "grid_gap": null,
            "max_width": null,
            "order": null,
            "_view_module_version": "1.2.0",
            "grid_template_areas": null,
            "object_position": null,
            "object_fit": null,
            "grid_auto_columns": null,
            "margin": null,
            "display": null,
            "left": null
          }
        },
        "59f65145880f4c3ea975643978c1544a": {
          "model_module": "@jupyter-widgets/controls",
          "model_name": "HBoxModel",
          "state": {
            "_view_name": "HBoxView",
            "_dom_classes": [],
            "_model_name": "HBoxModel",
            "_view_module": "@jupyter-widgets/controls",
            "_model_module_version": "1.5.0",
            "_view_count": null,
            "_view_module_version": "1.5.0",
            "box_style": "",
            "layout": "IPY_MODEL_6119357bc98245bab1a9f8b7724e97b5",
            "_model_module": "@jupyter-widgets/controls",
            "children": [
              "IPY_MODEL_c2678746f9a04e0fa1968833318ff25e",
              "IPY_MODEL_7f85413cfdc4424a9fb18f4d279f8dc6"
            ]
          }
        },
        "6119357bc98245bab1a9f8b7724e97b5": {
          "model_module": "@jupyter-widgets/base",
          "model_name": "LayoutModel",
          "state": {
            "_view_name": "LayoutView",
            "grid_template_rows": null,
            "right": null,
            "justify_content": null,
            "_view_module": "@jupyter-widgets/base",
            "overflow": null,
            "_model_module_version": "1.2.0",
            "_view_count": null,
            "flex_flow": null,
            "width": null,
            "min_width": null,
            "border": null,
            "align_items": null,
            "bottom": null,
            "_model_module": "@jupyter-widgets/base",
            "top": null,
            "grid_column": null,
            "overflow_y": null,
            "overflow_x": null,
            "grid_auto_flow": null,
            "grid_area": null,
            "grid_template_columns": null,
            "flex": null,
            "_model_name": "LayoutModel",
            "justify_items": null,
            "grid_row": null,
            "max_height": null,
            "align_content": null,
            "visibility": null,
            "align_self": null,
            "height": null,
            "min_height": null,
            "padding": null,
            "grid_auto_rows": null,
            "grid_gap": null,
            "max_width": null,
            "order": null,
            "_view_module_version": "1.2.0",
            "grid_template_areas": null,
            "object_position": null,
            "object_fit": null,
            "grid_auto_columns": null,
            "margin": null,
            "display": null,
            "left": null
          }
        },
        "c2678746f9a04e0fa1968833318ff25e": {
          "model_module": "@jupyter-widgets/controls",
          "model_name": "FloatProgressModel",
          "state": {
            "_view_name": "ProgressView",
            "style": "IPY_MODEL_e9d93263cf984496b52cf2280c85bdc4",
            "_dom_classes": [],
            "description": "Downloading: 100%",
            "_model_name": "FloatProgressModel",
            "bar_style": "success",
            "max": 231508,
            "_view_module": "@jupyter-widgets/controls",
            "_model_module_version": "1.5.0",
            "value": 231508,
            "_view_count": null,
            "_view_module_version": "1.5.0",
            "orientation": "horizontal",
            "min": 0,
            "description_tooltip": null,
            "_model_module": "@jupyter-widgets/controls",
            "layout": "IPY_MODEL_bff44fc5c6194fa19343cda7bfea99ad"
          }
        },
        "7f85413cfdc4424a9fb18f4d279f8dc6": {
          "model_module": "@jupyter-widgets/controls",
          "model_name": "HTMLModel",
          "state": {
            "_view_name": "HTMLView",
            "style": "IPY_MODEL_04d0c10e9f2644dd99b2e484b80621ce",
            "_dom_classes": [],
            "description": "",
            "_model_name": "HTMLModel",
            "placeholder": "​",
            "_view_module": "@jupyter-widgets/controls",
            "_model_module_version": "1.5.0",
            "value": " 232k/232k [00:00&lt;00:00, 927kB/s]",
            "_view_count": null,
            "_view_module_version": "1.5.0",
            "description_tooltip": null,
            "_model_module": "@jupyter-widgets/controls",
            "layout": "IPY_MODEL_a4c3f97532d24f349af8f145c997ab4d"
          }
        },
        "e9d93263cf984496b52cf2280c85bdc4": {
          "model_module": "@jupyter-widgets/controls",
          "model_name": "ProgressStyleModel",
          "state": {
            "_view_name": "StyleView",
            "_model_name": "ProgressStyleModel",
            "description_width": "initial",
            "_view_module": "@jupyter-widgets/base",
            "_model_module_version": "1.5.0",
            "_view_count": null,
            "_view_module_version": "1.2.0",
            "bar_color": null,
            "_model_module": "@jupyter-widgets/controls"
          }
        },
        "bff44fc5c6194fa19343cda7bfea99ad": {
          "model_module": "@jupyter-widgets/base",
          "model_name": "LayoutModel",
          "state": {
            "_view_name": "LayoutView",
            "grid_template_rows": null,
            "right": null,
            "justify_content": null,
            "_view_module": "@jupyter-widgets/base",
            "overflow": null,
            "_model_module_version": "1.2.0",
            "_view_count": null,
            "flex_flow": null,
            "width": null,
            "min_width": null,
            "border": null,
            "align_items": null,
            "bottom": null,
            "_model_module": "@jupyter-widgets/base",
            "top": null,
            "grid_column": null,
            "overflow_y": null,
            "overflow_x": null,
            "grid_auto_flow": null,
            "grid_area": null,
            "grid_template_columns": null,
            "flex": null,
            "_model_name": "LayoutModel",
            "justify_items": null,
            "grid_row": null,
            "max_height": null,
            "align_content": null,
            "visibility": null,
            "align_self": null,
            "height": null,
            "min_height": null,
            "padding": null,
            "grid_auto_rows": null,
            "grid_gap": null,
            "max_width": null,
            "order": null,
            "_view_module_version": "1.2.0",
            "grid_template_areas": null,
            "object_position": null,
            "object_fit": null,
            "grid_auto_columns": null,
            "margin": null,
            "display": null,
            "left": null
          }
        },
        "04d0c10e9f2644dd99b2e484b80621ce": {
          "model_module": "@jupyter-widgets/controls",
          "model_name": "DescriptionStyleModel",
          "state": {
            "_view_name": "StyleView",
            "_model_name": "DescriptionStyleModel",
            "description_width": "",
            "_view_module": "@jupyter-widgets/base",
            "_model_module_version": "1.5.0",
            "_view_count": null,
            "_view_module_version": "1.2.0",
            "_model_module": "@jupyter-widgets/controls"
          }
        },
        "a4c3f97532d24f349af8f145c997ab4d": {
          "model_module": "@jupyter-widgets/base",
          "model_name": "LayoutModel",
          "state": {
            "_view_name": "LayoutView",
            "grid_template_rows": null,
            "right": null,
            "justify_content": null,
            "_view_module": "@jupyter-widgets/base",
            "overflow": null,
            "_model_module_version": "1.2.0",
            "_view_count": null,
            "flex_flow": null,
            "width": null,
            "min_width": null,
            "border": null,
            "align_items": null,
            "bottom": null,
            "_model_module": "@jupyter-widgets/base",
            "top": null,
            "grid_column": null,
            "overflow_y": null,
            "overflow_x": null,
            "grid_auto_flow": null,
            "grid_area": null,
            "grid_template_columns": null,
            "flex": null,
            "_model_name": "LayoutModel",
            "justify_items": null,
            "grid_row": null,
            "max_height": null,
            "align_content": null,
            "visibility": null,
            "align_self": null,
            "height": null,
            "min_height": null,
            "padding": null,
            "grid_auto_rows": null,
            "grid_gap": null,
            "max_width": null,
            "order": null,
            "_view_module_version": "1.2.0",
            "grid_template_areas": null,
            "object_position": null,
            "object_fit": null,
            "grid_auto_columns": null,
            "margin": null,
            "display": null,
            "left": null
          }
        },
        "27b4458473054050a1997b160d502d8d": {
          "model_module": "@jupyter-widgets/controls",
          "model_name": "HBoxModel",
          "state": {
            "_view_name": "HBoxView",
            "_dom_classes": [],
            "_model_name": "HBoxModel",
            "_view_module": "@jupyter-widgets/controls",
            "_model_module_version": "1.5.0",
            "_view_count": null,
            "_view_module_version": "1.5.0",
            "box_style": "",
            "layout": "IPY_MODEL_689844b256034e14a6ea9aaaeaad34b4",
            "_model_module": "@jupyter-widgets/controls",
            "children": [
              "IPY_MODEL_fd428e37db8741afaa5a9805dcd29e5d",
              "IPY_MODEL_31f65c6982954df8a00f2ff17872e5cb"
            ]
          }
        },
        "689844b256034e14a6ea9aaaeaad34b4": {
          "model_module": "@jupyter-widgets/base",
          "model_name": "LayoutModel",
          "state": {
            "_view_name": "LayoutView",
            "grid_template_rows": null,
            "right": null,
            "justify_content": null,
            "_view_module": "@jupyter-widgets/base",
            "overflow": null,
            "_model_module_version": "1.2.0",
            "_view_count": null,
            "flex_flow": null,
            "width": null,
            "min_width": null,
            "border": null,
            "align_items": null,
            "bottom": null,
            "_model_module": "@jupyter-widgets/base",
            "top": null,
            "grid_column": null,
            "overflow_y": null,
            "overflow_x": null,
            "grid_auto_flow": null,
            "grid_area": null,
            "grid_template_columns": null,
            "flex": null,
            "_model_name": "LayoutModel",
            "justify_items": null,
            "grid_row": null,
            "max_height": null,
            "align_content": null,
            "visibility": null,
            "align_self": null,
            "height": null,
            "min_height": null,
            "padding": null,
            "grid_auto_rows": null,
            "grid_gap": null,
            "max_width": null,
            "order": null,
            "_view_module_version": "1.2.0",
            "grid_template_areas": null,
            "object_position": null,
            "object_fit": null,
            "grid_auto_columns": null,
            "margin": null,
            "display": null,
            "left": null
          }
        },
        "fd428e37db8741afaa5a9805dcd29e5d": {
          "model_module": "@jupyter-widgets/controls",
          "model_name": "FloatProgressModel",
          "state": {
            "_view_name": "ProgressView",
            "style": "IPY_MODEL_c7668fa4508849c7bef7e15165f89826",
            "_dom_classes": [],
            "description": "Downloading: 100%",
            "_model_name": "FloatProgressModel",
            "bar_style": "success",
            "max": 536063208,
            "_view_module": "@jupyter-widgets/controls",
            "_model_module_version": "1.5.0",
            "value": 536063208,
            "_view_count": null,
            "_view_module_version": "1.5.0",
            "orientation": "horizontal",
            "min": 0,
            "description_tooltip": null,
            "_model_module": "@jupyter-widgets/controls",
            "layout": "IPY_MODEL_728a6cd994d34503890f634cd4670c56"
          }
        },
        "31f65c6982954df8a00f2ff17872e5cb": {
          "model_module": "@jupyter-widgets/controls",
          "model_name": "HTMLModel",
          "state": {
            "_view_name": "HTMLView",
            "style": "IPY_MODEL_a3ca4abf8e684658b1f1ed9c1dfa8f03",
            "_dom_classes": [],
            "description": "",
            "_model_name": "HTMLModel",
            "placeholder": "​",
            "_view_module": "@jupyter-widgets/controls",
            "_model_module_version": "1.5.0",
            "value": " 536M/536M [00:07&lt;00:00, 67.6MB/s]",
            "_view_count": null,
            "_view_module_version": "1.5.0",
            "description_tooltip": null,
            "_model_module": "@jupyter-widgets/controls",
            "layout": "IPY_MODEL_ad049ccdefd74201ae674782a16cbadc"
          }
        },
        "c7668fa4508849c7bef7e15165f89826": {
          "model_module": "@jupyter-widgets/controls",
          "model_name": "ProgressStyleModel",
          "state": {
            "_view_name": "StyleView",
            "_model_name": "ProgressStyleModel",
            "description_width": "initial",
            "_view_module": "@jupyter-widgets/base",
            "_model_module_version": "1.5.0",
            "_view_count": null,
            "_view_module_version": "1.2.0",
            "bar_color": null,
            "_model_module": "@jupyter-widgets/controls"
          }
        },
        "728a6cd994d34503890f634cd4670c56": {
          "model_module": "@jupyter-widgets/base",
          "model_name": "LayoutModel",
          "state": {
            "_view_name": "LayoutView",
            "grid_template_rows": null,
            "right": null,
            "justify_content": null,
            "_view_module": "@jupyter-widgets/base",
            "overflow": null,
            "_model_module_version": "1.2.0",
            "_view_count": null,
            "flex_flow": null,
            "width": null,
            "min_width": null,
            "border": null,
            "align_items": null,
            "bottom": null,
            "_model_module": "@jupyter-widgets/base",
            "top": null,
            "grid_column": null,
            "overflow_y": null,
            "overflow_x": null,
            "grid_auto_flow": null,
            "grid_area": null,
            "grid_template_columns": null,
            "flex": null,
            "_model_name": "LayoutModel",
            "justify_items": null,
            "grid_row": null,
            "max_height": null,
            "align_content": null,
            "visibility": null,
            "align_self": null,
            "height": null,
            "min_height": null,
            "padding": null,
            "grid_auto_rows": null,
            "grid_gap": null,
            "max_width": null,
            "order": null,
            "_view_module_version": "1.2.0",
            "grid_template_areas": null,
            "object_position": null,
            "object_fit": null,
            "grid_auto_columns": null,
            "margin": null,
            "display": null,
            "left": null
          }
        },
        "a3ca4abf8e684658b1f1ed9c1dfa8f03": {
          "model_module": "@jupyter-widgets/controls",
          "model_name": "DescriptionStyleModel",
          "state": {
            "_view_name": "StyleView",
            "_model_name": "DescriptionStyleModel",
            "description_width": "",
            "_view_module": "@jupyter-widgets/base",
            "_model_module_version": "1.5.0",
            "_view_count": null,
            "_view_module_version": "1.2.0",
            "_model_module": "@jupyter-widgets/controls"
          }
        },
        "ad049ccdefd74201ae674782a16cbadc": {
          "model_module": "@jupyter-widgets/base",
          "model_name": "LayoutModel",
          "state": {
            "_view_name": "LayoutView",
            "grid_template_rows": null,
            "right": null,
            "justify_content": null,
            "_view_module": "@jupyter-widgets/base",
            "overflow": null,
            "_model_module_version": "1.2.0",
            "_view_count": null,
            "flex_flow": null,
            "width": null,
            "min_width": null,
            "border": null,
            "align_items": null,
            "bottom": null,
            "_model_module": "@jupyter-widgets/base",
            "top": null,
            "grid_column": null,
            "overflow_y": null,
            "overflow_x": null,
            "grid_auto_flow": null,
            "grid_area": null,
            "grid_template_columns": null,
            "flex": null,
            "_model_name": "LayoutModel",
            "justify_items": null,
            "grid_row": null,
            "max_height": null,
            "align_content": null,
            "visibility": null,
            "align_self": null,
            "height": null,
            "min_height": null,
            "padding": null,
            "grid_auto_rows": null,
            "grid_gap": null,
            "max_width": null,
            "order": null,
            "_view_module_version": "1.2.0",
            "grid_template_areas": null,
            "object_position": null,
            "object_fit": null,
            "grid_auto_columns": null,
            "margin": null,
            "display": null,
            "left": null
          }
        },
        "6c0756b756814056a98b6fea42067eb7": {
          "model_module": "@jupyter-widgets/controls",
          "model_name": "HBoxModel",
          "state": {
            "_view_name": "HBoxView",
            "_dom_classes": [],
            "_model_name": "HBoxModel",
            "_view_module": "@jupyter-widgets/controls",
            "_model_module_version": "1.5.0",
            "_view_count": null,
            "_view_module_version": "1.5.0",
            "box_style": "",
            "layout": "IPY_MODEL_6aad6086cec746ecb35e3ee9686e9ecb",
            "_model_module": "@jupyter-widgets/controls",
            "children": [
              "IPY_MODEL_00deaf3ae9d14416a0c1c3af2b4ed892",
              "IPY_MODEL_b46e2e27e6da427bba35d37fa07c56cb"
            ]
          }
        },
        "6aad6086cec746ecb35e3ee9686e9ecb": {
          "model_module": "@jupyter-widgets/base",
          "model_name": "LayoutModel",
          "state": {
            "_view_name": "LayoutView",
            "grid_template_rows": null,
            "right": null,
            "justify_content": null,
            "_view_module": "@jupyter-widgets/base",
            "overflow": null,
            "_model_module_version": "1.2.0",
            "_view_count": null,
            "flex_flow": null,
            "width": null,
            "min_width": null,
            "border": null,
            "align_items": null,
            "bottom": null,
            "_model_module": "@jupyter-widgets/base",
            "top": null,
            "grid_column": null,
            "overflow_y": null,
            "overflow_x": null,
            "grid_auto_flow": null,
            "grid_area": null,
            "grid_template_columns": null,
            "flex": null,
            "_model_name": "LayoutModel",
            "justify_items": null,
            "grid_row": null,
            "max_height": null,
            "align_content": null,
            "visibility": null,
            "align_self": null,
            "height": null,
            "min_height": null,
            "padding": null,
            "grid_auto_rows": null,
            "grid_gap": null,
            "max_width": null,
            "order": null,
            "_view_module_version": "1.2.0",
            "grid_template_areas": null,
            "object_position": null,
            "object_fit": null,
            "grid_auto_columns": null,
            "margin": null,
            "display": null,
            "left": null
          }
        },
        "00deaf3ae9d14416a0c1c3af2b4ed892": {
          "model_module": "@jupyter-widgets/controls",
          "model_name": "FloatProgressModel",
          "state": {
            "_view_name": "ProgressView",
            "style": "IPY_MODEL_69cda9906f0b44e7bf077de9069198b1",
            "_dom_classes": [],
            "description": "100%",
            "_model_name": "FloatProgressModel",
            "bar_style": "success",
            "max": 950500491,
            "_view_module": "@jupyter-widgets/controls",
            "_model_module_version": "1.5.0",
            "value": 950500491,
            "_view_count": null,
            "_view_module_version": "1.5.0",
            "orientation": "horizontal",
            "min": 0,
            "description_tooltip": null,
            "_model_module": "@jupyter-widgets/controls",
            "layout": "IPY_MODEL_09142704d53248938668d64d44920f88"
          }
        },
        "b46e2e27e6da427bba35d37fa07c56cb": {
          "model_module": "@jupyter-widgets/controls",
          "model_name": "HTMLModel",
          "state": {
            "_view_name": "HTMLView",
            "style": "IPY_MODEL_a8599cb5c4974d6799d72435337ac40e",
            "_dom_classes": [],
            "description": "",
            "_model_name": "HTMLModel",
            "placeholder": "​",
            "_view_module": "@jupyter-widgets/controls",
            "_model_module_version": "1.5.0",
            "value": " 906M/906M [00:09&lt;00:00, 96.3MB/s]",
            "_view_count": null,
            "_view_module_version": "1.5.0",
            "description_tooltip": null,
            "_model_module": "@jupyter-widgets/controls",
            "layout": "IPY_MODEL_faf957de7821413c94538361daf1b155"
          }
        },
        "69cda9906f0b44e7bf077de9069198b1": {
          "model_module": "@jupyter-widgets/controls",
          "model_name": "ProgressStyleModel",
          "state": {
            "_view_name": "StyleView",
            "_model_name": "ProgressStyleModel",
            "description_width": "initial",
            "_view_module": "@jupyter-widgets/base",
            "_model_module_version": "1.5.0",
            "_view_count": null,
            "_view_module_version": "1.2.0",
            "bar_color": null,
            "_model_module": "@jupyter-widgets/controls"
          }
        },
        "09142704d53248938668d64d44920f88": {
          "model_module": "@jupyter-widgets/base",
          "model_name": "LayoutModel",
          "state": {
            "_view_name": "LayoutView",
            "grid_template_rows": null,
            "right": null,
            "justify_content": null,
            "_view_module": "@jupyter-widgets/base",
            "overflow": null,
            "_model_module_version": "1.2.0",
            "_view_count": null,
            "flex_flow": null,
            "width": null,
            "min_width": null,
            "border": null,
            "align_items": null,
            "bottom": null,
            "_model_module": "@jupyter-widgets/base",
            "top": null,
            "grid_column": null,
            "overflow_y": null,
            "overflow_x": null,
            "grid_auto_flow": null,
            "grid_area": null,
            "grid_template_columns": null,
            "flex": null,
            "_model_name": "LayoutModel",
            "justify_items": null,
            "grid_row": null,
            "max_height": null,
            "align_content": null,
            "visibility": null,
            "align_self": null,
            "height": null,
            "min_height": null,
            "padding": null,
            "grid_auto_rows": null,
            "grid_gap": null,
            "max_width": null,
            "order": null,
            "_view_module_version": "1.2.0",
            "grid_template_areas": null,
            "object_position": null,
            "object_fit": null,
            "grid_auto_columns": null,
            "margin": null,
            "display": null,
            "left": null
          }
        },
        "a8599cb5c4974d6799d72435337ac40e": {
          "model_module": "@jupyter-widgets/controls",
          "model_name": "DescriptionStyleModel",
          "state": {
            "_view_name": "StyleView",
            "_model_name": "DescriptionStyleModel",
            "description_width": "",
            "_view_module": "@jupyter-widgets/base",
            "_model_module_version": "1.5.0",
            "_view_count": null,
            "_view_module_version": "1.2.0",
            "_model_module": "@jupyter-widgets/controls"
          }
        },
        "faf957de7821413c94538361daf1b155": {
          "model_module": "@jupyter-widgets/base",
          "model_name": "LayoutModel",
          "state": {
            "_view_name": "LayoutView",
            "grid_template_rows": null,
            "right": null,
            "justify_content": null,
            "_view_module": "@jupyter-widgets/base",
            "overflow": null,
            "_model_module_version": "1.2.0",
            "_view_count": null,
            "flex_flow": null,
            "width": null,
            "min_width": null,
            "border": null,
            "align_items": null,
            "bottom": null,
            "_model_module": "@jupyter-widgets/base",
            "top": null,
            "grid_column": null,
            "overflow_y": null,
            "overflow_x": null,
            "grid_auto_flow": null,
            "grid_area": null,
            "grid_template_columns": null,
            "flex": null,
            "_model_name": "LayoutModel",
            "justify_items": null,
            "grid_row": null,
            "max_height": null,
            "align_content": null,
            "visibility": null,
            "align_self": null,
            "height": null,
            "min_height": null,
            "padding": null,
            "grid_auto_rows": null,
            "grid_gap": null,
            "max_width": null,
            "order": null,
            "_view_module_version": "1.2.0",
            "grid_template_areas": null,
            "object_position": null,
            "object_fit": null,
            "grid_auto_columns": null,
            "margin": null,
            "display": null,
            "left": null
          }
        },
        "468ffb10cdee4cddb44c4d391e2331d7": {
          "model_module": "@jupyter-widgets/controls",
          "model_name": "HBoxModel",
          "state": {
            "_view_name": "HBoxView",
            "_dom_classes": [],
            "_model_name": "HBoxModel",
            "_view_module": "@jupyter-widgets/controls",
            "_model_module_version": "1.5.0",
            "_view_count": null,
            "_view_module_version": "1.5.0",
            "box_style": "",
            "layout": "IPY_MODEL_99a03679273848dc890e7aadde50d358",
            "_model_module": "@jupyter-widgets/controls",
            "children": [
              "IPY_MODEL_03bb795fb145491ca6585aff703d02bb",
              "IPY_MODEL_4f337836c475426ba59049432e3ccfbd"
            ]
          }
        },
        "99a03679273848dc890e7aadde50d358": {
          "model_module": "@jupyter-widgets/base",
          "model_name": "LayoutModel",
          "state": {
            "_view_name": "LayoutView",
            "grid_template_rows": null,
            "right": null,
            "justify_content": null,
            "_view_module": "@jupyter-widgets/base",
            "overflow": null,
            "_model_module_version": "1.2.0",
            "_view_count": null,
            "flex_flow": null,
            "width": null,
            "min_width": null,
            "border": null,
            "align_items": null,
            "bottom": null,
            "_model_module": "@jupyter-widgets/base",
            "top": null,
            "grid_column": null,
            "overflow_y": null,
            "overflow_x": null,
            "grid_auto_flow": null,
            "grid_area": null,
            "grid_template_columns": null,
            "flex": null,
            "_model_name": "LayoutModel",
            "justify_items": null,
            "grid_row": null,
            "max_height": null,
            "align_content": null,
            "visibility": null,
            "align_self": null,
            "height": null,
            "min_height": null,
            "padding": null,
            "grid_auto_rows": null,
            "grid_gap": null,
            "max_width": null,
            "order": null,
            "_view_module_version": "1.2.0",
            "grid_template_areas": null,
            "object_position": null,
            "object_fit": null,
            "grid_auto_columns": null,
            "margin": null,
            "display": null,
            "left": null
          }
        },
        "03bb795fb145491ca6585aff703d02bb": {
          "model_module": "@jupyter-widgets/controls",
          "model_name": "FloatProgressModel",
          "state": {
            "_view_name": "ProgressView",
            "style": "IPY_MODEL_0cefb6cc80f846129dae724baf6377ed",
            "_dom_classes": [],
            "description": "Downloading: 100%",
            "_model_name": "FloatProgressModel",
            "bar_style": "success",
            "max": 466062,
            "_view_module": "@jupyter-widgets/controls",
            "_model_module_version": "1.5.0",
            "value": 466062,
            "_view_count": null,
            "_view_module_version": "1.5.0",
            "orientation": "horizontal",
            "min": 0,
            "description_tooltip": null,
            "_model_module": "@jupyter-widgets/controls",
            "layout": "IPY_MODEL_059caadbf542453cae0cf54b8076fd09"
          }
        },
        "4f337836c475426ba59049432e3ccfbd": {
          "model_module": "@jupyter-widgets/controls",
          "model_name": "HTMLModel",
          "state": {
            "_view_name": "HTMLView",
            "style": "IPY_MODEL_504bf105d52f4892bb6fd47934609d55",
            "_dom_classes": [],
            "description": "",
            "_model_name": "HTMLModel",
            "placeholder": "​",
            "_view_module": "@jupyter-widgets/controls",
            "_model_module_version": "1.5.0",
            "value": " 466k/466k [00:00&lt;00:00, 1.37MB/s]",
            "_view_count": null,
            "_view_module_version": "1.5.0",
            "description_tooltip": null,
            "_model_module": "@jupyter-widgets/controls",
            "layout": "IPY_MODEL_55f3f97c2bd544abb0d51a70de53ead2"
          }
        },
        "0cefb6cc80f846129dae724baf6377ed": {
          "model_module": "@jupyter-widgets/controls",
          "model_name": "ProgressStyleModel",
          "state": {
            "_view_name": "StyleView",
            "_model_name": "ProgressStyleModel",
            "description_width": "initial",
            "_view_module": "@jupyter-widgets/base",
            "_model_module_version": "1.5.0",
            "_view_count": null,
            "_view_module_version": "1.2.0",
            "bar_color": null,
            "_model_module": "@jupyter-widgets/controls"
          }
        },
        "059caadbf542453cae0cf54b8076fd09": {
          "model_module": "@jupyter-widgets/base",
          "model_name": "LayoutModel",
          "state": {
            "_view_name": "LayoutView",
            "grid_template_rows": null,
            "right": null,
            "justify_content": null,
            "_view_module": "@jupyter-widgets/base",
            "overflow": null,
            "_model_module_version": "1.2.0",
            "_view_count": null,
            "flex_flow": null,
            "width": null,
            "min_width": null,
            "border": null,
            "align_items": null,
            "bottom": null,
            "_model_module": "@jupyter-widgets/base",
            "top": null,
            "grid_column": null,
            "overflow_y": null,
            "overflow_x": null,
            "grid_auto_flow": null,
            "grid_area": null,
            "grid_template_columns": null,
            "flex": null,
            "_model_name": "LayoutModel",
            "justify_items": null,
            "grid_row": null,
            "max_height": null,
            "align_content": null,
            "visibility": null,
            "align_self": null,
            "height": null,
            "min_height": null,
            "padding": null,
            "grid_auto_rows": null,
            "grid_gap": null,
            "max_width": null,
            "order": null,
            "_view_module_version": "1.2.0",
            "grid_template_areas": null,
            "object_position": null,
            "object_fit": null,
            "grid_auto_columns": null,
            "margin": null,
            "display": null,
            "left": null
          }
        },
        "504bf105d52f4892bb6fd47934609d55": {
          "model_module": "@jupyter-widgets/controls",
          "model_name": "DescriptionStyleModel",
          "state": {
            "_view_name": "StyleView",
            "_model_name": "DescriptionStyleModel",
            "description_width": "",
            "_view_module": "@jupyter-widgets/base",
            "_model_module_version": "1.5.0",
            "_view_count": null,
            "_view_module_version": "1.2.0",
            "_model_module": "@jupyter-widgets/controls"
          }
        },
        "55f3f97c2bd544abb0d51a70de53ead2": {
          "model_module": "@jupyter-widgets/base",
          "model_name": "LayoutModel",
          "state": {
            "_view_name": "LayoutView",
            "grid_template_rows": null,
            "right": null,
            "justify_content": null,
            "_view_module": "@jupyter-widgets/base",
            "overflow": null,
            "_model_module_version": "1.2.0",
            "_view_count": null,
            "flex_flow": null,
            "width": null,
            "min_width": null,
            "border": null,
            "align_items": null,
            "bottom": null,
            "_model_module": "@jupyter-widgets/base",
            "top": null,
            "grid_column": null,
            "overflow_y": null,
            "overflow_x": null,
            "grid_auto_flow": null,
            "grid_area": null,
            "grid_template_columns": null,
            "flex": null,
            "_model_name": "LayoutModel",
            "justify_items": null,
            "grid_row": null,
            "max_height": null,
            "align_content": null,
            "visibility": null,
            "align_self": null,
            "height": null,
            "min_height": null,
            "padding": null,
            "grid_auto_rows": null,
            "grid_gap": null,
            "max_width": null,
            "order": null,
            "_view_module_version": "1.2.0",
            "grid_template_areas": null,
            "object_position": null,
            "object_fit": null,
            "grid_auto_columns": null,
            "margin": null,
            "display": null,
            "left": null
          }
        },
        "a3dceaeb4dc24736a71e556ace34e8b7": {
          "model_module": "@jupyter-widgets/controls",
          "model_name": "HBoxModel",
          "state": {
            "_view_name": "HBoxView",
            "_dom_classes": [],
            "_model_name": "HBoxModel",
            "_view_module": "@jupyter-widgets/controls",
            "_model_module_version": "1.5.0",
            "_view_count": null,
            "_view_module_version": "1.5.0",
            "box_style": "",
            "layout": "IPY_MODEL_e36128b755d543d7972b5db7a4514252",
            "_model_module": "@jupyter-widgets/controls",
            "children": [
              "IPY_MODEL_88ae11f8dfa44216bca6b8e99fbf2ff9",
              "IPY_MODEL_1089b49caf6d4d7cb39ab4221b510564"
            ]
          }
        },
        "e36128b755d543d7972b5db7a4514252": {
          "model_module": "@jupyter-widgets/base",
          "model_name": "LayoutModel",
          "state": {
            "_view_name": "LayoutView",
            "grid_template_rows": null,
            "right": null,
            "justify_content": null,
            "_view_module": "@jupyter-widgets/base",
            "overflow": null,
            "_model_module_version": "1.2.0",
            "_view_count": null,
            "flex_flow": null,
            "width": null,
            "min_width": null,
            "border": null,
            "align_items": null,
            "bottom": null,
            "_model_module": "@jupyter-widgets/base",
            "top": null,
            "grid_column": null,
            "overflow_y": null,
            "overflow_x": null,
            "grid_auto_flow": null,
            "grid_area": null,
            "grid_template_columns": null,
            "flex": null,
            "_model_name": "LayoutModel",
            "justify_items": null,
            "grid_row": null,
            "max_height": null,
            "align_content": null,
            "visibility": null,
            "align_self": null,
            "height": null,
            "min_height": null,
            "padding": null,
            "grid_auto_rows": null,
            "grid_gap": null,
            "max_width": null,
            "order": null,
            "_view_module_version": "1.2.0",
            "grid_template_areas": null,
            "object_position": null,
            "object_fit": null,
            "grid_auto_columns": null,
            "margin": null,
            "display": null,
            "left": null
          }
        },
        "88ae11f8dfa44216bca6b8e99fbf2ff9": {
          "model_module": "@jupyter-widgets/controls",
          "model_name": "FloatProgressModel",
          "state": {
            "_view_name": "ProgressView",
            "style": "IPY_MODEL_e059e18a12634bb184cff8d10276ab3b",
            "_dom_classes": [],
            "description": "Downloading: 100%",
            "_model_name": "FloatProgressModel",
            "bar_style": "success",
            "max": 492,
            "_view_module": "@jupyter-widgets/controls",
            "_model_module_version": "1.5.0",
            "value": 492,
            "_view_count": null,
            "_view_module_version": "1.5.0",
            "orientation": "horizontal",
            "min": 0,
            "description_tooltip": null,
            "_model_module": "@jupyter-widgets/controls",
            "layout": "IPY_MODEL_fc48e1fcdd9e40dd8f167c8f6c49c43b"
          }
        },
        "1089b49caf6d4d7cb39ab4221b510564": {
          "model_module": "@jupyter-widgets/controls",
          "model_name": "HTMLModel",
          "state": {
            "_view_name": "HTMLView",
            "style": "IPY_MODEL_686d89d247a6430c885cb8d905abd152",
            "_dom_classes": [],
            "description": "",
            "_model_name": "HTMLModel",
            "placeholder": "​",
            "_view_module": "@jupyter-widgets/controls",
            "_model_module_version": "1.5.0",
            "value": " 492/492 [00:06&lt;00:00, 72.6B/s]",
            "_view_count": null,
            "_view_module_version": "1.5.0",
            "description_tooltip": null,
            "_model_module": "@jupyter-widgets/controls",
            "layout": "IPY_MODEL_78ee3448ea56418ca3a8c923dffa2e69"
          }
        },
        "e059e18a12634bb184cff8d10276ab3b": {
          "model_module": "@jupyter-widgets/controls",
          "model_name": "ProgressStyleModel",
          "state": {
            "_view_name": "StyleView",
            "_model_name": "ProgressStyleModel",
            "description_width": "initial",
            "_view_module": "@jupyter-widgets/base",
            "_model_module_version": "1.5.0",
            "_view_count": null,
            "_view_module_version": "1.2.0",
            "bar_color": null,
            "_model_module": "@jupyter-widgets/controls"
          }
        },
        "fc48e1fcdd9e40dd8f167c8f6c49c43b": {
          "model_module": "@jupyter-widgets/base",
          "model_name": "LayoutModel",
          "state": {
            "_view_name": "LayoutView",
            "grid_template_rows": null,
            "right": null,
            "justify_content": null,
            "_view_module": "@jupyter-widgets/base",
            "overflow": null,
            "_model_module_version": "1.2.0",
            "_view_count": null,
            "flex_flow": null,
            "width": null,
            "min_width": null,
            "border": null,
            "align_items": null,
            "bottom": null,
            "_model_module": "@jupyter-widgets/base",
            "top": null,
            "grid_column": null,
            "overflow_y": null,
            "overflow_x": null,
            "grid_auto_flow": null,
            "grid_area": null,
            "grid_template_columns": null,
            "flex": null,
            "_model_name": "LayoutModel",
            "justify_items": null,
            "grid_row": null,
            "max_height": null,
            "align_content": null,
            "visibility": null,
            "align_self": null,
            "height": null,
            "min_height": null,
            "padding": null,
            "grid_auto_rows": null,
            "grid_gap": null,
            "max_width": null,
            "order": null,
            "_view_module_version": "1.2.0",
            "grid_template_areas": null,
            "object_position": null,
            "object_fit": null,
            "grid_auto_columns": null,
            "margin": null,
            "display": null,
            "left": null
          }
        },
        "686d89d247a6430c885cb8d905abd152": {
          "model_module": "@jupyter-widgets/controls",
          "model_name": "DescriptionStyleModel",
          "state": {
            "_view_name": "StyleView",
            "_model_name": "DescriptionStyleModel",
            "description_width": "",
            "_view_module": "@jupyter-widgets/base",
            "_model_module_version": "1.5.0",
            "_view_count": null,
            "_view_module_version": "1.2.0",
            "_model_module": "@jupyter-widgets/controls"
          }
        },
        "78ee3448ea56418ca3a8c923dffa2e69": {
          "model_module": "@jupyter-widgets/base",
          "model_name": "LayoutModel",
          "state": {
            "_view_name": "LayoutView",
            "grid_template_rows": null,
            "right": null,
            "justify_content": null,
            "_view_module": "@jupyter-widgets/base",
            "overflow": null,
            "_model_module_version": "1.2.0",
            "_view_count": null,
            "flex_flow": null,
            "width": null,
            "min_width": null,
            "border": null,
            "align_items": null,
            "bottom": null,
            "_model_module": "@jupyter-widgets/base",
            "top": null,
            "grid_column": null,
            "overflow_y": null,
            "overflow_x": null,
            "grid_auto_flow": null,
            "grid_area": null,
            "grid_template_columns": null,
            "flex": null,
            "_model_name": "LayoutModel",
            "justify_items": null,
            "grid_row": null,
            "max_height": null,
            "align_content": null,
            "visibility": null,
            "align_self": null,
            "height": null,
            "min_height": null,
            "padding": null,
            "grid_auto_rows": null,
            "grid_gap": null,
            "max_width": null,
            "order": null,
            "_view_module_version": "1.2.0",
            "grid_template_areas": null,
            "object_position": null,
            "object_fit": null,
            "grid_auto_columns": null,
            "margin": null,
            "display": null,
            "left": null
          }
        },
        "54675ff29cf24d948721d5444fb3991b": {
          "model_module": "@jupyter-widgets/controls",
          "model_name": "HBoxModel",
          "state": {
            "_view_name": "HBoxView",
            "_dom_classes": [],
            "_model_name": "HBoxModel",
            "_view_module": "@jupyter-widgets/controls",
            "_model_module_version": "1.5.0",
            "_view_count": null,
            "_view_module_version": "1.5.0",
            "box_style": "",
            "layout": "IPY_MODEL_71023333f39a4ef2a39924d659b3c2dd",
            "_model_module": "@jupyter-widgets/controls",
            "children": [
              "IPY_MODEL_1913b874f4cc42b59756598ee2b880ee",
              "IPY_MODEL_9fdf013a3aea40dd80ba7b63c8c34236"
            ]
          }
        },
        "71023333f39a4ef2a39924d659b3c2dd": {
          "model_module": "@jupyter-widgets/base",
          "model_name": "LayoutModel",
          "state": {
            "_view_name": "LayoutView",
            "grid_template_rows": null,
            "right": null,
            "justify_content": null,
            "_view_module": "@jupyter-widgets/base",
            "overflow": null,
            "_model_module_version": "1.2.0",
            "_view_count": null,
            "flex_flow": null,
            "width": null,
            "min_width": null,
            "border": null,
            "align_items": null,
            "bottom": null,
            "_model_module": "@jupyter-widgets/base",
            "top": null,
            "grid_column": null,
            "overflow_y": null,
            "overflow_x": null,
            "grid_auto_flow": null,
            "grid_area": null,
            "grid_template_columns": null,
            "flex": null,
            "_model_name": "LayoutModel",
            "justify_items": null,
            "grid_row": null,
            "max_height": null,
            "align_content": null,
            "visibility": null,
            "align_self": null,
            "height": null,
            "min_height": null,
            "padding": null,
            "grid_auto_rows": null,
            "grid_gap": null,
            "max_width": null,
            "order": null,
            "_view_module_version": "1.2.0",
            "grid_template_areas": null,
            "object_position": null,
            "object_fit": null,
            "grid_auto_columns": null,
            "margin": null,
            "display": null,
            "left": null
          }
        },
        "1913b874f4cc42b59756598ee2b880ee": {
          "model_module": "@jupyter-widgets/controls",
          "model_name": "FloatProgressModel",
          "state": {
            "_view_name": "ProgressView",
            "style": "IPY_MODEL_cbcb794b99334009b58d11a38eaf30be",
            "_dom_classes": [],
            "description": "Downloading: 100%",
            "_model_name": "FloatProgressModel",
            "bar_style": "success",
            "max": 437983985,
            "_view_module": "@jupyter-widgets/controls",
            "_model_module_version": "1.5.0",
            "value": 437983985,
            "_view_count": null,
            "_view_module_version": "1.5.0",
            "orientation": "horizontal",
            "min": 0,
            "description_tooltip": null,
            "_model_module": "@jupyter-widgets/controls",
            "layout": "IPY_MODEL_c1e01112215443908508793186d59a1b"
          }
        },
        "9fdf013a3aea40dd80ba7b63c8c34236": {
          "model_module": "@jupyter-widgets/controls",
          "model_name": "HTMLModel",
          "state": {
            "_view_name": "HTMLView",
            "style": "IPY_MODEL_90b7271078064895b05e3d131e436478",
            "_dom_classes": [],
            "description": "",
            "_model_name": "HTMLModel",
            "placeholder": "​",
            "_view_module": "@jupyter-widgets/controls",
            "_model_module_version": "1.5.0",
            "value": " 438M/438M [00:06&lt;00:00, 66.2MB/s]",
            "_view_count": null,
            "_view_module_version": "1.5.0",
            "description_tooltip": null,
            "_model_module": "@jupyter-widgets/controls",
            "layout": "IPY_MODEL_0127827e68c6474e84c8b36c629801ea"
          }
        },
        "cbcb794b99334009b58d11a38eaf30be": {
          "model_module": "@jupyter-widgets/controls",
          "model_name": "ProgressStyleModel",
          "state": {
            "_view_name": "StyleView",
            "_model_name": "ProgressStyleModel",
            "description_width": "initial",
            "_view_module": "@jupyter-widgets/base",
            "_model_module_version": "1.5.0",
            "_view_count": null,
            "_view_module_version": "1.2.0",
            "bar_color": null,
            "_model_module": "@jupyter-widgets/controls"
          }
        },
        "c1e01112215443908508793186d59a1b": {
          "model_module": "@jupyter-widgets/base",
          "model_name": "LayoutModel",
          "state": {
            "_view_name": "LayoutView",
            "grid_template_rows": null,
            "right": null,
            "justify_content": null,
            "_view_module": "@jupyter-widgets/base",
            "overflow": null,
            "_model_module_version": "1.2.0",
            "_view_count": null,
            "flex_flow": null,
            "width": null,
            "min_width": null,
            "border": null,
            "align_items": null,
            "bottom": null,
            "_model_module": "@jupyter-widgets/base",
            "top": null,
            "grid_column": null,
            "overflow_y": null,
            "overflow_x": null,
            "grid_auto_flow": null,
            "grid_area": null,
            "grid_template_columns": null,
            "flex": null,
            "_model_name": "LayoutModel",
            "justify_items": null,
            "grid_row": null,
            "max_height": null,
            "align_content": null,
            "visibility": null,
            "align_self": null,
            "height": null,
            "min_height": null,
            "padding": null,
            "grid_auto_rows": null,
            "grid_gap": null,
            "max_width": null,
            "order": null,
            "_view_module_version": "1.2.0",
            "grid_template_areas": null,
            "object_position": null,
            "object_fit": null,
            "grid_auto_columns": null,
            "margin": null,
            "display": null,
            "left": null
          }
        },
        "90b7271078064895b05e3d131e436478": {
          "model_module": "@jupyter-widgets/controls",
          "model_name": "DescriptionStyleModel",
          "state": {
            "_view_name": "StyleView",
            "_model_name": "DescriptionStyleModel",
            "description_width": "",
            "_view_module": "@jupyter-widgets/base",
            "_model_module_version": "1.5.0",
            "_view_count": null,
            "_view_module_version": "1.2.0",
            "_model_module": "@jupyter-widgets/controls"
          }
        },
        "0127827e68c6474e84c8b36c629801ea": {
          "model_module": "@jupyter-widgets/base",
          "model_name": "LayoutModel",
          "state": {
            "_view_name": "LayoutView",
            "grid_template_rows": null,
            "right": null,
            "justify_content": null,
            "_view_module": "@jupyter-widgets/base",
            "overflow": null,
            "_model_module_version": "1.2.0",
            "_view_count": null,
            "flex_flow": null,
            "width": null,
            "min_width": null,
            "border": null,
            "align_items": null,
            "bottom": null,
            "_model_module": "@jupyter-widgets/base",
            "top": null,
            "grid_column": null,
            "overflow_y": null,
            "overflow_x": null,
            "grid_auto_flow": null,
            "grid_area": null,
            "grid_template_columns": null,
            "flex": null,
            "_model_name": "LayoutModel",
            "justify_items": null,
            "grid_row": null,
            "max_height": null,
            "align_content": null,
            "visibility": null,
            "align_self": null,
            "height": null,
            "min_height": null,
            "padding": null,
            "grid_auto_rows": null,
            "grid_gap": null,
            "max_width": null,
            "order": null,
            "_view_module_version": "1.2.0",
            "grid_template_areas": null,
            "object_position": null,
            "object_fit": null,
            "grid_auto_columns": null,
            "margin": null,
            "display": null,
            "left": null
          }
        },
        "6bd5b04a04c54b3e9fc243435f45b54f": {
          "model_module": "@jupyter-widgets/controls",
          "model_name": "HBoxModel",
          "state": {
            "_view_name": "HBoxView",
            "_dom_classes": [],
            "_model_name": "HBoxModel",
            "_view_module": "@jupyter-widgets/controls",
            "_model_module_version": "1.5.0",
            "_view_count": null,
            "_view_module_version": "1.5.0",
            "box_style": "",
            "layout": "IPY_MODEL_b4d1a3eff5464d55a4ba35fa2b9fa8d2",
            "_model_module": "@jupyter-widgets/controls",
            "children": [
              "IPY_MODEL_0e2d496b16b14df8980a28ead333beb2",
              "IPY_MODEL_40afc45883c5440a8e12b140b86a2acc"
            ]
          }
        },
        "b4d1a3eff5464d55a4ba35fa2b9fa8d2": {
          "model_module": "@jupyter-widgets/base",
          "model_name": "LayoutModel",
          "state": {
            "_view_name": "LayoutView",
            "grid_template_rows": null,
            "right": null,
            "justify_content": null,
            "_view_module": "@jupyter-widgets/base",
            "overflow": null,
            "_model_module_version": "1.2.0",
            "_view_count": null,
            "flex_flow": null,
            "width": null,
            "min_width": null,
            "border": null,
            "align_items": null,
            "bottom": null,
            "_model_module": "@jupyter-widgets/base",
            "top": null,
            "grid_column": null,
            "overflow_y": null,
            "overflow_x": null,
            "grid_auto_flow": null,
            "grid_area": null,
            "grid_template_columns": null,
            "flex": null,
            "_model_name": "LayoutModel",
            "justify_items": null,
            "grid_row": null,
            "max_height": null,
            "align_content": null,
            "visibility": null,
            "align_self": null,
            "height": null,
            "min_height": null,
            "padding": null,
            "grid_auto_rows": null,
            "grid_gap": null,
            "max_width": null,
            "order": null,
            "_view_module_version": "1.2.0",
            "grid_template_areas": null,
            "object_position": null,
            "object_fit": null,
            "grid_auto_columns": null,
            "margin": null,
            "display": null,
            "left": null
          }
        },
        "0e2d496b16b14df8980a28ead333beb2": {
          "model_module": "@jupyter-widgets/controls",
          "model_name": "FloatProgressModel",
          "state": {
            "_view_name": "ProgressView",
            "style": "IPY_MODEL_2ef07b02c6cd41b7addd14e3a59cc469",
            "_dom_classes": [],
            "description": "Downloading: 100%",
            "_model_name": "FloatProgressModel",
            "bar_style": "success",
            "max": 493,
            "_view_module": "@jupyter-widgets/controls",
            "_model_module_version": "1.5.0",
            "value": 493,
            "_view_count": null,
            "_view_module_version": "1.5.0",
            "orientation": "horizontal",
            "min": 0,
            "description_tooltip": null,
            "_model_module": "@jupyter-widgets/controls",
            "layout": "IPY_MODEL_07ff7c7abacc43cbba21b6ca74d35b81"
          }
        },
        "40afc45883c5440a8e12b140b86a2acc": {
          "model_module": "@jupyter-widgets/controls",
          "model_name": "HTMLModel",
          "state": {
            "_view_name": "HTMLView",
            "style": "IPY_MODEL_8ede83b5635f4983a41d2fdac2f16f47",
            "_dom_classes": [],
            "description": "",
            "_model_name": "HTMLModel",
            "placeholder": "​",
            "_view_module": "@jupyter-widgets/controls",
            "_model_module_version": "1.5.0",
            "value": " 493/493 [00:06&lt;00:00, 73.0B/s]",
            "_view_count": null,
            "_view_module_version": "1.5.0",
            "description_tooltip": null,
            "_model_module": "@jupyter-widgets/controls",
            "layout": "IPY_MODEL_1c109a0a990644f7a9e061e9dbbf99a8"
          }
        },
        "2ef07b02c6cd41b7addd14e3a59cc469": {
          "model_module": "@jupyter-widgets/controls",
          "model_name": "ProgressStyleModel",
          "state": {
            "_view_name": "StyleView",
            "_model_name": "ProgressStyleModel",
            "description_width": "initial",
            "_view_module": "@jupyter-widgets/base",
            "_model_module_version": "1.5.0",
            "_view_count": null,
            "_view_module_version": "1.2.0",
            "bar_color": null,
            "_model_module": "@jupyter-widgets/controls"
          }
        },
        "07ff7c7abacc43cbba21b6ca74d35b81": {
          "model_module": "@jupyter-widgets/base",
          "model_name": "LayoutModel",
          "state": {
            "_view_name": "LayoutView",
            "grid_template_rows": null,
            "right": null,
            "justify_content": null,
            "_view_module": "@jupyter-widgets/base",
            "overflow": null,
            "_model_module_version": "1.2.0",
            "_view_count": null,
            "flex_flow": null,
            "width": null,
            "min_width": null,
            "border": null,
            "align_items": null,
            "bottom": null,
            "_model_module": "@jupyter-widgets/base",
            "top": null,
            "grid_column": null,
            "overflow_y": null,
            "overflow_x": null,
            "grid_auto_flow": null,
            "grid_area": null,
            "grid_template_columns": null,
            "flex": null,
            "_model_name": "LayoutModel",
            "justify_items": null,
            "grid_row": null,
            "max_height": null,
            "align_content": null,
            "visibility": null,
            "align_self": null,
            "height": null,
            "min_height": null,
            "padding": null,
            "grid_auto_rows": null,
            "grid_gap": null,
            "max_width": null,
            "order": null,
            "_view_module_version": "1.2.0",
            "grid_template_areas": null,
            "object_position": null,
            "object_fit": null,
            "grid_auto_columns": null,
            "margin": null,
            "display": null,
            "left": null
          }
        },
        "8ede83b5635f4983a41d2fdac2f16f47": {
          "model_module": "@jupyter-widgets/controls",
          "model_name": "DescriptionStyleModel",
          "state": {
            "_view_name": "StyleView",
            "_model_name": "DescriptionStyleModel",
            "description_width": "",
            "_view_module": "@jupyter-widgets/base",
            "_model_module_version": "1.5.0",
            "_view_count": null,
            "_view_module_version": "1.2.0",
            "_model_module": "@jupyter-widgets/controls"
          }
        },
        "1c109a0a990644f7a9e061e9dbbf99a8": {
          "model_module": "@jupyter-widgets/base",
          "model_name": "LayoutModel",
          "state": {
            "_view_name": "LayoutView",
            "grid_template_rows": null,
            "right": null,
            "justify_content": null,
            "_view_module": "@jupyter-widgets/base",
            "overflow": null,
            "_model_module_version": "1.2.0",
            "_view_count": null,
            "flex_flow": null,
            "width": null,
            "min_width": null,
            "border": null,
            "align_items": null,
            "bottom": null,
            "_model_module": "@jupyter-widgets/base",
            "top": null,
            "grid_column": null,
            "overflow_y": null,
            "overflow_x": null,
            "grid_auto_flow": null,
            "grid_area": null,
            "grid_template_columns": null,
            "flex": null,
            "_model_name": "LayoutModel",
            "justify_items": null,
            "grid_row": null,
            "max_height": null,
            "align_content": null,
            "visibility": null,
            "align_self": null,
            "height": null,
            "min_height": null,
            "padding": null,
            "grid_auto_rows": null,
            "grid_gap": null,
            "max_width": null,
            "order": null,
            "_view_module_version": "1.2.0",
            "grid_template_areas": null,
            "object_position": null,
            "object_fit": null,
            "grid_auto_columns": null,
            "margin": null,
            "display": null,
            "left": null
          }
        },
        "1d3e1828b1174221835589f86d2c4435": {
          "model_module": "@jupyter-widgets/controls",
          "model_name": "HBoxModel",
          "state": {
            "_view_name": "HBoxView",
            "_dom_classes": [],
            "_model_name": "HBoxModel",
            "_view_module": "@jupyter-widgets/controls",
            "_model_module_version": "1.5.0",
            "_view_count": null,
            "_view_module_version": "1.5.0",
            "box_style": "",
            "layout": "IPY_MODEL_c99999cdf5104c4093bab35a58d74164",
            "_model_module": "@jupyter-widgets/controls",
            "children": [
              "IPY_MODEL_70358afa3edf4693b243f5e25034a824",
              "IPY_MODEL_cbfd90f162e24d5b95c7f2048e732202"
            ]
          }
        },
        "c99999cdf5104c4093bab35a58d74164": {
          "model_module": "@jupyter-widgets/base",
          "model_name": "LayoutModel",
          "state": {
            "_view_name": "LayoutView",
            "grid_template_rows": null,
            "right": null,
            "justify_content": null,
            "_view_module": "@jupyter-widgets/base",
            "overflow": null,
            "_model_module_version": "1.2.0",
            "_view_count": null,
            "flex_flow": null,
            "width": null,
            "min_width": null,
            "border": null,
            "align_items": null,
            "bottom": null,
            "_model_module": "@jupyter-widgets/base",
            "top": null,
            "grid_column": null,
            "overflow_y": null,
            "overflow_x": null,
            "grid_auto_flow": null,
            "grid_area": null,
            "grid_template_columns": null,
            "flex": null,
            "_model_name": "LayoutModel",
            "justify_items": null,
            "grid_row": null,
            "max_height": null,
            "align_content": null,
            "visibility": null,
            "align_self": null,
            "height": null,
            "min_height": null,
            "padding": null,
            "grid_auto_rows": null,
            "grid_gap": null,
            "max_width": null,
            "order": null,
            "_view_module_version": "1.2.0",
            "grid_template_areas": null,
            "object_position": null,
            "object_fit": null,
            "grid_auto_columns": null,
            "margin": null,
            "display": null,
            "left": null
          }
        },
        "70358afa3edf4693b243f5e25034a824": {
          "model_module": "@jupyter-widgets/controls",
          "model_name": "FloatProgressModel",
          "state": {
            "_view_name": "ProgressView",
            "style": "IPY_MODEL_1950b7a29fe04faa858921f1c1a8d17d",
            "_dom_classes": [],
            "description": "Downloading: 100%",
            "_model_name": "FloatProgressModel",
            "bar_style": "success",
            "max": 437986065,
            "_view_module": "@jupyter-widgets/controls",
            "_model_module_version": "1.5.0",
            "value": 437986065,
            "_view_count": null,
            "_view_module_version": "1.5.0",
            "orientation": "horizontal",
            "min": 0,
            "description_tooltip": null,
            "_model_module": "@jupyter-widgets/controls",
            "layout": "IPY_MODEL_ea3f4f587199405e83da54bc225050ef"
          }
        },
        "cbfd90f162e24d5b95c7f2048e732202": {
          "model_module": "@jupyter-widgets/controls",
          "model_name": "HTMLModel",
          "state": {
            "_view_name": "HTMLView",
            "style": "IPY_MODEL_ebcb2b2a0e124960b39e75615efab973",
            "_dom_classes": [],
            "description": "",
            "_model_name": "HTMLModel",
            "placeholder": "​",
            "_view_module": "@jupyter-widgets/controls",
            "_model_module_version": "1.5.0",
            "value": " 438M/438M [00:06&lt;00:00, 66.3MB/s]",
            "_view_count": null,
            "_view_module_version": "1.5.0",
            "description_tooltip": null,
            "_model_module": "@jupyter-widgets/controls",
            "layout": "IPY_MODEL_7cd24fc74ecf4cb9b1c0093aa8c9e36e"
          }
        },
        "1950b7a29fe04faa858921f1c1a8d17d": {
          "model_module": "@jupyter-widgets/controls",
          "model_name": "ProgressStyleModel",
          "state": {
            "_view_name": "StyleView",
            "_model_name": "ProgressStyleModel",
            "description_width": "initial",
            "_view_module": "@jupyter-widgets/base",
            "_model_module_version": "1.5.0",
            "_view_count": null,
            "_view_module_version": "1.2.0",
            "bar_color": null,
            "_model_module": "@jupyter-widgets/controls"
          }
        },
        "ea3f4f587199405e83da54bc225050ef": {
          "model_module": "@jupyter-widgets/base",
          "model_name": "LayoutModel",
          "state": {
            "_view_name": "LayoutView",
            "grid_template_rows": null,
            "right": null,
            "justify_content": null,
            "_view_module": "@jupyter-widgets/base",
            "overflow": null,
            "_model_module_version": "1.2.0",
            "_view_count": null,
            "flex_flow": null,
            "width": null,
            "min_width": null,
            "border": null,
            "align_items": null,
            "bottom": null,
            "_model_module": "@jupyter-widgets/base",
            "top": null,
            "grid_column": null,
            "overflow_y": null,
            "overflow_x": null,
            "grid_auto_flow": null,
            "grid_area": null,
            "grid_template_columns": null,
            "flex": null,
            "_model_name": "LayoutModel",
            "justify_items": null,
            "grid_row": null,
            "max_height": null,
            "align_content": null,
            "visibility": null,
            "align_self": null,
            "height": null,
            "min_height": null,
            "padding": null,
            "grid_auto_rows": null,
            "grid_gap": null,
            "max_width": null,
            "order": null,
            "_view_module_version": "1.2.0",
            "grid_template_areas": null,
            "object_position": null,
            "object_fit": null,
            "grid_auto_columns": null,
            "margin": null,
            "display": null,
            "left": null
          }
        },
        "ebcb2b2a0e124960b39e75615efab973": {
          "model_module": "@jupyter-widgets/controls",
          "model_name": "DescriptionStyleModel",
          "state": {
            "_view_name": "StyleView",
            "_model_name": "DescriptionStyleModel",
            "description_width": "",
            "_view_module": "@jupyter-widgets/base",
            "_model_module_version": "1.5.0",
            "_view_count": null,
            "_view_module_version": "1.2.0",
            "_model_module": "@jupyter-widgets/controls"
          }
        },
        "7cd24fc74ecf4cb9b1c0093aa8c9e36e": {
          "model_module": "@jupyter-widgets/base",
          "model_name": "LayoutModel",
          "state": {
            "_view_name": "LayoutView",
            "grid_template_rows": null,
            "right": null,
            "justify_content": null,
            "_view_module": "@jupyter-widgets/base",
            "overflow": null,
            "_model_module_version": "1.2.0",
            "_view_count": null,
            "flex_flow": null,
            "width": null,
            "min_width": null,
            "border": null,
            "align_items": null,
            "bottom": null,
            "_model_module": "@jupyter-widgets/base",
            "top": null,
            "grid_column": null,
            "overflow_y": null,
            "overflow_x": null,
            "grid_auto_flow": null,
            "grid_area": null,
            "grid_template_columns": null,
            "flex": null,
            "_model_name": "LayoutModel",
            "justify_items": null,
            "grid_row": null,
            "max_height": null,
            "align_content": null,
            "visibility": null,
            "align_self": null,
            "height": null,
            "min_height": null,
            "padding": null,
            "grid_auto_rows": null,
            "grid_gap": null,
            "max_width": null,
            "order": null,
            "_view_module_version": "1.2.0",
            "grid_template_areas": null,
            "object_position": null,
            "object_fit": null,
            "grid_auto_columns": null,
            "margin": null,
            "display": null,
            "left": null
          }
        },
        "3adf17fa083f454b9405ee91b197cf51": {
          "model_module": "@jupyter-widgets/controls",
          "model_name": "HBoxModel",
          "state": {
            "_view_name": "HBoxView",
            "_dom_classes": [],
            "_model_name": "HBoxModel",
            "_view_module": "@jupyter-widgets/controls",
            "_model_module_version": "1.5.0",
            "_view_count": null,
            "_view_module_version": "1.5.0",
            "box_style": "",
            "layout": "IPY_MODEL_40729fd817904e1fbf04e66ca3c1a5f3",
            "_model_module": "@jupyter-widgets/controls",
            "children": [
              "IPY_MODEL_b6561082a18943578cf4f3049a6dc032",
              "IPY_MODEL_f8dcfb84ac8e43aa9dcb2456e631c0de"
            ]
          }
        },
        "40729fd817904e1fbf04e66ca3c1a5f3": {
          "model_module": "@jupyter-widgets/base",
          "model_name": "LayoutModel",
          "state": {
            "_view_name": "LayoutView",
            "grid_template_rows": null,
            "right": null,
            "justify_content": null,
            "_view_module": "@jupyter-widgets/base",
            "overflow": null,
            "_model_module_version": "1.2.0",
            "_view_count": null,
            "flex_flow": null,
            "width": null,
            "min_width": null,
            "border": null,
            "align_items": null,
            "bottom": null,
            "_model_module": "@jupyter-widgets/base",
            "top": null,
            "grid_column": null,
            "overflow_y": null,
            "overflow_x": null,
            "grid_auto_flow": null,
            "grid_area": null,
            "grid_template_columns": null,
            "flex": null,
            "_model_name": "LayoutModel",
            "justify_items": null,
            "grid_row": null,
            "max_height": null,
            "align_content": null,
            "visibility": null,
            "align_self": null,
            "height": null,
            "min_height": null,
            "padding": null,
            "grid_auto_rows": null,
            "grid_gap": null,
            "max_width": null,
            "order": null,
            "_view_module_version": "1.2.0",
            "grid_template_areas": null,
            "object_position": null,
            "object_fit": null,
            "grid_auto_columns": null,
            "margin": null,
            "display": null,
            "left": null
          }
        },
        "b6561082a18943578cf4f3049a6dc032": {
          "model_module": "@jupyter-widgets/controls",
          "model_name": "FloatProgressModel",
          "state": {
            "_view_name": "ProgressView",
            "style": "IPY_MODEL_5caa05889472498e9de1ab80d5caced3",
            "_dom_classes": [],
            "description": "Downloading: 100%",
            "_model_name": "FloatProgressModel",
            "bar_style": "success",
            "max": 484,
            "_view_module": "@jupyter-widgets/controls",
            "_model_module_version": "1.5.0",
            "value": 484,
            "_view_count": null,
            "_view_module_version": "1.5.0",
            "orientation": "horizontal",
            "min": 0,
            "description_tooltip": null,
            "_model_module": "@jupyter-widgets/controls",
            "layout": "IPY_MODEL_244050e4d61c414a92cd42a2e9e9d866"
          }
        },
        "f8dcfb84ac8e43aa9dcb2456e631c0de": {
          "model_module": "@jupyter-widgets/controls",
          "model_name": "HTMLModel",
          "state": {
            "_view_name": "HTMLView",
            "style": "IPY_MODEL_7f4fca8b171044a083c7201c4c20499e",
            "_dom_classes": [],
            "description": "",
            "_model_name": "HTMLModel",
            "placeholder": "​",
            "_view_module": "@jupyter-widgets/controls",
            "_model_module_version": "1.5.0",
            "value": " 484/484 [00:07&lt;00:00, 65.9B/s]",
            "_view_count": null,
            "_view_module_version": "1.5.0",
            "description_tooltip": null,
            "_model_module": "@jupyter-widgets/controls",
            "layout": "IPY_MODEL_78d1423b47b045d1968b30f3d43a6f52"
          }
        },
        "5caa05889472498e9de1ab80d5caced3": {
          "model_module": "@jupyter-widgets/controls",
          "model_name": "ProgressStyleModel",
          "state": {
            "_view_name": "StyleView",
            "_model_name": "ProgressStyleModel",
            "description_width": "initial",
            "_view_module": "@jupyter-widgets/base",
            "_model_module_version": "1.5.0",
            "_view_count": null,
            "_view_module_version": "1.2.0",
            "bar_color": null,
            "_model_module": "@jupyter-widgets/controls"
          }
        },
        "244050e4d61c414a92cd42a2e9e9d866": {
          "model_module": "@jupyter-widgets/base",
          "model_name": "LayoutModel",
          "state": {
            "_view_name": "LayoutView",
            "grid_template_rows": null,
            "right": null,
            "justify_content": null,
            "_view_module": "@jupyter-widgets/base",
            "overflow": null,
            "_model_module_version": "1.2.0",
            "_view_count": null,
            "flex_flow": null,
            "width": null,
            "min_width": null,
            "border": null,
            "align_items": null,
            "bottom": null,
            "_model_module": "@jupyter-widgets/base",
            "top": null,
            "grid_column": null,
            "overflow_y": null,
            "overflow_x": null,
            "grid_auto_flow": null,
            "grid_area": null,
            "grid_template_columns": null,
            "flex": null,
            "_model_name": "LayoutModel",
            "justify_items": null,
            "grid_row": null,
            "max_height": null,
            "align_content": null,
            "visibility": null,
            "align_self": null,
            "height": null,
            "min_height": null,
            "padding": null,
            "grid_auto_rows": null,
            "grid_gap": null,
            "max_width": null,
            "order": null,
            "_view_module_version": "1.2.0",
            "grid_template_areas": null,
            "object_position": null,
            "object_fit": null,
            "grid_auto_columns": null,
            "margin": null,
            "display": null,
            "left": null
          }
        },
        "7f4fca8b171044a083c7201c4c20499e": {
          "model_module": "@jupyter-widgets/controls",
          "model_name": "DescriptionStyleModel",
          "state": {
            "_view_name": "StyleView",
            "_model_name": "DescriptionStyleModel",
            "description_width": "",
            "_view_module": "@jupyter-widgets/base",
            "_model_module_version": "1.5.0",
            "_view_count": null,
            "_view_module_version": "1.2.0",
            "_model_module": "@jupyter-widgets/controls"
          }
        },
        "78d1423b47b045d1968b30f3d43a6f52": {
          "model_module": "@jupyter-widgets/base",
          "model_name": "LayoutModel",
          "state": {
            "_view_name": "LayoutView",
            "grid_template_rows": null,
            "right": null,
            "justify_content": null,
            "_view_module": "@jupyter-widgets/base",
            "overflow": null,
            "_model_module_version": "1.2.0",
            "_view_count": null,
            "flex_flow": null,
            "width": null,
            "min_width": null,
            "border": null,
            "align_items": null,
            "bottom": null,
            "_model_module": "@jupyter-widgets/base",
            "top": null,
            "grid_column": null,
            "overflow_y": null,
            "overflow_x": null,
            "grid_auto_flow": null,
            "grid_area": null,
            "grid_template_columns": null,
            "flex": null,
            "_model_name": "LayoutModel",
            "justify_items": null,
            "grid_row": null,
            "max_height": null,
            "align_content": null,
            "visibility": null,
            "align_self": null,
            "height": null,
            "min_height": null,
            "padding": null,
            "grid_auto_rows": null,
            "grid_gap": null,
            "max_width": null,
            "order": null,
            "_view_module_version": "1.2.0",
            "grid_template_areas": null,
            "object_position": null,
            "object_fit": null,
            "grid_auto_columns": null,
            "margin": null,
            "display": null,
            "left": null
          }
        },
        "da00be1bbbef4e3482e4c89756ecb473": {
          "model_module": "@jupyter-widgets/controls",
          "model_name": "HBoxModel",
          "state": {
            "_view_name": "HBoxView",
            "_dom_classes": [],
            "_model_name": "HBoxModel",
            "_view_module": "@jupyter-widgets/controls",
            "_model_module_version": "1.5.0",
            "_view_count": null,
            "_view_module_version": "1.5.0",
            "box_style": "",
            "layout": "IPY_MODEL_ce390e69a3c24766ad1cf1b4edaa5a50",
            "_model_module": "@jupyter-widgets/controls",
            "children": [
              "IPY_MODEL_1e9f0f242e2649d284fcfe805efef50b",
              "IPY_MODEL_b17aa131e1b24942815d1fa3412b6fc4"
            ]
          }
        },
        "ce390e69a3c24766ad1cf1b4edaa5a50": {
          "model_module": "@jupyter-widgets/base",
          "model_name": "LayoutModel",
          "state": {
            "_view_name": "LayoutView",
            "grid_template_rows": null,
            "right": null,
            "justify_content": null,
            "_view_module": "@jupyter-widgets/base",
            "overflow": null,
            "_model_module_version": "1.2.0",
            "_view_count": null,
            "flex_flow": null,
            "width": null,
            "min_width": null,
            "border": null,
            "align_items": null,
            "bottom": null,
            "_model_module": "@jupyter-widgets/base",
            "top": null,
            "grid_column": null,
            "overflow_y": null,
            "overflow_x": null,
            "grid_auto_flow": null,
            "grid_area": null,
            "grid_template_columns": null,
            "flex": null,
            "_model_name": "LayoutModel",
            "justify_items": null,
            "grid_row": null,
            "max_height": null,
            "align_content": null,
            "visibility": null,
            "align_self": null,
            "height": null,
            "min_height": null,
            "padding": null,
            "grid_auto_rows": null,
            "grid_gap": null,
            "max_width": null,
            "order": null,
            "_view_module_version": "1.2.0",
            "grid_template_areas": null,
            "object_position": null,
            "object_fit": null,
            "grid_auto_columns": null,
            "margin": null,
            "display": null,
            "left": null
          }
        },
        "1e9f0f242e2649d284fcfe805efef50b": {
          "model_module": "@jupyter-widgets/controls",
          "model_name": "FloatProgressModel",
          "state": {
            "_view_name": "ProgressView",
            "style": "IPY_MODEL_afbb11a6437b4ac885532a274310772e",
            "_dom_classes": [],
            "description": "Downloading: 100%",
            "_model_name": "FloatProgressModel",
            "bar_style": "success",
            "max": 437998572,
            "_view_module": "@jupyter-widgets/controls",
            "_model_module_version": "1.5.0",
            "value": 437998572,
            "_view_count": null,
            "_view_module_version": "1.5.0",
            "orientation": "horizontal",
            "min": 0,
            "description_tooltip": null,
            "_model_module": "@jupyter-widgets/controls",
            "layout": "IPY_MODEL_dc8dceabae6b499d8978469269946f4b"
          }
        },
        "b17aa131e1b24942815d1fa3412b6fc4": {
          "model_module": "@jupyter-widgets/controls",
          "model_name": "HTMLModel",
          "state": {
            "_view_name": "HTMLView",
            "style": "IPY_MODEL_2fcb76bc3e9c41758067530b8523b97f",
            "_dom_classes": [],
            "description": "",
            "_model_name": "HTMLModel",
            "placeholder": "​",
            "_view_module": "@jupyter-widgets/controls",
            "_model_module_version": "1.5.0",
            "value": " 438M/438M [00:07&lt;00:00, 62.4MB/s]",
            "_view_count": null,
            "_view_module_version": "1.5.0",
            "description_tooltip": null,
            "_model_module": "@jupyter-widgets/controls",
            "layout": "IPY_MODEL_efd7ee1d9d3b42db81d1e6153e614810"
          }
        },
        "afbb11a6437b4ac885532a274310772e": {
          "model_module": "@jupyter-widgets/controls",
          "model_name": "ProgressStyleModel",
          "state": {
            "_view_name": "StyleView",
            "_model_name": "ProgressStyleModel",
            "description_width": "initial",
            "_view_module": "@jupyter-widgets/base",
            "_model_module_version": "1.5.0",
            "_view_count": null,
            "_view_module_version": "1.2.0",
            "bar_color": null,
            "_model_module": "@jupyter-widgets/controls"
          }
        },
        "dc8dceabae6b499d8978469269946f4b": {
          "model_module": "@jupyter-widgets/base",
          "model_name": "LayoutModel",
          "state": {
            "_view_name": "LayoutView",
            "grid_template_rows": null,
            "right": null,
            "justify_content": null,
            "_view_module": "@jupyter-widgets/base",
            "overflow": null,
            "_model_module_version": "1.2.0",
            "_view_count": null,
            "flex_flow": null,
            "width": null,
            "min_width": null,
            "border": null,
            "align_items": null,
            "bottom": null,
            "_model_module": "@jupyter-widgets/base",
            "top": null,
            "grid_column": null,
            "overflow_y": null,
            "overflow_x": null,
            "grid_auto_flow": null,
            "grid_area": null,
            "grid_template_columns": null,
            "flex": null,
            "_model_name": "LayoutModel",
            "justify_items": null,
            "grid_row": null,
            "max_height": null,
            "align_content": null,
            "visibility": null,
            "align_self": null,
            "height": null,
            "min_height": null,
            "padding": null,
            "grid_auto_rows": null,
            "grid_gap": null,
            "max_width": null,
            "order": null,
            "_view_module_version": "1.2.0",
            "grid_template_areas": null,
            "object_position": null,
            "object_fit": null,
            "grid_auto_columns": null,
            "margin": null,
            "display": null,
            "left": null
          }
        },
        "2fcb76bc3e9c41758067530b8523b97f": {
          "model_module": "@jupyter-widgets/controls",
          "model_name": "DescriptionStyleModel",
          "state": {
            "_view_name": "StyleView",
            "_model_name": "DescriptionStyleModel",
            "description_width": "",
            "_view_module": "@jupyter-widgets/base",
            "_model_module_version": "1.5.0",
            "_view_count": null,
            "_view_module_version": "1.2.0",
            "_model_module": "@jupyter-widgets/controls"
          }
        },
        "efd7ee1d9d3b42db81d1e6153e614810": {
          "model_module": "@jupyter-widgets/base",
          "model_name": "LayoutModel",
          "state": {
            "_view_name": "LayoutView",
            "grid_template_rows": null,
            "right": null,
            "justify_content": null,
            "_view_module": "@jupyter-widgets/base",
            "overflow": null,
            "_model_module_version": "1.2.0",
            "_view_count": null,
            "flex_flow": null,
            "width": null,
            "min_width": null,
            "border": null,
            "align_items": null,
            "bottom": null,
            "_model_module": "@jupyter-widgets/base",
            "top": null,
            "grid_column": null,
            "overflow_y": null,
            "overflow_x": null,
            "grid_auto_flow": null,
            "grid_area": null,
            "grid_template_columns": null,
            "flex": null,
            "_model_name": "LayoutModel",
            "justify_items": null,
            "grid_row": null,
            "max_height": null,
            "align_content": null,
            "visibility": null,
            "align_self": null,
            "height": null,
            "min_height": null,
            "padding": null,
            "grid_auto_rows": null,
            "grid_gap": null,
            "max_width": null,
            "order": null,
            "_view_module_version": "1.2.0",
            "grid_template_areas": null,
            "object_position": null,
            "object_fit": null,
            "grid_auto_columns": null,
            "margin": null,
            "display": null,
            "left": null
          }
        }
      }
    }
  },
  "cells": [
    {
      "cell_type": "markdown",
      "metadata": {
        "id": "1OjKDSQdl1DU"
      },
      "source": [
        "# Install Vector Hub\n",
        "Feel free to contact the vector hub dev team at dev@vctr.ai for support"
      ]
    },
    {
      "cell_type": "code",
      "metadata": {
        "id": "jWvYdKHZsAbW"
      },
      "source": [
        "# #for installing vectorhub from source\n",
        "# %%capture\n",
        "# !git clone https://github.com/vector-ai/vectorhub\n",
        "\n",
        "# %cd vectorhub\n",
        "# !pip install -e .[all]"
      ],
      "execution_count": null,
      "outputs": []
    },
    {
      "cell_type": "code",
      "metadata": {
        "id": "fOYg9Hhgy9uM"
      },
      "source": [
        "%%capture\n",
        "!pip install vectorhub[all]"
      ],
      "execution_count": null,
      "outputs": []
    },
    {
      "cell_type": "code",
      "metadata": {
        "id": "Wl-c-nfD_mxH",
        "outputId": "5f932e5c-562a-427c-88dc-0ceca7dcc13b",
        "colab": {
          "base_uri": "https://localhost:8080/",
          "height": 35
        }
      },
      "source": [
        "import vectorhub\n",
        "vectorhub.__version__"
      ],
      "execution_count": null,
      "outputs": [
        {
          "output_type": "execute_result",
          "data": {
            "application/vnd.google.colaboratory.intrinsic+json": {
              "type": "string"
            },
            "text/plain": [
              "'1.0.5'"
            ]
          },
          "metadata": {
            "tags": []
          },
          "execution_count": 4
        }
      ]
    },
    {
      "cell_type": "markdown",
      "metadata": {
        "id": "2cF3fOdPj9qU"
      },
      "source": [
        "# Text2Vec - Turn Text to Vectors"
      ]
    },
    {
      "cell_type": "markdown",
      "metadata": {
        "id": "SOyrTKAXkDkH"
      },
      "source": [
        "## TFHub Models\n",
        "!pip install vectorhub[encoders-text-tfhub]"
      ]
    },
    {
      "cell_type": "markdown",
      "metadata": {
        "id": "qfq5gOkpkGtq"
      },
      "source": [
        "### BERT2Vec\n",
        "Bidirectional Encoder Representations from Transformers"
      ]
    },
    {
      "cell_type": "code",
      "metadata": {
        "id": "f0NQEzXJkJ6Y",
        "outputId": "560f297e-0d29-437a-e90f-96167f42b84b",
        "colab": {
          "base_uri": "https://localhost:8080/"
        }
      },
      "source": [
        "from vectorhub.encoders.text.tfhub import Bert2Vec\n",
        "model = Bert2Vec()\n",
        "vector = model.encode(\"I enjoy taking long walks along the beach with my dog.\")\n",
        "len(vector), vector[:10]"
      ],
      "execution_count": null,
      "outputs": [
        {
          "output_type": "stream",
          "text": [
            "INFO:absl:Using /tmp/tfhub_modules to cache modules.\n",
            "INFO:absl:Downloading TF-Hub Module 'https://tfhub.dev/tensorflow/bert_en_uncased_L-24_H-1024_A-16/2'.\n",
            "INFO:absl:Downloaded https://tfhub.dev/tensorflow/bert_en_uncased_L-24_H-1024_A-16/2, Total size: 1.26GB\n",
            "INFO:absl:Downloaded TF-Hub Module 'https://tfhub.dev/tensorflow/bert_en_uncased_L-24_H-1024_A-16/2'.\n"
          ],
          "name": "stderr"
        },
        {
          "output_type": "execute_result",
          "data": {
            "text/plain": [
              "(1024,\n",
              " [-0.032492902129888535,\n",
              "  -0.02965797670185566,\n",
              "  0.03366885706782341,\n",
              "  -0.03354906663298607,\n",
              "  -0.03365884721279144,\n",
              "  0.011130149476230145,\n",
              "  -0.03366675600409508,\n",
              "  0.03364669159054756,\n",
              "  0.033499013632535934,\n",
              "  -0.03342165797948837])"
            ]
          },
          "metadata": {
            "tags": []
          },
          "execution_count": 5
        }
      ]
    },
    {
      "cell_type": "markdown",
      "metadata": {
        "id": "ewWbLuoBkU02"
      },
      "source": [
        "### Albert2Vec\n",
        "A Lite Bert"
      ]
    },
    {
      "cell_type": "code",
      "metadata": {
        "id": "zLslSstkjVdc",
        "outputId": "c7d15239-188d-45bc-8156-4fab7e543529",
        "colab": {
          "base_uri": "https://localhost:8080/"
        }
      },
      "source": [
        "from vectorhub.encoders.text.tfhub import Albert2Vec\n",
        "model = Albert2Vec()\n",
        "vector = model.encode(\"I enjoy taking long walks along the beach with my dog.\")\n",
        "len(vector), vector[:10]"
      ],
      "execution_count": null,
      "outputs": [
        {
          "output_type": "stream",
          "text": [
            "INFO:absl:Downloading TF-Hub Module 'https://tfhub.dev/tensorflow/albert_en_base/1'.\n",
            "INFO:absl:Downloaded https://tfhub.dev/tensorflow/albert_en_base/1, Total size: 48.10MB\n",
            "INFO:absl:Downloaded TF-Hub Module 'https://tfhub.dev/tensorflow/albert_en_base/1'.\n"
          ],
          "name": "stderr"
        },
        {
          "output_type": "execute_result",
          "data": {
            "text/plain": [
              "(768,\n",
              " [0.03405428305268288,\n",
              "  -0.03524768725037575,\n",
              "  0.031237035989761353,\n",
              "  -0.03513311222195625,\n",
              "  -0.02884356677532196,\n",
              "  -0.03916792944073677,\n",
              "  0.03403925895690918,\n",
              "  -0.03415806218981743,\n",
              "  0.03527441993355751,\n",
              "  -0.04166470468044281])"
            ]
          },
          "metadata": {
            "tags": []
          },
          "execution_count": 6
        }
      ]
    },
    {
      "cell_type": "markdown",
      "metadata": {
        "id": "dk2blUVakwtx"
      },
      "source": [
        "### LaBSE2Vec\n",
        "Language-agnostic BERT Sentence Embedding"
      ]
    },
    {
      "cell_type": "code",
      "metadata": {
        "id": "oJ_D7lFyjl7j",
        "outputId": "012f49ce-25c6-4ede-ecb8-e53c2b7f2356",
        "colab": {
          "base_uri": "https://localhost:8080/"
        }
      },
      "source": [
        "from vectorhub.encoders.text.tfhub import LaBSE2Vec\n",
        "model = LaBSE2Vec()\n",
        "vector = model.encode(\"I enjoy taking long walks along the beach with my dog.\")\n",
        "len(vector), vector[:10]"
      ],
      "execution_count": null,
      "outputs": [
        {
          "output_type": "stream",
          "text": [
            "INFO:absl:Downloading TF-Hub Module 'https://tfhub.dev/google/LaBSE/1'.\n",
            "INFO:absl:Downloading https://tfhub.dev/google/LaBSE/1: 1.16GB\n",
            "INFO:absl:Downloaded https://tfhub.dev/google/LaBSE/1, Total size: 1.76GB\n",
            "INFO:absl:Downloaded TF-Hub Module 'https://tfhub.dev/google/LaBSE/1'.\n"
          ],
          "name": "stderr"
        },
        {
          "output_type": "execute_result",
          "data": {
            "text/plain": [
              "(768,\n",
              " [0.027167297899723053,\n",
              "  -0.005929017439484596,\n",
              "  0.019955776631832123,\n",
              "  -0.06078488379716873,\n",
              "  -0.026142442598938942,\n",
              "  0.03975269943475723,\n",
              "  0.029897591099143028,\n",
              "  -0.04460829496383667,\n",
              "  -0.037575941532850266,\n",
              "  0.058584559708833694])"
            ]
          },
          "metadata": {
            "tags": []
          },
          "execution_count": 7
        }
      ]
    },
    {
      "cell_type": "markdown",
      "metadata": {
        "id": "W4zQF22zlC2k"
      },
      "source": [
        "### USE2Vec\n",
        "Universal Sentence Encoder"
      ]
    },
    {
      "cell_type": "code",
      "metadata": {
        "id": "yDX_7qfllCPe",
        "outputId": "1bf9074a-6596-43df-dbfb-9f2085480960",
        "colab": {
          "base_uri": "https://localhost:8080/"
        }
      },
      "source": [
        "from vectorhub.encoders.text.tfhub import USE2Vec\n",
        "model = USE2Vec()\n",
        "vector = model.encode(\"I enjoy taking long walks along the beach with my dog.\")\n",
        "len(vector), vector[:10]"
      ],
      "execution_count": null,
      "outputs": [
        {
          "output_type": "stream",
          "text": [
            "INFO:absl:Downloading TF-Hub Module 'https://tfhub.dev/google/universal-sentence-encoder/4'.\n",
            "INFO:absl:Downloaded https://tfhub.dev/google/universal-sentence-encoder/4, Total size: 987.47MB\n",
            "INFO:absl:Downloaded TF-Hub Module 'https://tfhub.dev/google/universal-sentence-encoder/4'.\n"
          ],
          "name": "stderr"
        },
        {
          "output_type": "stream",
          "text": [
            "WARNING:tensorflow:5 out of the last 5 calls to <function recreate_function.<locals>.restored_function_body at 0x7faf9317cd90> triggered tf.function retracing. Tracing is expensive and the excessive number of tracings could be due to (1) creating @tf.function repeatedly in a loop, (2) passing tensors with different shapes, (3) passing Python objects instead of tensors. For (1), please define your @tf.function outside of the loop. For (2), @tf.function has experimental_relax_shapes=True option that relaxes argument shapes that can avoid unnecessary retracing. For (3), please refer to https://www.tensorflow.org/tutorials/customization/performance#python_or_tensor_args and https://www.tensorflow.org/api_docs/python/tf/function for  more details.\n"
          ],
          "name": "stdout"
        },
        {
          "output_type": "stream",
          "text": [
            "WARNING:tensorflow:5 out of the last 5 calls to <function recreate_function.<locals>.restored_function_body at 0x7faf9317cd90> triggered tf.function retracing. Tracing is expensive and the excessive number of tracings could be due to (1) creating @tf.function repeatedly in a loop, (2) passing tensors with different shapes, (3) passing Python objects instead of tensors. For (1), please define your @tf.function outside of the loop. For (2), @tf.function has experimental_relax_shapes=True option that relaxes argument shapes that can avoid unnecessary retracing. For (3), please refer to https://www.tensorflow.org/tutorials/customization/performance#python_or_tensor_args and https://www.tensorflow.org/api_docs/python/tf/function for  more details.\n"
          ],
          "name": "stderr"
        },
        {
          "output_type": "execute_result",
          "data": {
            "text/plain": [
              "(512,\n",
              " [-0.021693523973226547,\n",
              "  -0.003992983140051365,\n",
              "  0.06716524064540863,\n",
              "  -0.028918830677866936,\n",
              "  -0.008241272531449795,\n",
              "  0.03175508603453636,\n",
              "  -0.09062724560499191,\n",
              "  -0.018945898860692978,\n",
              "  0.0801311507821083,\n",
              "  0.0006432731752283871])"
            ]
          },
          "metadata": {
            "tags": []
          },
          "execution_count": 8
        }
      ]
    },
    {
      "cell_type": "markdown",
      "metadata": {
        "id": "BVIipsAqlPva"
      },
      "source": [
        "### USEMulti2Vec\n",
        "Universal Sentence Encoder Multilingual"
      ]
    },
    {
      "cell_type": "code",
      "metadata": {
        "id": "rfQQl6JjlOgt",
        "outputId": "e3ce3898-f8bf-4d0f-e362-18f557ed7a6f",
        "colab": {
          "base_uri": "https://localhost:8080/"
        }
      },
      "source": [
        "from vectorhub.encoders.text.tfhub import USEMulti2Vec\n",
        "model = USEMulti2Vec()\n",
        "vector = model.encode(\"I enjoy taking long walks along the beach with my dog.\")\n",
        "len(vector), vector[:10]"
      ],
      "execution_count": null,
      "outputs": [
        {
          "output_type": "stream",
          "text": [
            "INFO:absl:Downloading TF-Hub Module 'https://tfhub.dev/google/universal-sentence-encoder-multilingual/3'.\n",
            "INFO:absl:Downloaded https://tfhub.dev/google/universal-sentence-encoder-multilingual/3, Total size: 266.88MB\n",
            "INFO:absl:Downloaded TF-Hub Module 'https://tfhub.dev/google/universal-sentence-encoder-multilingual/3'.\n"
          ],
          "name": "stderr"
        },
        {
          "output_type": "stream",
          "text": [
            "WARNING:tensorflow:6 out of the last 6 calls to <function recreate_function.<locals>.restored_function_body at 0x7fad8bfe5400> triggered tf.function retracing. Tracing is expensive and the excessive number of tracings could be due to (1) creating @tf.function repeatedly in a loop, (2) passing tensors with different shapes, (3) passing Python objects instead of tensors. For (1), please define your @tf.function outside of the loop. For (2), @tf.function has experimental_relax_shapes=True option that relaxes argument shapes that can avoid unnecessary retracing. For (3), please refer to https://www.tensorflow.org/tutorials/customization/performance#python_or_tensor_args and https://www.tensorflow.org/api_docs/python/tf/function for  more details.\n"
          ],
          "name": "stdout"
        },
        {
          "output_type": "stream",
          "text": [
            "WARNING:tensorflow:6 out of the last 6 calls to <function recreate_function.<locals>.restored_function_body at 0x7fad8bfe5400> triggered tf.function retracing. Tracing is expensive and the excessive number of tracings could be due to (1) creating @tf.function repeatedly in a loop, (2) passing tensors with different shapes, (3) passing Python objects instead of tensors. For (1), please define your @tf.function outside of the loop. For (2), @tf.function has experimental_relax_shapes=True option that relaxes argument shapes that can avoid unnecessary retracing. For (3), please refer to https://www.tensorflow.org/tutorials/customization/performance#python_or_tensor_args and https://www.tensorflow.org/api_docs/python/tf/function for  more details.\n"
          ],
          "name": "stderr"
        },
        {
          "output_type": "stream",
          "text": [
            "WARNING:tensorflow:7 out of the last 7 calls to <function recreate_function.<locals>.restored_function_body at 0x7fad8bee7268> triggered tf.function retracing. Tracing is expensive and the excessive number of tracings could be due to (1) creating @tf.function repeatedly in a loop, (2) passing tensors with different shapes, (3) passing Python objects instead of tensors. For (1), please define your @tf.function outside of the loop. For (2), @tf.function has experimental_relax_shapes=True option that relaxes argument shapes that can avoid unnecessary retracing. For (3), please refer to https://www.tensorflow.org/tutorials/customization/performance#python_or_tensor_args and https://www.tensorflow.org/api_docs/python/tf/function for  more details.\n"
          ],
          "name": "stdout"
        },
        {
          "output_type": "stream",
          "text": [
            "WARNING:tensorflow:7 out of the last 7 calls to <function recreate_function.<locals>.restored_function_body at 0x7fad8bee7268> triggered tf.function retracing. Tracing is expensive and the excessive number of tracings could be due to (1) creating @tf.function repeatedly in a loop, (2) passing tensors with different shapes, (3) passing Python objects instead of tensors. For (1), please define your @tf.function outside of the loop. For (2), @tf.function has experimental_relax_shapes=True option that relaxes argument shapes that can avoid unnecessary retracing. For (3), please refer to https://www.tensorflow.org/tutorials/customization/performance#python_or_tensor_args and https://www.tensorflow.org/api_docs/python/tf/function for  more details.\n"
          ],
          "name": "stderr"
        },
        {
          "output_type": "stream",
          "text": [
            "WARNING:tensorflow:8 out of the last 8 calls to <function recreate_function.<locals>.restored_function_body at 0x7faf955247b8> triggered tf.function retracing. Tracing is expensive and the excessive number of tracings could be due to (1) creating @tf.function repeatedly in a loop, (2) passing tensors with different shapes, (3) passing Python objects instead of tensors. For (1), please define your @tf.function outside of the loop. For (2), @tf.function has experimental_relax_shapes=True option that relaxes argument shapes that can avoid unnecessary retracing. For (3), please refer to https://www.tensorflow.org/tutorials/customization/performance#python_or_tensor_args and https://www.tensorflow.org/api_docs/python/tf/function for  more details.\n"
          ],
          "name": "stdout"
        },
        {
          "output_type": "stream",
          "text": [
            "WARNING:tensorflow:8 out of the last 8 calls to <function recreate_function.<locals>.restored_function_body at 0x7faf955247b8> triggered tf.function retracing. Tracing is expensive and the excessive number of tracings could be due to (1) creating @tf.function repeatedly in a loop, (2) passing tensors with different shapes, (3) passing Python objects instead of tensors. For (1), please define your @tf.function outside of the loop. For (2), @tf.function has experimental_relax_shapes=True option that relaxes argument shapes that can avoid unnecessary retracing. For (3), please refer to https://www.tensorflow.org/tutorials/customization/performance#python_or_tensor_args and https://www.tensorflow.org/api_docs/python/tf/function for  more details.\n"
          ],
          "name": "stderr"
        },
        {
          "output_type": "execute_result",
          "data": {
            "text/plain": [
              "(512,\n",
              " [-0.0055238655768334866,\n",
              "  0.0059953066520392895,\n",
              "  -0.014805448241531849,\n",
              "  0.010989478789269924,\n",
              "  -0.09355521947145462,\n",
              "  -0.08445048332214355,\n",
              "  -0.028026795014739037,\n",
              "  -0.05219321325421333,\n",
              "  -0.0675998106598854,\n",
              "  0.031273119151592255])"
            ]
          },
          "metadata": {
            "tags": []
          },
          "execution_count": 9
        }
      ]
    },
    {
      "cell_type": "markdown",
      "metadata": {
        "id": "QVVsLapQqst8"
      },
      "source": [
        "### USELite2Vec (Requires disabling tf2)\n",
        "Universal Sentence Encoder Lite (uncomment to run, the rest of the code might not work though)"
      ]
    },
    {
      "cell_type": "code",
      "metadata": {
        "id": "98pIIjC3p3CW"
      },
      "source": [
        "# from vectorhub.encoders.text.tfhub import USELite2Vec\n",
        "# model = USELite2Vec()\n",
        "# model.init()\n",
        "# vector = model.encode(\"I enjoy taking long walks along the beach with my dog.\")\n",
        "# len(vector), vector[:10]"
      ],
      "execution_count": null,
      "outputs": []
    },
    {
      "cell_type": "markdown",
      "metadata": {
        "id": "tLx8z-i-ru94"
      },
      "source": [
        "## Transformers Models\n",
        "NLP Models made by hugging face\n",
        "\n",
        "For Pytorch\n",
        "\n",
        "!pip install vectorhub[encoders-text-torch-transformers]\n",
        "\n",
        "For Tensorflow\n",
        "\n",
        "!pip install vectorhub[encoders-text-tf-transformers]"
      ]
    },
    {
      "cell_type": "markdown",
      "metadata": {
        "id": "1Ihm8m40wYOT"
      },
      "source": [
        "### PyTorch Transformers Bert"
      ]
    },
    {
      "cell_type": "code",
      "metadata": {
        "id": "9iZtNarertqO",
        "outputId": "9671b995-8e34-4a01-c111-1ffee3b2d9af",
        "colab": {
          "base_uri": "https://localhost:8080/",
          "height": 439,
          "referenced_widgets": [
            "10a7a326a9d24d72a0e912a02b07dc7b",
            "e8d18ff4879647288637fe05bcfcd326",
            "8c7b1b6de51640f2baccfb0c6613c3f6",
            "f74d902ee7914d9e92e3ee1499b95f9b",
            "eba2ff9d10a849a4bd67ac768d39eeda",
            "3a6c1bb3c8334654963c2cde9ae78e86",
            "12e86dc0691c4c4f8110069ebccacbd8",
            "e62e753741ac499cb50597d0cb14136b",
            "11043cb2bde147fba0bab6ceef446a35",
            "6aed205579554f818283128a75b630b6",
            "5093f3fca112492f815574f75a059afc",
            "f9f33ccfcb254fccadf70eb33a9fb244",
            "ff36308704064ae7a41464bc4c407e65",
            "532600a5a4f446de8af1f8dbe503caa2",
            "4bfc0f8acb2f4c068561c743eae5e67e",
            "a8d1f129e80b411aabae0dae733584ca",
            "59f65145880f4c3ea975643978c1544a",
            "6119357bc98245bab1a9f8b7724e97b5",
            "c2678746f9a04e0fa1968833318ff25e",
            "7f85413cfdc4424a9fb18f4d279f8dc6",
            "e9d93263cf984496b52cf2280c85bdc4",
            "bff44fc5c6194fa19343cda7bfea99ad",
            "04d0c10e9f2644dd99b2e484b80621ce",
            "a4c3f97532d24f349af8f145c997ab4d"
          ]
        }
      },
      "source": [
        "from vectorhub.encoders.text.torch_transformers import Transformer2Vec\n",
        "model = Transformer2Vec('bert-base-uncased')\n",
        "vector = model.encode(\"I enjoy taking long walks along the beach with my dog.\")\n",
        "len(vector), vector[:10]"
      ],
      "execution_count": null,
      "outputs": [
        {
          "output_type": "display_data",
          "data": {
            "application/vnd.jupyter.widget-view+json": {
              "model_id": "10a7a326a9d24d72a0e912a02b07dc7b",
              "version_minor": 0,
              "version_major": 2
            },
            "text/plain": [
              "HBox(children=(FloatProgress(value=0.0, description='Downloading', max=433.0, style=ProgressStyle(description_…"
            ]
          },
          "metadata": {
            "tags": []
          }
        },
        {
          "output_type": "stream",
          "text": [
            "\n"
          ],
          "name": "stdout"
        },
        {
          "output_type": "display_data",
          "data": {
            "application/vnd.jupyter.widget-view+json": {
              "model_id": "11043cb2bde147fba0bab6ceef446a35",
              "version_minor": 0,
              "version_major": 2
            },
            "text/plain": [
              "HBox(children=(FloatProgress(value=0.0, description='Downloading', max=440473133.0, style=ProgressStyle(descri…"
            ]
          },
          "metadata": {
            "tags": []
          }
        },
        {
          "output_type": "stream",
          "text": [
            "\n"
          ],
          "name": "stdout"
        },
        {
          "output_type": "display_data",
          "data": {
            "application/vnd.jupyter.widget-view+json": {
              "model_id": "59f65145880f4c3ea975643978c1544a",
              "version_minor": 0,
              "version_major": 2
            },
            "text/plain": [
              "HBox(children=(FloatProgress(value=0.0, description='Downloading', max=231508.0, style=ProgressStyle(descripti…"
            ]
          },
          "metadata": {
            "tags": []
          }
        },
        {
          "output_type": "stream",
          "text": [
            "\n",
            "Transformer2Vec uses the AutoModel to allow for easier models.\n",
            "Therefore, not all models will worked but most do. Call the list of tested transformer models using list_tested_models.\n",
            "WARNING:tensorflow:9 out of the last 9 calls to <function recreate_function.<locals>.restored_function_body at 0x7faf0c6ee9d8> triggered tf.function retracing. Tracing is expensive and the excessive number of tracings could be due to (1) creating @tf.function repeatedly in a loop, (2) passing tensors with different shapes, (3) passing Python objects instead of tensors. For (1), please define your @tf.function outside of the loop. For (2), @tf.function has experimental_relax_shapes=True option that relaxes argument shapes that can avoid unnecessary retracing. For (3), please refer to https://www.tensorflow.org/tutorials/customization/performance#python_or_tensor_args and https://www.tensorflow.org/api_docs/python/tf/function for  more details.\n"
          ],
          "name": "stdout"
        },
        {
          "output_type": "stream",
          "text": [
            "WARNING:tensorflow:9 out of the last 9 calls to <function recreate_function.<locals>.restored_function_body at 0x7faf0c6ee9d8> triggered tf.function retracing. Tracing is expensive and the excessive number of tracings could be due to (1) creating @tf.function repeatedly in a loop, (2) passing tensors with different shapes, (3) passing Python objects instead of tensors. For (1), please define your @tf.function outside of the loop. For (2), @tf.function has experimental_relax_shapes=True option that relaxes argument shapes that can avoid unnecessary retracing. For (3), please refer to https://www.tensorflow.org/tutorials/customization/performance#python_or_tensor_args and https://www.tensorflow.org/api_docs/python/tf/function for  more details.\n"
          ],
          "name": "stderr"
        },
        {
          "output_type": "execute_result",
          "data": {
            "text/plain": [
              "(768,\n",
              " [0.4650784134864807,\n",
              "  0.11635451763868332,\n",
              "  0.08455784618854523,\n",
              "  0.17221440374851227,\n",
              "  0.12946262955665588,\n",
              "  -0.4637109637260437,\n",
              "  -0.14737677574157715,\n",
              "  0.7618239521980286,\n",
              "  -0.2946079671382904,\n",
              "  0.1236734613776207])"
            ]
          },
          "metadata": {
            "tags": []
          },
          "execution_count": 11
        }
      ]
    },
    {
      "cell_type": "markdown",
      "metadata": {
        "id": "hjPfQtFdwbSr"
      },
      "source": [
        "### Tensorflow Transformers Bert"
      ]
    },
    {
      "cell_type": "code",
      "metadata": {
        "id": "FOuZzgdOrtt2",
        "outputId": "95b01751-f1c5-436b-a267-a460d090384d",
        "colab": {
          "base_uri": "https://localhost:8080/",
          "height": 358,
          "referenced_widgets": [
            "27b4458473054050a1997b160d502d8d",
            "689844b256034e14a6ea9aaaeaad34b4",
            "fd428e37db8741afaa5a9805dcd29e5d",
            "31f65c6982954df8a00f2ff17872e5cb",
            "c7668fa4508849c7bef7e15165f89826",
            "728a6cd994d34503890f634cd4670c56",
            "a3ca4abf8e684658b1f1ed9c1dfa8f03",
            "ad049ccdefd74201ae674782a16cbadc"
          ]
        }
      },
      "source": [
        "from vectorhub.encoders.text.tf_transformers import TFTransformer2Vec\n",
        "model = TFTransformer2Vec('bert-base-uncased')\n",
        "vector = model.encode(\"I enjoy taking long walks along the beach with my dog.\")\n",
        "len(vector), vector[:10]"
      ],
      "execution_count": null,
      "outputs": [
        {
          "output_type": "display_data",
          "data": {
            "application/vnd.jupyter.widget-view+json": {
              "model_id": "27b4458473054050a1997b160d502d8d",
              "version_minor": 0,
              "version_major": 2
            },
            "text/plain": [
              "HBox(children=(FloatProgress(value=0.0, description='Downloading', max=536063208.0, style=ProgressStyle(descri…"
            ]
          },
          "metadata": {
            "tags": []
          }
        },
        {
          "output_type": "stream",
          "text": [
            "\n"
          ],
          "name": "stdout"
        },
        {
          "output_type": "stream",
          "text": [
            "Some layers from the model checkpoint at bert-base-uncased were not used when initializing TFBertModel: ['nsp___cls', 'mlm___cls']\n",
            "- This IS expected if you are initializing TFBertModel from the checkpoint of a model trained on another task or with another architecture (e.g. initializing a BertForSequenceClassification model from a BertForPretraining model).\n",
            "- This IS NOT expected if you are initializing TFBertModel from the checkpoint of a model that you expect to be exactly identical (initializing a BertForSequenceClassification model from a BertForSequenceClassification model).\n",
            "All the layers of TFBertModel were initialized from the model checkpoint at bert-base-uncased.\n",
            "If your task is similar to the task the model of the checkpoint was trained on, you can already use TFBertModel for predictions without further training.\n"
          ],
          "name": "stderr"
        },
        {
          "output_type": "execute_result",
          "data": {
            "text/plain": [
              "(768,\n",
              " [0.4650786519050598,\n",
              "  0.11635440587997437,\n",
              "  0.08455801010131836,\n",
              "  0.17221422493457794,\n",
              "  0.12946268916130066,\n",
              "  -0.463710755109787,\n",
              "  -0.1473766714334488,\n",
              "  0.7618241906166077,\n",
              "  -0.29460790753364563,\n",
              "  0.12367347627878189])"
            ]
          },
          "metadata": {
            "tags": []
          },
          "execution_count": 12
        }
      ]
    },
    {
      "cell_type": "markdown",
      "metadata": {
        "id": "EteWJa7AspHW"
      },
      "source": [
        "## Sentence Transformers Models\n",
        "NLP Models made by UKPLab\n",
        "\n",
        "!pip install vectorhub[encoders-text-sentence-transformers]"
      ]
    },
    {
      "cell_type": "markdown",
      "metadata": {
        "id": "SeF_PuWWtXfD"
      },
      "source": [
        "### XLM DistilRoberta \n",
        "Trained on Paraphrase data"
      ]
    },
    {
      "cell_type": "code",
      "metadata": {
        "id": "rR76yNN9szQY",
        "outputId": "c3e2a836-e811-4ab0-feac-fd7e9c962144",
        "colab": {
          "base_uri": "https://localhost:8080/"
        }
      },
      "source": [
        "from vectorhub.encoders.text.sentence_transformers import SentenceTransformer2Vec\n",
        "\n",
        "model = SentenceTransformer2Vec('xlm-r-distilroberta-base-paraphrase-v1')\n",
        "vector = model.encode(\"I enjoy taking long walks along the beach with my dog.\")\n",
        "len(vector), vector[:10]"
      ],
      "execution_count": null,
      "outputs": [
        {
          "output_type": "execute_result",
          "data": {
            "text/plain": [
              "(768,\n",
              " [0.031084515154361725,\n",
              "  0.6847583055496216,\n",
              "  0.11592256277799606,\n",
              "  0.273422509431839,\n",
              "  -0.15308502316474915,\n",
              "  0.3989627957344055,\n",
              "  0.008972018957138062,\n",
              "  -0.23263610899448395,\n",
              "  0.07519139349460602,\n",
              "  0.2651992440223694])"
            ]
          },
          "metadata": {
            "tags": []
          },
          "execution_count": 13
        }
      ]
    },
    {
      "cell_type": "markdown",
      "metadata": {
        "id": "851pmkW6tfV_"
      },
      "source": [
        "### Roberta Large\n",
        "Trained on Semantic Textual Similarity"
      ]
    },
    {
      "cell_type": "code",
      "metadata": {
        "id": "AxwAeV9hszio",
        "outputId": "11207992-b957-4cc8-fcc9-1bc1188e59ac",
        "colab": {
          "base_uri": "https://localhost:8080/"
        }
      },
      "source": [
        "from vectorhub.encoders.text.sentence_transformers import SentenceTransformer2Vec\n",
        "\n",
        "model = SentenceTransformer2Vec('roberta-large-nli-stsb-mean-tokens')\n",
        "vector = model.encode(\"I enjoy taking long walks along the beach with my dog.\")\n",
        "len(vector), vector[:10]"
      ],
      "execution_count": null,
      "outputs": [
        {
          "output_type": "execute_result",
          "data": {
            "text/plain": [
              "(1024,\n",
              " [-1.050469160079956,\n",
              "  -0.3698076605796814,\n",
              "  -1.1695324182510376,\n",
              "  0.5883575081825256,\n",
              "  0.6294163465499878,\n",
              "  -0.5596891641616821,\n",
              "  -0.1414034068584442,\n",
              "  0.5867344737052917,\n",
              "  -1.0417426824569702,\n",
              "  0.5338972210884094])"
            ]
          },
          "metadata": {
            "tags": []
          },
          "execution_count": 14
        }
      ]
    },
    {
      "cell_type": "markdown",
      "metadata": {
        "id": "AGaoMs8_xsH-"
      },
      "source": [
        "# Image2Vec - Turn Image to Vectors"
      ]
    },
    {
      "cell_type": "markdown",
      "metadata": {
        "id": "Eel8tptfx0F0"
      },
      "source": [
        "## TFHub Models\n",
        "!pip install vectorhub[encoders-image-tfhub]"
      ]
    },
    {
      "cell_type": "markdown",
      "metadata": {
        "id": "3fEuiI8jx0LX"
      },
      "source": [
        "### BIT2Vec\n",
        "BiT - Big Transfer, General Visual Representation Learning"
      ]
    },
    {
      "cell_type": "code",
      "metadata": {
        "id": "ppo-2-8HxqcL",
        "outputId": "036edb11-6c9f-4a49-f911-e7539518ef17",
        "colab": {
          "base_uri": "https://localhost:8080/"
        }
      },
      "source": [
        "from vectorhub.encoders.image.tfhub import BitSmall2Vec\n",
        "model = BitSmall2Vec()\n",
        "sample = model.read('https://getvectorai.com/assets/hub-logo-with-text.png')\n",
        "vector = model.encode(sample)\n",
        "len(vector), vector[:10]"
      ],
      "execution_count": null,
      "outputs": [
        {
          "output_type": "stream",
          "text": [
            "INFO:absl:Downloading TF-Hub Module 'https://tfhub.dev/google/bit/s-r50x1/1'.\n",
            "INFO:absl:Downloaded https://tfhub.dev/google/bit/s-r50x1/1, Total size: 99.69MB\n",
            "INFO:absl:Downloaded TF-Hub Module 'https://tfhub.dev/google/bit/s-r50x1/1'.\n"
          ],
          "name": "stderr"
        },
        {
          "output_type": "stream",
          "text": [
            "WARNING:tensorflow:10 out of the last 10 calls to <function recreate_function.<locals>.restored_function_body at 0x7fad4291c6a8> triggered tf.function retracing. Tracing is expensive and the excessive number of tracings could be due to (1) creating @tf.function repeatedly in a loop, (2) passing tensors with different shapes, (3) passing Python objects instead of tensors. For (1), please define your @tf.function outside of the loop. For (2), @tf.function has experimental_relax_shapes=True option that relaxes argument shapes that can avoid unnecessary retracing. For (3), please refer to https://www.tensorflow.org/tutorials/customization/performance#python_or_tensor_args and https://www.tensorflow.org/api_docs/python/tf/function for  more details.\n"
          ],
          "name": "stdout"
        },
        {
          "output_type": "stream",
          "text": [
            "WARNING:tensorflow:10 out of the last 10 calls to <function recreate_function.<locals>.restored_function_body at 0x7fad4291c6a8> triggered tf.function retracing. Tracing is expensive and the excessive number of tracings could be due to (1) creating @tf.function repeatedly in a loop, (2) passing tensors with different shapes, (3) passing Python objects instead of tensors. For (1), please define your @tf.function outside of the loop. For (2), @tf.function has experimental_relax_shapes=True option that relaxes argument shapes that can avoid unnecessary retracing. For (3), please refer to https://www.tensorflow.org/tutorials/customization/performance#python_or_tensor_args and https://www.tensorflow.org/api_docs/python/tf/function for  more details.\n"
          ],
          "name": "stderr"
        },
        {
          "output_type": "execute_result",
          "data": {
            "text/plain": [
              "(2048,\n",
              " [0.2968096137046814,\n",
              "  0.04607969522476196,\n",
              "  0.01748301088809967,\n",
              "  0.0,\n",
              "  0.13056597113609314,\n",
              "  1.5501508712768555,\n",
              "  0.0008884340641088784,\n",
              "  0.623866617679596,\n",
              "  0.17756488919258118,\n",
              "  0.1549355536699295])"
            ]
          },
          "metadata": {
            "tags": []
          },
          "execution_count": 15
        }
      ]
    },
    {
      "cell_type": "code",
      "metadata": {
        "id": "QH9uutquyq3K",
        "outputId": "b79899b8-d045-4edc-c0fd-67f9cb9276d5",
        "colab": {
          "base_uri": "https://localhost:8080/"
        }
      },
      "source": [
        "from vectorhub.encoders.image.tfhub import BitMedium2Vec\n",
        "model = BitMedium2Vec()\n",
        "sample = model.read('https://getvectorai.com/assets/hub-logo-with-text.png')\n",
        "vector = model.encode(sample)\n",
        "len(vector), vector[:10]"
      ],
      "execution_count": null,
      "outputs": [
        {
          "output_type": "stream",
          "text": [
            "INFO:absl:Downloading TF-Hub Module 'https://tfhub.dev/google/bit/m-r50x1/1'.\n",
            "INFO:absl:Downloaded https://tfhub.dev/google/bit/m-r50x1/1, Total size: 99.69MB\n",
            "INFO:absl:Downloaded TF-Hub Module 'https://tfhub.dev/google/bit/m-r50x1/1'.\n"
          ],
          "name": "stderr"
        },
        {
          "output_type": "stream",
          "text": [
            "WARNING:tensorflow:11 out of the last 11 calls to <function recreate_function.<locals>.restored_function_body at 0x7fad30400d90> triggered tf.function retracing. Tracing is expensive and the excessive number of tracings could be due to (1) creating @tf.function repeatedly in a loop, (2) passing tensors with different shapes, (3) passing Python objects instead of tensors. For (1), please define your @tf.function outside of the loop. For (2), @tf.function has experimental_relax_shapes=True option that relaxes argument shapes that can avoid unnecessary retracing. For (3), please refer to https://www.tensorflow.org/tutorials/customization/performance#python_or_tensor_args and https://www.tensorflow.org/api_docs/python/tf/function for  more details.\n"
          ],
          "name": "stdout"
        },
        {
          "output_type": "stream",
          "text": [
            "WARNING:tensorflow:11 out of the last 11 calls to <function recreate_function.<locals>.restored_function_body at 0x7fad30400d90> triggered tf.function retracing. Tracing is expensive and the excessive number of tracings could be due to (1) creating @tf.function repeatedly in a loop, (2) passing tensors with different shapes, (3) passing Python objects instead of tensors. For (1), please define your @tf.function outside of the loop. For (2), @tf.function has experimental_relax_shapes=True option that relaxes argument shapes that can avoid unnecessary retracing. For (3), please refer to https://www.tensorflow.org/tutorials/customization/performance#python_or_tensor_args and https://www.tensorflow.org/api_docs/python/tf/function for  more details.\n"
          ],
          "name": "stderr"
        },
        {
          "output_type": "execute_result",
          "data": {
            "text/plain": [
              "(2048,\n",
              " [0.30790072679519653,\n",
              "  0.0,\n",
              "  0.7188968658447266,\n",
              "  0.07674463093280792,\n",
              "  0.13097591698169708,\n",
              "  1.5629138946533203,\n",
              "  0.9586008787155151,\n",
              "  0.0,\n",
              "  0.0033455684315413237,\n",
              "  0.026440966874361038])"
            ]
          },
          "metadata": {
            "tags": []
          },
          "execution_count": 16
        }
      ]
    },
    {
      "cell_type": "markdown",
      "metadata": {
        "id": "z7Lh6K4xysan"
      },
      "source": [
        "### Inception2Vec\n",
        "Inception"
      ]
    },
    {
      "cell_type": "code",
      "metadata": {
        "id": "IWGEffZOysap",
        "outputId": "e42a99ac-72b5-4264-a3f7-73e3510b0ad5",
        "colab": {
          "base_uri": "https://localhost:8080/"
        }
      },
      "source": [
        "from vectorhub.encoders.image.tfhub import InceptionV12Vec\n",
        "model = InceptionV12Vec()\n",
        "sample = model.read('https://getvectorai.com/assets/hub-logo-with-text.png')\n",
        "vector = model.encode(sample)\n",
        "len(vector), vector[:10]"
      ],
      "execution_count": null,
      "outputs": [
        {
          "output_type": "stream",
          "text": [
            "INFO:absl:Downloading TF-Hub Module 'https://tfhub.dev/google/imagenet/inception_v1/feature_vector/4'.\n",
            "INFO:absl:Downloaded https://tfhub.dev/google/imagenet/inception_v1/feature_vector/4, Total size: 22.81MB\n",
            "INFO:absl:Downloaded TF-Hub Module 'https://tfhub.dev/google/imagenet/inception_v1/feature_vector/4'.\n"
          ],
          "name": "stderr"
        },
        {
          "output_type": "stream",
          "text": [
            "WARNING:tensorflow:11 out of the last 11 calls to <function recreate_function.<locals>.restored_function_body at 0x7fad4293c6a8> triggered tf.function retracing. Tracing is expensive and the excessive number of tracings could be due to (1) creating @tf.function repeatedly in a loop, (2) passing tensors with different shapes, (3) passing Python objects instead of tensors. For (1), please define your @tf.function outside of the loop. For (2), @tf.function has experimental_relax_shapes=True option that relaxes argument shapes that can avoid unnecessary retracing. For (3), please refer to https://www.tensorflow.org/tutorials/customization/performance#python_or_tensor_args and https://www.tensorflow.org/api_docs/python/tf/function for  more details.\n"
          ],
          "name": "stdout"
        },
        {
          "output_type": "stream",
          "text": [
            "WARNING:tensorflow:11 out of the last 11 calls to <function recreate_function.<locals>.restored_function_body at 0x7fad4293c6a8> triggered tf.function retracing. Tracing is expensive and the excessive number of tracings could be due to (1) creating @tf.function repeatedly in a loop, (2) passing tensors with different shapes, (3) passing Python objects instead of tensors. For (1), please define your @tf.function outside of the loop. For (2), @tf.function has experimental_relax_shapes=True option that relaxes argument shapes that can avoid unnecessary retracing. For (3), please refer to https://www.tensorflow.org/tutorials/customization/performance#python_or_tensor_args and https://www.tensorflow.org/api_docs/python/tf/function for  more details.\n"
          ],
          "name": "stderr"
        },
        {
          "output_type": "execute_result",
          "data": {
            "text/plain": [
              "(1024,\n",
              " [23.6610050201416,\n",
              "  0.33202308416366577,\n",
              "  4.330678939819336,\n",
              "  29.95806884765625,\n",
              "  4.646924018859863,\n",
              "  0.0,\n",
              "  44.74129104614258,\n",
              "  2.7335867881774902,\n",
              "  11.655862808227539,\n",
              "  0.007075734436511993])"
            ]
          },
          "metadata": {
            "tags": []
          },
          "execution_count": 17
        }
      ]
    },
    {
      "cell_type": "code",
      "metadata": {
        "id": "WuTr3vv1ysD-",
        "outputId": "8f0434ef-62a0-4e82-a8cf-9f4a57d5795d",
        "colab": {
          "base_uri": "https://localhost:8080/"
        }
      },
      "source": [
        "from vectorhub.encoders.image.tfhub import InceptionV22Vec\n",
        "model = InceptionV22Vec()\n",
        "sample = model.read('https://getvectorai.com/assets/hub-logo-with-text.png')\n",
        "vector = model.encode(sample)\n",
        "len(vector), vector[:10]"
      ],
      "execution_count": null,
      "outputs": [
        {
          "output_type": "stream",
          "text": [
            "INFO:absl:Downloading TF-Hub Module 'https://tfhub.dev/google/imagenet/inception_v2/feature_vector/4'.\n",
            "INFO:absl:Downloaded https://tfhub.dev/google/imagenet/inception_v2/feature_vector/4, Total size: 40.51MB\n",
            "INFO:absl:Downloaded TF-Hub Module 'https://tfhub.dev/google/imagenet/inception_v2/feature_vector/4'.\n"
          ],
          "name": "stderr"
        },
        {
          "output_type": "stream",
          "text": [
            "WARNING:tensorflow:11 out of the last 11 calls to <function recreate_function.<locals>.restored_function_body at 0x7fad302b3730> triggered tf.function retracing. Tracing is expensive and the excessive number of tracings could be due to (1) creating @tf.function repeatedly in a loop, (2) passing tensors with different shapes, (3) passing Python objects instead of tensors. For (1), please define your @tf.function outside of the loop. For (2), @tf.function has experimental_relax_shapes=True option that relaxes argument shapes that can avoid unnecessary retracing. For (3), please refer to https://www.tensorflow.org/tutorials/customization/performance#python_or_tensor_args and https://www.tensorflow.org/api_docs/python/tf/function for  more details.\n"
          ],
          "name": "stdout"
        },
        {
          "output_type": "stream",
          "text": [
            "WARNING:tensorflow:11 out of the last 11 calls to <function recreate_function.<locals>.restored_function_body at 0x7fad302b3730> triggered tf.function retracing. Tracing is expensive and the excessive number of tracings could be due to (1) creating @tf.function repeatedly in a loop, (2) passing tensors with different shapes, (3) passing Python objects instead of tensors. For (1), please define your @tf.function outside of the loop. For (2), @tf.function has experimental_relax_shapes=True option that relaxes argument shapes that can avoid unnecessary retracing. For (3), please refer to https://www.tensorflow.org/tutorials/customization/performance#python_or_tensor_args and https://www.tensorflow.org/api_docs/python/tf/function for  more details.\n"
          ],
          "name": "stderr"
        },
        {
          "output_type": "execute_result",
          "data": {
            "text/plain": [
              "(1024,\n",
              " [0.0009709870209917426,\n",
              "  0.0,\n",
              "  2.7877917289733887,\n",
              "  23.551044464111328,\n",
              "  0.0,\n",
              "  57.676780700683594,\n",
              "  23.372207641601562,\n",
              "  27.082447052001953,\n",
              "  1.4271756410598755,\n",
              "  4.103132247924805])"
            ]
          },
          "metadata": {
            "tags": []
          },
          "execution_count": 18
        }
      ]
    },
    {
      "cell_type": "code",
      "metadata": {
        "id": "Ffa-U63XysKS",
        "outputId": "cca5b52d-acce-4875-db6f-33787a78fddf",
        "colab": {
          "base_uri": "https://localhost:8080/"
        }
      },
      "source": [
        "from vectorhub.encoders.image.tfhub import InceptionV32Vec\n",
        "model = InceptionV32Vec()\n",
        "sample = model.read('https://getvectorai.com/assets/hub-logo-with-text.png')\n",
        "vector = model.encode(sample)\n",
        "len(vector), vector[:10]"
      ],
      "execution_count": null,
      "outputs": [
        {
          "output_type": "stream",
          "text": [
            "INFO:absl:Downloading TF-Hub Module 'https://tfhub.dev/google/imagenet/inception_v3/feature_vector/4'.\n",
            "INFO:absl:Downloaded https://tfhub.dev/google/imagenet/inception_v3/feature_vector/4, Total size: 85.49MB\n",
            "INFO:absl:Downloaded TF-Hub Module 'https://tfhub.dev/google/imagenet/inception_v3/feature_vector/4'.\n"
          ],
          "name": "stderr"
        },
        {
          "output_type": "stream",
          "text": [
            "WARNING:tensorflow:11 out of the last 11 calls to <function recreate_function.<locals>.restored_function_body at 0x7fad303642f0> triggered tf.function retracing. Tracing is expensive and the excessive number of tracings could be due to (1) creating @tf.function repeatedly in a loop, (2) passing tensors with different shapes, (3) passing Python objects instead of tensors. For (1), please define your @tf.function outside of the loop. For (2), @tf.function has experimental_relax_shapes=True option that relaxes argument shapes that can avoid unnecessary retracing. For (3), please refer to https://www.tensorflow.org/tutorials/customization/performance#python_or_tensor_args and https://www.tensorflow.org/api_docs/python/tf/function for  more details.\n"
          ],
          "name": "stdout"
        },
        {
          "output_type": "stream",
          "text": [
            "WARNING:tensorflow:11 out of the last 11 calls to <function recreate_function.<locals>.restored_function_body at 0x7fad303642f0> triggered tf.function retracing. Tracing is expensive and the excessive number of tracings could be due to (1) creating @tf.function repeatedly in a loop, (2) passing tensors with different shapes, (3) passing Python objects instead of tensors. For (1), please define your @tf.function outside of the loop. For (2), @tf.function has experimental_relax_shapes=True option that relaxes argument shapes that can avoid unnecessary retracing. For (3), please refer to https://www.tensorflow.org/tutorials/customization/performance#python_or_tensor_args and https://www.tensorflow.org/api_docs/python/tf/function for  more details.\n"
          ],
          "name": "stderr"
        },
        {
          "output_type": "execute_result",
          "data": {
            "text/plain": [
              "(2048,\n",
              " [0.7830013036727905,\n",
              "  5.030923366546631,\n",
              "  7.418567180633545,\n",
              "  50.96066665649414,\n",
              "  46.93928146362305,\n",
              "  19.61231231689453,\n",
              "  5.568574905395508,\n",
              "  32.246246337890625,\n",
              "  7.484476566314697,\n",
              "  21.118955612182617])"
            ]
          },
          "metadata": {
            "tags": []
          },
          "execution_count": 19
        }
      ]
    },
    {
      "cell_type": "markdown",
      "metadata": {
        "id": "fC4kpr6gzxf2"
      },
      "source": [
        "### Resnet2Vec\n",
        "Resnet"
      ]
    },
    {
      "cell_type": "code",
      "metadata": {
        "id": "2Iwf-oPgzxf4",
        "outputId": "d8a5ea53-ae76-4a78-ba9d-b7ee5a7c015b",
        "colab": {
          "base_uri": "https://localhost:8080/"
        }
      },
      "source": [
        "from vectorhub.encoders.image.tfhub import ResnetV12Vec\n",
        "model = ResnetV12Vec()\n",
        "sample = model.read('https://getvectorai.com/assets/hub-logo-with-text.png')\n",
        "vector = model.encode(sample)\n",
        "len(vector), vector[:10]"
      ],
      "execution_count": null,
      "outputs": [
        {
          "output_type": "stream",
          "text": [
            "INFO:absl:Downloading TF-Hub Module 'https://tfhub.dev/google/imagenet/resnet_v1_50/feature_vector/4'.\n",
            "INFO:absl:Downloaded https://tfhub.dev/google/imagenet/resnet_v1_50/feature_vector/4, Total size: 91.36MB\n",
            "INFO:absl:Downloaded TF-Hub Module 'https://tfhub.dev/google/imagenet/resnet_v1_50/feature_vector/4'.\n"
          ],
          "name": "stderr"
        },
        {
          "output_type": "stream",
          "text": [
            "WARNING:tensorflow:11 out of the last 11 calls to <function recreate_function.<locals>.restored_function_body at 0x7fad2ebcc1e0> triggered tf.function retracing. Tracing is expensive and the excessive number of tracings could be due to (1) creating @tf.function repeatedly in a loop, (2) passing tensors with different shapes, (3) passing Python objects instead of tensors. For (1), please define your @tf.function outside of the loop. For (2), @tf.function has experimental_relax_shapes=True option that relaxes argument shapes that can avoid unnecessary retracing. For (3), please refer to https://www.tensorflow.org/tutorials/customization/performance#python_or_tensor_args and https://www.tensorflow.org/api_docs/python/tf/function for  more details.\n"
          ],
          "name": "stdout"
        },
        {
          "output_type": "stream",
          "text": [
            "WARNING:tensorflow:11 out of the last 11 calls to <function recreate_function.<locals>.restored_function_body at 0x7fad2ebcc1e0> triggered tf.function retracing. Tracing is expensive and the excessive number of tracings could be due to (1) creating @tf.function repeatedly in a loop, (2) passing tensors with different shapes, (3) passing Python objects instead of tensors. For (1), please define your @tf.function outside of the loop. For (2), @tf.function has experimental_relax_shapes=True option that relaxes argument shapes that can avoid unnecessary retracing. For (3), please refer to https://www.tensorflow.org/tutorials/customization/performance#python_or_tensor_args and https://www.tensorflow.org/api_docs/python/tf/function for  more details.\n"
          ],
          "name": "stderr"
        },
        {
          "output_type": "execute_result",
          "data": {
            "text/plain": [
              "(2048,\n",
              " [0.0,\n",
              "  0.0,\n",
              "  44.77119827270508,\n",
              "  2.9527504444122314,\n",
              "  0.0,\n",
              "  3.1913535594940186,\n",
              "  0.2675448954105377,\n",
              "  31.209884643554688,\n",
              "  0.0,\n",
              "  0.06867393106222153])"
            ]
          },
          "metadata": {
            "tags": []
          },
          "execution_count": 20
        }
      ]
    },
    {
      "cell_type": "code",
      "metadata": {
        "id": "GgxYSsBlz9Hp",
        "outputId": "1a665832-9b7b-403f-e7e0-ad1682741089",
        "colab": {
          "base_uri": "https://localhost:8080/"
        }
      },
      "source": [
        "from vectorhub.encoders.image.tfhub import ResnetV22Vec\n",
        "model = ResnetV22Vec()\n",
        "sample = model.read('https://getvectorai.com/assets/hub-logo-with-text.png')\n",
        "vector = model.encode(sample)\n",
        "len(vector), vector[:10]"
      ],
      "execution_count": null,
      "outputs": [
        {
          "output_type": "stream",
          "text": [
            "INFO:absl:Downloading TF-Hub Module 'https://tfhub.dev/google/imagenet/resnet_v2_50/feature_vector/4'.\n",
            "INFO:absl:Downloaded https://tfhub.dev/google/imagenet/resnet_v2_50/feature_vector/4, Total size: 91.35MB\n",
            "INFO:absl:Downloaded TF-Hub Module 'https://tfhub.dev/google/imagenet/resnet_v2_50/feature_vector/4'.\n"
          ],
          "name": "stderr"
        },
        {
          "output_type": "stream",
          "text": [
            "WARNING:tensorflow:11 out of the last 11 calls to <function recreate_function.<locals>.restored_function_body at 0x7fad2e0e76a8> triggered tf.function retracing. Tracing is expensive and the excessive number of tracings could be due to (1) creating @tf.function repeatedly in a loop, (2) passing tensors with different shapes, (3) passing Python objects instead of tensors. For (1), please define your @tf.function outside of the loop. For (2), @tf.function has experimental_relax_shapes=True option that relaxes argument shapes that can avoid unnecessary retracing. For (3), please refer to https://www.tensorflow.org/tutorials/customization/performance#python_or_tensor_args and https://www.tensorflow.org/api_docs/python/tf/function for  more details.\n"
          ],
          "name": "stdout"
        },
        {
          "output_type": "stream",
          "text": [
            "WARNING:tensorflow:11 out of the last 11 calls to <function recreate_function.<locals>.restored_function_body at 0x7fad2e0e76a8> triggered tf.function retracing. Tracing is expensive and the excessive number of tracings could be due to (1) creating @tf.function repeatedly in a loop, (2) passing tensors with different shapes, (3) passing Python objects instead of tensors. For (1), please define your @tf.function outside of the loop. For (2), @tf.function has experimental_relax_shapes=True option that relaxes argument shapes that can avoid unnecessary retracing. For (3), please refer to https://www.tensorflow.org/tutorials/customization/performance#python_or_tensor_args and https://www.tensorflow.org/api_docs/python/tf/function for  more details.\n"
          ],
          "name": "stderr"
        },
        {
          "output_type": "execute_result",
          "data": {
            "text/plain": [
              "(2048,\n",
              " [15.045275688171387,\n",
              "  4.418089866638184,\n",
              "  7.827340602874756,\n",
              "  77.42793273925781,\n",
              "  20.45443344116211,\n",
              "  0.0009433465311303735,\n",
              "  12.800081253051758,\n",
              "  0.0,\n",
              "  6.376217842102051,\n",
              "  0.0])"
            ]
          },
          "metadata": {
            "tags": []
          },
          "execution_count": 21
        }
      ]
    },
    {
      "cell_type": "markdown",
      "metadata": {
        "id": "GH-vWB9zz4v1"
      },
      "source": [
        "### InceptionResnet2Vec\n",
        "Inception Resnet"
      ]
    },
    {
      "cell_type": "code",
      "metadata": {
        "id": "KtdTT1k2z4v1",
        "outputId": "6515e90d-4991-4124-a136-6d55f45f3f25",
        "colab": {
          "base_uri": "https://localhost:8080/"
        }
      },
      "source": [
        "from vectorhub.encoders.image.tfhub import InceptionResnet2Vec\n",
        "model = InceptionResnet2Vec()\n",
        "sample = model.read('https://getvectorai.com/assets/hub-logo-with-text.png')\n",
        "vector = model.encode(sample)\n",
        "len(vector), vector[:10]"
      ],
      "execution_count": null,
      "outputs": [
        {
          "output_type": "stream",
          "text": [
            "INFO:absl:Downloading TF-Hub Module 'https://tfhub.dev/google/imagenet/inception_resnet_v2/feature_vector/4'.\n",
            "INFO:absl:Downloaded https://tfhub.dev/google/imagenet/inception_resnet_v2/feature_vector/4, Total size: 213.55MB\n",
            "INFO:absl:Downloaded TF-Hub Module 'https://tfhub.dev/google/imagenet/inception_resnet_v2/feature_vector/4'.\n"
          ],
          "name": "stderr"
        },
        {
          "output_type": "stream",
          "text": [
            "WARNING:tensorflow:11 out of the last 11 calls to <function recreate_function.<locals>.restored_function_body at 0x7fad3039c488> triggered tf.function retracing. Tracing is expensive and the excessive number of tracings could be due to (1) creating @tf.function repeatedly in a loop, (2) passing tensors with different shapes, (3) passing Python objects instead of tensors. For (1), please define your @tf.function outside of the loop. For (2), @tf.function has experimental_relax_shapes=True option that relaxes argument shapes that can avoid unnecessary retracing. For (3), please refer to https://www.tensorflow.org/tutorials/customization/performance#python_or_tensor_args and https://www.tensorflow.org/api_docs/python/tf/function for  more details.\n"
          ],
          "name": "stdout"
        },
        {
          "output_type": "stream",
          "text": [
            "WARNING:tensorflow:11 out of the last 11 calls to <function recreate_function.<locals>.restored_function_body at 0x7fad3039c488> triggered tf.function retracing. Tracing is expensive and the excessive number of tracings could be due to (1) creating @tf.function repeatedly in a loop, (2) passing tensors with different shapes, (3) passing Python objects instead of tensors. For (1), please define your @tf.function outside of the loop. For (2), @tf.function has experimental_relax_shapes=True option that relaxes argument shapes that can avoid unnecessary retracing. For (3), please refer to https://www.tensorflow.org/tutorials/customization/performance#python_or_tensor_args and https://www.tensorflow.org/api_docs/python/tf/function for  more details.\n"
          ],
          "name": "stderr"
        },
        {
          "output_type": "execute_result",
          "data": {
            "text/plain": [
              "(1536,\n",
              " [1.4016010761260986,\n",
              "  0.5517287850379944,\n",
              "  11.911657333374023,\n",
              "  380.9639587402344,\n",
              "  26.46406364440918,\n",
              "  33.08391189575195,\n",
              "  345.525146484375,\n",
              "  0.7065975666046143,\n",
              "  135.16529846191406,\n",
              "  107.48884582519531])"
            ]
          },
          "metadata": {
            "tags": []
          },
          "execution_count": 22
        }
      ]
    },
    {
      "cell_type": "markdown",
      "metadata": {
        "id": "Z4fiXY2r0GCE"
      },
      "source": [
        "### MobileNet2Vec\n",
        "MobileNet"
      ]
    },
    {
      "cell_type": "code",
      "metadata": {
        "id": "iZ9m22zm0GCF",
        "outputId": "b385467e-4709-4e8f-a763-b24a3a9a3a7a",
        "colab": {
          "base_uri": "https://localhost:8080/"
        }
      },
      "source": [
        "from vectorhub.encoders.image.tfhub import MobileNetV12Vec\n",
        "model = MobileNetV12Vec('https://tfhub.dev/google/imagenet/mobilenet_v1_025_224/feature_vector/4')\n",
        "sample = model.read('https://getvectorai.com/assets/hub-logo-with-text.png')\n",
        "vector = model.encode(sample)\n",
        "len(vector), vector[:10]"
      ],
      "execution_count": null,
      "outputs": [
        {
          "output_type": "stream",
          "text": [
            "INFO:absl:Downloading TF-Hub Module 'https://tfhub.dev/google/imagenet/mobilenet_v1_025_224/feature_vector/4'.\n",
            "INFO:absl:Downloaded https://tfhub.dev/google/imagenet/mobilenet_v1_025_224/feature_vector/4, Total size: 1.50MB\n",
            "INFO:absl:Downloaded TF-Hub Module 'https://tfhub.dev/google/imagenet/mobilenet_v1_025_224/feature_vector/4'.\n"
          ],
          "name": "stderr"
        },
        {
          "output_type": "stream",
          "text": [
            "WARNING:tensorflow:11 out of the last 11 calls to <function recreate_function.<locals>.restored_function_body at 0x7fad3378a400> triggered tf.function retracing. Tracing is expensive and the excessive number of tracings could be due to (1) creating @tf.function repeatedly in a loop, (2) passing tensors with different shapes, (3) passing Python objects instead of tensors. For (1), please define your @tf.function outside of the loop. For (2), @tf.function has experimental_relax_shapes=True option that relaxes argument shapes that can avoid unnecessary retracing. For (3), please refer to https://www.tensorflow.org/tutorials/customization/performance#python_or_tensor_args and https://www.tensorflow.org/api_docs/python/tf/function for  more details.\n"
          ],
          "name": "stdout"
        },
        {
          "output_type": "stream",
          "text": [
            "WARNING:tensorflow:11 out of the last 11 calls to <function recreate_function.<locals>.restored_function_body at 0x7fad3378a400> triggered tf.function retracing. Tracing is expensive and the excessive number of tracings could be due to (1) creating @tf.function repeatedly in a loop, (2) passing tensors with different shapes, (3) passing Python objects instead of tensors. For (1), please define your @tf.function outside of the loop. For (2), @tf.function has experimental_relax_shapes=True option that relaxes argument shapes that can avoid unnecessary retracing. For (3), please refer to https://www.tensorflow.org/tutorials/customization/performance#python_or_tensor_args and https://www.tensorflow.org/api_docs/python/tf/function for  more details.\n"
          ],
          "name": "stderr"
        },
        {
          "output_type": "execute_result",
          "data": {
            "text/plain": [
              "(256,\n",
              " [1.1166342496871948,\n",
              "  5.3948184358887374e-05,\n",
              "  0.6680822372436523,\n",
              "  0.15086999535560608,\n",
              "  0.5920364856719971,\n",
              "  0.21992206573486328,\n",
              "  1.2151236534118652,\n",
              "  0.8825837969779968,\n",
              "  0.03866421431303024,\n",
              "  5.821349620819092])"
            ]
          },
          "metadata": {
            "tags": []
          },
          "execution_count": 23
        }
      ]
    },
    {
      "cell_type": "code",
      "metadata": {
        "id": "kV0Kc50U0Liu",
        "outputId": "c5a21b51-1edb-44cc-fc0a-efb89f78453a",
        "colab": {
          "base_uri": "https://localhost:8080/"
        }
      },
      "source": [
        "from vectorhub.encoders.image.tfhub import MobileNetV22Vec\n",
        "model = MobileNetV22Vec()\n",
        "sample = model.read('https://getvectorai.com/assets/hub-logo-with-text.png')\n",
        "vector = model.encode(sample)\n",
        "len(vector), vector[:10]"
      ],
      "execution_count": null,
      "outputs": [
        {
          "output_type": "stream",
          "text": [
            "INFO:absl:Downloading TF-Hub Module 'https://tfhub.dev/google/imagenet/mobilenet_v2_140_224/feature_vector/4'.\n",
            "INFO:absl:Downloaded https://tfhub.dev/google/imagenet/mobilenet_v2_140_224/feature_vector/4, Total size: 17.94MB\n",
            "INFO:absl:Downloaded TF-Hub Module 'https://tfhub.dev/google/imagenet/mobilenet_v2_140_224/feature_vector/4'.\n"
          ],
          "name": "stderr"
        },
        {
          "output_type": "stream",
          "text": [
            "WARNING:tensorflow:11 out of the last 11 calls to <function recreate_function.<locals>.restored_function_body at 0x7fad42cb5268> triggered tf.function retracing. Tracing is expensive and the excessive number of tracings could be due to (1) creating @tf.function repeatedly in a loop, (2) passing tensors with different shapes, (3) passing Python objects instead of tensors. For (1), please define your @tf.function outside of the loop. For (2), @tf.function has experimental_relax_shapes=True option that relaxes argument shapes that can avoid unnecessary retracing. For (3), please refer to https://www.tensorflow.org/tutorials/customization/performance#python_or_tensor_args and https://www.tensorflow.org/api_docs/python/tf/function for  more details.\n"
          ],
          "name": "stdout"
        },
        {
          "output_type": "stream",
          "text": [
            "WARNING:tensorflow:11 out of the last 11 calls to <function recreate_function.<locals>.restored_function_body at 0x7fad42cb5268> triggered tf.function retracing. Tracing is expensive and the excessive number of tracings could be due to (1) creating @tf.function repeatedly in a loop, (2) passing tensors with different shapes, (3) passing Python objects instead of tensors. For (1), please define your @tf.function outside of the loop. For (2), @tf.function has experimental_relax_shapes=True option that relaxes argument shapes that can avoid unnecessary retracing. For (3), please refer to https://www.tensorflow.org/tutorials/customization/performance#python_or_tensor_args and https://www.tensorflow.org/api_docs/python/tf/function for  more details.\n"
          ],
          "name": "stderr"
        },
        {
          "output_type": "execute_result",
          "data": {
            "text/plain": [
              "(1792,\n",
              " [0.02413051947951317,\n",
              "  1.7939774990081787,\n",
              "  0.0,\n",
              "  0.38433465361595154,\n",
              "  0.012855364009737968,\n",
              "  0.0,\n",
              "  0.0,\n",
              "  1.8257256746292114,\n",
              "  0.0,\n",
              "  1.8062987327575684])"
            ]
          },
          "metadata": {
            "tags": []
          },
          "execution_count": 24
        }
      ]
    },
    {
      "cell_type": "markdown",
      "metadata": {
        "id": "YhrHSHu71-av"
      },
      "source": [
        "# Audio2Vec - Turn Audio to Vectors"
      ]
    },
    {
      "cell_type": "markdown",
      "metadata": {
        "id": "F6Brb36M2Ci_"
      },
      "source": [
        "## TFHub Models\n",
        "!pip install vectorhub[encoders-audio-tfhub]"
      ]
    },
    {
      "cell_type": "markdown",
      "metadata": {
        "id": "wsAD7g-S2GNm"
      },
      "source": [
        "### SpeechEmbedding2Vec\n",
        "Speech Embedding"
      ]
    },
    {
      "cell_type": "code",
      "metadata": {
        "id": "OJ9YCCau0NNS",
        "outputId": "8dfc6d9a-cd1a-4f73-f534-4c85bb8f880a",
        "colab": {
          "base_uri": "https://localhost:8080/"
        }
      },
      "source": [
        "from vectorhub.encoders.audio.tfhub import SpeechEmbedding2Vec\n",
        "model = SpeechEmbedding2Vec()\n",
        "sample = model.read('https://vecsearch-bucket.s3.us-east-2.amazonaws.com/voices/common_voice_en_2.wav')\n",
        "vector = model.encode(sample)\n",
        "len(vector), vector[:10]"
      ],
      "execution_count": null,
      "outputs": [
        {
          "output_type": "stream",
          "text": [
            "INFO:absl:Downloading TF-Hub Module 'https://tfhub.dev/google/speech_embedding/1'.\n",
            "INFO:absl:Downloaded https://tfhub.dev/google/speech_embedding/1, Total size: 2.66MB\n",
            "INFO:absl:Downloaded TF-Hub Module 'https://tfhub.dev/google/speech_embedding/1'.\n"
          ],
          "name": "stderr"
        },
        {
          "output_type": "execute_result",
          "data": {
            "text/plain": [
              "(96,\n",
              " [-1.626917839050293,\n",
              "  13.96774959564209,\n",
              "  5.01875114440918,\n",
              "  7.006755828857422,\n",
              "  10.417956352233887,\n",
              "  25.99224090576172,\n",
              "  14.100224494934082,\n",
              "  4.132189750671387,\n",
              "  6.522117614746094,\n",
              "  20.945070266723633])"
            ]
          },
          "metadata": {
            "tags": []
          },
          "execution_count": 25
        }
      ]
    },
    {
      "cell_type": "markdown",
      "metadata": {
        "id": "KKKsWl3T2dM7"
      },
      "source": [
        "### Trill2Vec\n",
        "Triplet Loss Network"
      ]
    },
    {
      "cell_type": "code",
      "metadata": {
        "id": "s77eflZ12dM7",
        "outputId": "c04f31b6-b28d-4158-e8b0-d656ed367eed",
        "colab": {
          "base_uri": "https://localhost:8080/"
        }
      },
      "source": [
        "from vectorhub.encoders.audio.tfhub import Trill2Vec\n",
        "model = Trill2Vec()\n",
        "sample = model.read('https://vecsearch-bucket.s3.us-east-2.amazonaws.com/voices/common_voice_en_2.wav')\n",
        "vector = model.encode(sample)\n",
        "len(vector), vector[:10]"
      ],
      "execution_count": null,
      "outputs": [
        {
          "output_type": "stream",
          "text": [
            "INFO:absl:Downloading TF-Hub Module 'https://tfhub.dev/google/nonsemantic-speech-benchmark/trill/3'.\n",
            "INFO:absl:Downloaded https://tfhub.dev/google/nonsemantic-speech-benchmark/trill/3, Total size: 94.15MB\n",
            "INFO:absl:Downloaded TF-Hub Module 'https://tfhub.dev/google/nonsemantic-speech-benchmark/trill/3'.\n"
          ],
          "name": "stderr"
        },
        {
          "output_type": "stream",
          "text": [
            "WARNING:tensorflow:11 out of the last 11 calls to <function recreate_function.<locals>.restored_function_body at 0x7fad31200d08> triggered tf.function retracing. Tracing is expensive and the excessive number of tracings could be due to (1) creating @tf.function repeatedly in a loop, (2) passing tensors with different shapes, (3) passing Python objects instead of tensors. For (1), please define your @tf.function outside of the loop. For (2), @tf.function has experimental_relax_shapes=True option that relaxes argument shapes that can avoid unnecessary retracing. For (3), please refer to https://www.tensorflow.org/tutorials/customization/performance#python_or_tensor_args and https://www.tensorflow.org/api_docs/python/tf/function for  more details.\n"
          ],
          "name": "stdout"
        },
        {
          "output_type": "stream",
          "text": [
            "WARNING:tensorflow:11 out of the last 11 calls to <function recreate_function.<locals>.restored_function_body at 0x7fad31200d08> triggered tf.function retracing. Tracing is expensive and the excessive number of tracings could be due to (1) creating @tf.function repeatedly in a loop, (2) passing tensors with different shapes, (3) passing Python objects instead of tensors. For (1), please define your @tf.function outside of the loop. For (2), @tf.function has experimental_relax_shapes=True option that relaxes argument shapes that can avoid unnecessary retracing. For (3), please refer to https://www.tensorflow.org/tutorials/customization/performance#python_or_tensor_args and https://www.tensorflow.org/api_docs/python/tf/function for  more details.\n"
          ],
          "name": "stderr"
        },
        {
          "output_type": "stream",
          "text": [
            "WARNING:tensorflow:11 out of the last 11 calls to <function recreate_function.<locals>.restored_function_body at 0x7fad31200378> triggered tf.function retracing. Tracing is expensive and the excessive number of tracings could be due to (1) creating @tf.function repeatedly in a loop, (2) passing tensors with different shapes, (3) passing Python objects instead of tensors. For (1), please define your @tf.function outside of the loop. For (2), @tf.function has experimental_relax_shapes=True option that relaxes argument shapes that can avoid unnecessary retracing. For (3), please refer to https://www.tensorflow.org/tutorials/customization/performance#python_or_tensor_args and https://www.tensorflow.org/api_docs/python/tf/function for  more details.\n"
          ],
          "name": "stdout"
        },
        {
          "output_type": "stream",
          "text": [
            "WARNING:tensorflow:11 out of the last 11 calls to <function recreate_function.<locals>.restored_function_body at 0x7fad31200378> triggered tf.function retracing. Tracing is expensive and the excessive number of tracings could be due to (1) creating @tf.function repeatedly in a loop, (2) passing tensors with different shapes, (3) passing Python objects instead of tensors. For (1), please define your @tf.function outside of the loop. For (2), @tf.function has experimental_relax_shapes=True option that relaxes argument shapes that can avoid unnecessary retracing. For (3), please refer to https://www.tensorflow.org/tutorials/customization/performance#python_or_tensor_args and https://www.tensorflow.org/api_docs/python/tf/function for  more details.\n"
          ],
          "name": "stderr"
        },
        {
          "output_type": "execute_result",
          "data": {
            "text/plain": [
              "(512,\n",
              " [-0.08206441253423691,\n",
              "  0.003198703285306692,\n",
              "  0.023471159860491753,\n",
              "  0.03290205076336861,\n",
              "  0.026588117703795433,\n",
              "  0.04537850618362427,\n",
              "  0.007081276271492243,\n",
              "  0.03602985292673111,\n",
              "  -0.006469187792390585,\n",
              "  0.026163343340158463])"
            ]
          },
          "metadata": {
            "tags": []
          },
          "execution_count": 26
        }
      ]
    },
    {
      "cell_type": "code",
      "metadata": {
        "id": "aE7zzZqy2i_L",
        "outputId": "8614a4cf-9e2a-4587-be8b-eeeef9e096c2",
        "colab": {
          "base_uri": "https://localhost:8080/"
        }
      },
      "source": [
        "from vectorhub.encoders.audio.tfhub import TrillDistilled2Vec\n",
        "model = TrillDistilled2Vec()\n",
        "sample = model.read('https://vecsearch-bucket.s3.us-east-2.amazonaws.com/voices/common_voice_en_2.wav')\n",
        "vector = model.encode(sample)\n",
        "len(vector), vector[:10]"
      ],
      "execution_count": null,
      "outputs": [
        {
          "output_type": "stream",
          "text": [
            "INFO:absl:Downloading TF-Hub Module 'https://tfhub.dev/google/nonsemantic-speech-benchmark/trill-distilled/3'.\n",
            "INFO:absl:Downloaded https://tfhub.dev/google/nonsemantic-speech-benchmark/trill-distilled/3, Total size: 198.74MB\n",
            "INFO:absl:Downloaded TF-Hub Module 'https://tfhub.dev/google/nonsemantic-speech-benchmark/trill-distilled/3'.\n"
          ],
          "name": "stderr"
        },
        {
          "output_type": "stream",
          "text": [
            "WARNING:tensorflow:11 out of the last 11 calls to <function recreate_function.<locals>.restored_function_body at 0x7fad2e2e4a60> triggered tf.function retracing. Tracing is expensive and the excessive number of tracings could be due to (1) creating @tf.function repeatedly in a loop, (2) passing tensors with different shapes, (3) passing Python objects instead of tensors. For (1), please define your @tf.function outside of the loop. For (2), @tf.function has experimental_relax_shapes=True option that relaxes argument shapes that can avoid unnecessary retracing. For (3), please refer to https://www.tensorflow.org/tutorials/customization/performance#python_or_tensor_args and https://www.tensorflow.org/api_docs/python/tf/function for  more details.\n"
          ],
          "name": "stdout"
        },
        {
          "output_type": "stream",
          "text": [
            "WARNING:tensorflow:11 out of the last 11 calls to <function recreate_function.<locals>.restored_function_body at 0x7fad2e2e4a60> triggered tf.function retracing. Tracing is expensive and the excessive number of tracings could be due to (1) creating @tf.function repeatedly in a loop, (2) passing tensors with different shapes, (3) passing Python objects instead of tensors. For (1), please define your @tf.function outside of the loop. For (2), @tf.function has experimental_relax_shapes=True option that relaxes argument shapes that can avoid unnecessary retracing. For (3), please refer to https://www.tensorflow.org/tutorials/customization/performance#python_or_tensor_args and https://www.tensorflow.org/api_docs/python/tf/function for  more details.\n"
          ],
          "name": "stderr"
        },
        {
          "output_type": "stream",
          "text": [
            "WARNING:tensorflow:11 out of the last 11 calls to <function recreate_function.<locals>.restored_function_body at 0x7fad43536268> triggered tf.function retracing. Tracing is expensive and the excessive number of tracings could be due to (1) creating @tf.function repeatedly in a loop, (2) passing tensors with different shapes, (3) passing Python objects instead of tensors. For (1), please define your @tf.function outside of the loop. For (2), @tf.function has experimental_relax_shapes=True option that relaxes argument shapes that can avoid unnecessary retracing. For (3), please refer to https://www.tensorflow.org/tutorials/customization/performance#python_or_tensor_args and https://www.tensorflow.org/api_docs/python/tf/function for  more details.\n"
          ],
          "name": "stdout"
        },
        {
          "output_type": "stream",
          "text": [
            "WARNING:tensorflow:11 out of the last 11 calls to <function recreate_function.<locals>.restored_function_body at 0x7fad43536268> triggered tf.function retracing. Tracing is expensive and the excessive number of tracings could be due to (1) creating @tf.function repeatedly in a loop, (2) passing tensors with different shapes, (3) passing Python objects instead of tensors. For (1), please define your @tf.function outside of the loop. For (2), @tf.function has experimental_relax_shapes=True option that relaxes argument shapes that can avoid unnecessary retracing. For (3), please refer to https://www.tensorflow.org/tutorials/customization/performance#python_or_tensor_args and https://www.tensorflow.org/api_docs/python/tf/function for  more details.\n"
          ],
          "name": "stderr"
        },
        {
          "output_type": "stream",
          "text": [
            "WARNING:tensorflow:11 out of the last 11 calls to <function recreate_function.<locals>.restored_function_body at 0x7fad2e2e40d0> triggered tf.function retracing. Tracing is expensive and the excessive number of tracings could be due to (1) creating @tf.function repeatedly in a loop, (2) passing tensors with different shapes, (3) passing Python objects instead of tensors. For (1), please define your @tf.function outside of the loop. For (2), @tf.function has experimental_relax_shapes=True option that relaxes argument shapes that can avoid unnecessary retracing. For (3), please refer to https://www.tensorflow.org/tutorials/customization/performance#python_or_tensor_args and https://www.tensorflow.org/api_docs/python/tf/function for  more details.\n"
          ],
          "name": "stdout"
        },
        {
          "output_type": "stream",
          "text": [
            "WARNING:tensorflow:11 out of the last 11 calls to <function recreate_function.<locals>.restored_function_body at 0x7fad2e2e40d0> triggered tf.function retracing. Tracing is expensive and the excessive number of tracings could be due to (1) creating @tf.function repeatedly in a loop, (2) passing tensors with different shapes, (3) passing Python objects instead of tensors. For (1), please define your @tf.function outside of the loop. For (2), @tf.function has experimental_relax_shapes=True option that relaxes argument shapes that can avoid unnecessary retracing. For (3), please refer to https://www.tensorflow.org/tutorials/customization/performance#python_or_tensor_args and https://www.tensorflow.org/api_docs/python/tf/function for  more details.\n"
          ],
          "name": "stderr"
        },
        {
          "output_type": "execute_result",
          "data": {
            "text/plain": [
              "(2048,\n",
              " [0.11910650879144669,\n",
              "  0.22943904995918274,\n",
              "  0.12266576290130615,\n",
              "  0.19800463318824768,\n",
              "  0.20083436369895935,\n",
              "  0.21807503700256348,\n",
              "  0.34325283765792847,\n",
              "  0.16280651092529297,\n",
              "  0.16411736607551575,\n",
              "  0.1719944328069687])"
            ]
          },
          "metadata": {
            "tags": []
          },
          "execution_count": 27
        }
      ]
    },
    {
      "cell_type": "markdown",
      "metadata": {
        "id": "n3sLZdSF2dmF"
      },
      "source": [
        "### Vggish2Vec\n",
        "Vggish"
      ]
    },
    {
      "cell_type": "code",
      "metadata": {
        "id": "AJJYj3Ar2dmF",
        "outputId": "6da0ab79-82c8-4c58-9d72-1a22a946cb12",
        "colab": {
          "base_uri": "https://localhost:8080/"
        }
      },
      "source": [
        "from vectorhub.encoders.audio.tfhub import Vggish2Vec\n",
        "model = Vggish2Vec()\n",
        "sample = model.read('https://vecsearch-bucket.s3.us-east-2.amazonaws.com/voices/common_voice_en_2.wav')\n",
        "vector = model.encode(sample)\n",
        "len(vector), vector[:10]"
      ],
      "execution_count": null,
      "outputs": [
        {
          "output_type": "stream",
          "text": [
            "INFO:absl:Downloading TF-Hub Module 'https://tfhub.dev/google/vggish/1'.\n",
            "INFO:absl:Downloaded https://tfhub.dev/google/vggish/1, Total size: 275.33MB\n",
            "INFO:absl:Downloaded TF-Hub Module 'https://tfhub.dev/google/vggish/1'.\n"
          ],
          "name": "stderr"
        },
        {
          "output_type": "stream",
          "text": [
            "WARNING:tensorflow:11 out of the last 11 calls to <function recreate_function.<locals>.restored_function_body at 0x7fad2e2e4f28> triggered tf.function retracing. Tracing is expensive and the excessive number of tracings could be due to (1) creating @tf.function repeatedly in a loop, (2) passing tensors with different shapes, (3) passing Python objects instead of tensors. For (1), please define your @tf.function outside of the loop. For (2), @tf.function has experimental_relax_shapes=True option that relaxes argument shapes that can avoid unnecessary retracing. For (3), please refer to https://www.tensorflow.org/tutorials/customization/performance#python_or_tensor_args and https://www.tensorflow.org/api_docs/python/tf/function for  more details.\n"
          ],
          "name": "stdout"
        },
        {
          "output_type": "stream",
          "text": [
            "WARNING:tensorflow:11 out of the last 11 calls to <function recreate_function.<locals>.restored_function_body at 0x7fad2e2e4f28> triggered tf.function retracing. Tracing is expensive and the excessive number of tracings could be due to (1) creating @tf.function repeatedly in a loop, (2) passing tensors with different shapes, (3) passing Python objects instead of tensors. For (1), please define your @tf.function outside of the loop. For (2), @tf.function has experimental_relax_shapes=True option that relaxes argument shapes that can avoid unnecessary retracing. For (3), please refer to https://www.tensorflow.org/tutorials/customization/performance#python_or_tensor_args and https://www.tensorflow.org/api_docs/python/tf/function for  more details.\n"
          ],
          "name": "stderr"
        },
        {
          "output_type": "stream",
          "text": [
            "WARNING:tensorflow:11 out of the last 11 calls to <function recreate_function.<locals>.restored_function_body at 0x7fad43536400> triggered tf.function retracing. Tracing is expensive and the excessive number of tracings could be due to (1) creating @tf.function repeatedly in a loop, (2) passing tensors with different shapes, (3) passing Python objects instead of tensors. For (1), please define your @tf.function outside of the loop. For (2), @tf.function has experimental_relax_shapes=True option that relaxes argument shapes that can avoid unnecessary retracing. For (3), please refer to https://www.tensorflow.org/tutorials/customization/performance#python_or_tensor_args and https://www.tensorflow.org/api_docs/python/tf/function for  more details.\n"
          ],
          "name": "stdout"
        },
        {
          "output_type": "stream",
          "text": [
            "WARNING:tensorflow:11 out of the last 11 calls to <function recreate_function.<locals>.restored_function_body at 0x7fad43536400> triggered tf.function retracing. Tracing is expensive and the excessive number of tracings could be due to (1) creating @tf.function repeatedly in a loop, (2) passing tensors with different shapes, (3) passing Python objects instead of tensors. For (1), please define your @tf.function outside of the loop. For (2), @tf.function has experimental_relax_shapes=True option that relaxes argument shapes that can avoid unnecessary retracing. For (3), please refer to https://www.tensorflow.org/tutorials/customization/performance#python_or_tensor_args and https://www.tensorflow.org/api_docs/python/tf/function for  more details.\n"
          ],
          "name": "stderr"
        },
        {
          "output_type": "execute_result",
          "data": {
            "text/plain": [
              "(128,\n",
              " [1.0297094583511353,\n",
              "  -0.33734169602394104,\n",
              "  0.14990638196468353,\n",
              "  -0.43253546953201294,\n",
              "  -0.02132938802242279,\n",
              "  -0.2508460581302643,\n",
              "  -0.5012649297714233,\n",
              "  -0.15058597922325134,\n",
              "  -0.5810864567756653,\n",
              "  -0.21230646967887878])"
            ]
          },
          "metadata": {
            "tags": []
          },
          "execution_count": 28
        }
      ]
    },
    {
      "cell_type": "markdown",
      "metadata": {
        "id": "hJaz-wJQ4CY4"
      },
      "source": [
        "### Yamnet2Vec\n",
        "Yamnet"
      ]
    },
    {
      "cell_type": "code",
      "metadata": {
        "id": "UzR1aUP64CY5",
        "outputId": "56f149ff-f6fa-4050-ad0f-8cdd0e28c2c8",
        "colab": {
          "base_uri": "https://localhost:8080/"
        }
      },
      "source": [
        "from vectorhub.encoders.audio.tfhub import Yamnet2Vec\n",
        "model = Yamnet2Vec()\n",
        "sample = model.read('https://vecsearch-bucket.s3.us-east-2.amazonaws.com/voices/common_voice_en_2.wav')\n",
        "vector = model.encode(sample)\n",
        "len(vector), vector[:10]"
      ],
      "execution_count": null,
      "outputs": [
        {
          "output_type": "stream",
          "text": [
            "INFO:absl:Downloading TF-Hub Module 'https://tfhub.dev/google/yamnet/1'.\n",
            "INFO:absl:Downloaded https://tfhub.dev/google/yamnet/1, Total size: 17.43MB\n",
            "INFO:absl:Downloaded TF-Hub Module 'https://tfhub.dev/google/yamnet/1'.\n"
          ],
          "name": "stderr"
        },
        {
          "output_type": "stream",
          "text": [
            "WARNING:tensorflow:11 out of the last 11 calls to <function recreate_function.<locals>.restored_function_body at 0x7fad3088bb70> triggered tf.function retracing. Tracing is expensive and the excessive number of tracings could be due to (1) creating @tf.function repeatedly in a loop, (2) passing tensors with different shapes, (3) passing Python objects instead of tensors. For (1), please define your @tf.function outside of the loop. For (2), @tf.function has experimental_relax_shapes=True option that relaxes argument shapes that can avoid unnecessary retracing. For (3), please refer to https://www.tensorflow.org/tutorials/customization/performance#python_or_tensor_args and https://www.tensorflow.org/api_docs/python/tf/function for  more details.\n"
          ],
          "name": "stdout"
        },
        {
          "output_type": "stream",
          "text": [
            "WARNING:tensorflow:11 out of the last 11 calls to <function recreate_function.<locals>.restored_function_body at 0x7fad3088bb70> triggered tf.function retracing. Tracing is expensive and the excessive number of tracings could be due to (1) creating @tf.function repeatedly in a loop, (2) passing tensors with different shapes, (3) passing Python objects instead of tensors. For (1), please define your @tf.function outside of the loop. For (2), @tf.function has experimental_relax_shapes=True option that relaxes argument shapes that can avoid unnecessary retracing. For (3), please refer to https://www.tensorflow.org/tutorials/customization/performance#python_or_tensor_args and https://www.tensorflow.org/api_docs/python/tf/function for  more details.\n"
          ],
          "name": "stderr"
        },
        {
          "output_type": "execute_result",
          "data": {
            "text/plain": [
              "(1024,\n",
              " [0.017622822895646095,\n",
              "  0.013449881225824356,\n",
              "  0.09929609298706055,\n",
              "  0.008586863987147808,\n",
              "  0.0,\n",
              "  0.0,\n",
              "  0.010829833336174488,\n",
              "  0.05098574236035347,\n",
              "  0.031329721212387085,\n",
              "  0.03376280516386032])"
            ]
          },
          "metadata": {
            "tags": []
          },
          "execution_count": 29
        }
      ]
    },
    {
      "cell_type": "markdown",
      "metadata": {
        "id": "O65zP25r4Yih"
      },
      "source": [
        "## Pytorch Fairseq Models\n",
        "!pip install vectorhub[encoders-audio-pytorch]"
      ]
    },
    {
      "cell_type": "markdown",
      "metadata": {
        "id": "PHPBhmAg4kPq"
      },
      "source": [
        "### Wav2Vec\n",
        "Wav2Vec 2.0"
      ]
    },
    {
      "cell_type": "code",
      "metadata": {
        "id": "di_lTXIZ4emd",
        "outputId": "452bedb2-f7b2-4ba6-c55e-76d1be976a18",
        "colab": {
          "base_uri": "https://localhost:8080/",
          "height": 1000,
          "referenced_widgets": [
            "6c0756b756814056a98b6fea42067eb7",
            "6aad6086cec746ecb35e3ee9686e9ecb",
            "00deaf3ae9d14416a0c1c3af2b4ed892",
            "b46e2e27e6da427bba35d37fa07c56cb",
            "69cda9906f0b44e7bf077de9069198b1",
            "09142704d53248938668d64d44920f88",
            "a8599cb5c4974d6799d72435337ac40e",
            "faf957de7821413c94538361daf1b155"
          ]
        }
      },
      "source": [
        "from vectorhub.encoders.audio.pytorch import Wav2Vec\n",
        "model = Wav2Vec()\n",
        "sample = model.read('https://vecsearch-bucket.s3.us-east-2.amazonaws.com/voices/common_voice_en_2.wav')\n",
        "vector = model.encode(sample)\n",
        "len(vector), vector[:10]"
      ],
      "execution_count": null,
      "outputs": [
        {
          "output_type": "stream",
          "text": [
            "Downloading: \"https://dl.fbaipublicfiles.com/fairseq/wav2vec/wav2vec_small.pt\" to /root/.cache/torch/hub/checkpoints/wav2vec_small.pt\n"
          ],
          "name": "stderr"
        },
        {
          "output_type": "display_data",
          "data": {
            "application/vnd.jupyter.widget-view+json": {
              "model_id": "6c0756b756814056a98b6fea42067eb7",
              "version_minor": 0,
              "version_major": 2
            },
            "text/plain": [
              "HBox(children=(FloatProgress(value=0.0, max=950500491.0), HTML(value='')))"
            ]
          },
          "metadata": {
            "tags": []
          }
        },
        {
          "output_type": "stream",
          "text": [
            "\n",
            "Wav2VecModel(\n",
            "  (feature_extractor): ConvFeatureExtractionModel(\n",
            "    (conv_layers): ModuleList(\n",
            "      (0): Sequential(\n",
            "        (0): Conv1d(1, 512, kernel_size=(10,), stride=(5,), bias=False)\n",
            "        (1): Dropout(p=0.0, inplace=False)\n",
            "        (2): Fp32GroupNorm(1, 512, eps=1e-05, affine=True)\n",
            "        (3): ReLU()\n",
            "      )\n",
            "      (1): Sequential(\n",
            "        (0): Conv1d(512, 512, kernel_size=(3,), stride=(2,), bias=False)\n",
            "        (1): Dropout(p=0.0, inplace=False)\n",
            "        (2): Fp32GroupNorm(1, 512, eps=1e-05, affine=True)\n",
            "        (3): ReLU()\n",
            "      )\n",
            "      (2): Sequential(\n",
            "        (0): Conv1d(512, 512, kernel_size=(3,), stride=(2,), bias=False)\n",
            "        (1): Dropout(p=0.0, inplace=False)\n",
            "        (2): Fp32GroupNorm(1, 512, eps=1e-05, affine=True)\n",
            "        (3): ReLU()\n",
            "      )\n",
            "      (3): Sequential(\n",
            "        (0): Conv1d(512, 512, kernel_size=(3,), stride=(2,), bias=False)\n",
            "        (1): Dropout(p=0.0, inplace=False)\n",
            "        (2): Fp32GroupNorm(1, 512, eps=1e-05, affine=True)\n",
            "        (3): ReLU()\n",
            "      )\n",
            "      (4): Sequential(\n",
            "        (0): Conv1d(512, 512, kernel_size=(3,), stride=(2,), bias=False)\n",
            "        (1): Dropout(p=0.0, inplace=False)\n",
            "        (2): Fp32GroupNorm(1, 512, eps=1e-05, affine=True)\n",
            "        (3): ReLU()\n",
            "      )\n",
            "      (5): Sequential(\n",
            "        (0): Conv1d(512, 512, kernel_size=(2,), stride=(2,), bias=False)\n",
            "        (1): Dropout(p=0.0, inplace=False)\n",
            "        (2): Fp32GroupNorm(1, 512, eps=1e-05, affine=True)\n",
            "        (3): ReLU()\n",
            "      )\n",
            "      (6): Sequential(\n",
            "        (0): Conv1d(512, 512, kernel_size=(2,), stride=(2,), bias=False)\n",
            "        (1): Dropout(p=0.0, inplace=False)\n",
            "        (2): Fp32GroupNorm(1, 512, eps=1e-05, affine=True)\n",
            "        (3): ReLU()\n",
            "      )\n",
            "    )\n",
            "  )\n",
            "  (feature_aggregator): ConvAggegator(\n",
            "    (conv_layers): Sequential(\n",
            "      (0): Sequential(\n",
            "        (0): ReplicationPad1d((2, 0))\n",
            "        (1): Conv1d(512, 512, kernel_size=(3,), stride=(1,))\n",
            "        (2): Dropout(p=0.1, inplace=False)\n",
            "        (3): Fp32GroupNorm(1, 512, eps=1e-05, affine=True)\n",
            "        (4): ReLU()\n",
            "      )\n",
            "      (1): Sequential(\n",
            "        (0): ReplicationPad1d((2, 0))\n",
            "        (1): Conv1d(512, 512, kernel_size=(3,), stride=(1,))\n",
            "        (2): Dropout(p=0.1, inplace=False)\n",
            "        (3): Fp32GroupNorm(1, 512, eps=1e-05, affine=True)\n",
            "        (4): ReLU()\n",
            "      )\n",
            "      (2): Sequential(\n",
            "        (0): ReplicationPad1d((2, 0))\n",
            "        (1): Conv1d(512, 512, kernel_size=(3,), stride=(1,))\n",
            "        (2): Dropout(p=0.1, inplace=False)\n",
            "        (3): Fp32GroupNorm(1, 512, eps=1e-05, affine=True)\n",
            "        (4): ReLU()\n",
            "      )\n",
            "      (3): Sequential(\n",
            "        (0): ReplicationPad1d((2, 0))\n",
            "        (1): Conv1d(512, 512, kernel_size=(3,), stride=(1,))\n",
            "        (2): Dropout(p=0.1, inplace=False)\n",
            "        (3): Fp32GroupNorm(1, 512, eps=1e-05, affine=True)\n",
            "        (4): ReLU()\n",
            "      )\n",
            "      (4): Sequential(\n",
            "        (0): ReplicationPad1d((2, 0))\n",
            "        (1): Conv1d(512, 512, kernel_size=(3,), stride=(1,))\n",
            "        (2): Dropout(p=0.1, inplace=False)\n",
            "        (3): Fp32GroupNorm(1, 512, eps=1e-05, affine=True)\n",
            "        (4): ReLU()\n",
            "      )\n",
            "      (5): Sequential(\n",
            "        (0): ReplicationPad1d((2, 0))\n",
            "        (1): Conv1d(512, 512, kernel_size=(3,), stride=(1,))\n",
            "        (2): Dropout(p=0.1, inplace=False)\n",
            "        (3): Fp32GroupNorm(1, 512, eps=1e-05, affine=True)\n",
            "        (4): ReLU()\n",
            "      )\n",
            "      (6): Sequential(\n",
            "        (0): ReplicationPad1d((2, 0))\n",
            "        (1): Conv1d(512, 512, kernel_size=(3,), stride=(1,))\n",
            "        (2): Dropout(p=0.1, inplace=False)\n",
            "        (3): Fp32GroupNorm(1, 512, eps=1e-05, affine=True)\n",
            "        (4): ReLU()\n",
            "      )\n",
            "      (7): Sequential(\n",
            "        (0): ReplicationPad1d((2, 0))\n",
            "        (1): Conv1d(512, 512, kernel_size=(3,), stride=(1,))\n",
            "        (2): Dropout(p=0.1, inplace=False)\n",
            "        (3): Fp32GroupNorm(1, 512, eps=1e-05, affine=True)\n",
            "        (4): ReLU()\n",
            "      )\n",
            "      (8): Sequential(\n",
            "        (0): ReplicationPad1d((2, 0))\n",
            "        (1): Conv1d(512, 512, kernel_size=(3,), stride=(1,))\n",
            "        (2): Dropout(p=0.1, inplace=False)\n",
            "        (3): Fp32GroupNorm(1, 512, eps=1e-05, affine=True)\n",
            "        (4): ReLU()\n",
            "      )\n",
            "    )\n",
            "    (residual_proj): ModuleList(\n",
            "      (0): None\n",
            "      (1): None\n",
            "      (2): None\n",
            "      (3): None\n",
            "      (4): None\n",
            "      (5): None\n",
            "      (6): None\n",
            "      (7): None\n",
            "      (8): None\n",
            "    )\n",
            "  )\n",
            "  (wav2vec_predictions): Wav2VecPredictionsModel(\n",
            "    (project_to_steps): ConvTranspose2d(512, 512, kernel_size=(1, 12), stride=(1, 1))\n",
            "    (dropout): Dropout(p=0.1, inplace=False)\n",
            "  )\n",
            "  (dropout_feats): Dropout(p=0.1, inplace=False)\n",
            "  (dropout_agg): Dropout(p=0.0, inplace=False)\n",
            ")\n"
          ],
          "name": "stdout"
        },
        {
          "output_type": "execute_result",
          "data": {
            "text/plain": [
              "(512,\n",
              " [0.43996002820388574,\n",
              "  0.0009310347277943681,\n",
              "  0.340938310394427,\n",
              "  0.12880457228293823,\n",
              "  0.3568754025916683,\n",
              "  0.3878720904723173,\n",
              "  0.16845630043720053,\n",
              "  0.1152303839076123,\n",
              "  0.3012702952198707,\n",
              "  0.36476635736436014])"
            ]
          },
          "metadata": {
            "tags": []
          },
          "execution_count": 30
        }
      ]
    },
    {
      "cell_type": "markdown",
      "metadata": {
        "id": "vI2baQYw4whr"
      },
      "source": [
        "# TextText2Vec - Turn 2 Different Type of Text to vectors. E.g. Question Answering"
      ]
    },
    {
      "cell_type": "markdown",
      "metadata": {
        "id": "YaVKAIc3489m"
      },
      "source": [
        "## QA TFHub Models\n",
        "!pip install vectorhub[encoders-text-tfhub]"
      ]
    },
    {
      "cell_type": "markdown",
      "metadata": {
        "id": "VVnZDk4B5iYr"
      },
      "source": [
        "### USEQA2Vec\n",
        "Unviersal Sentence Encoder Question Answering"
      ]
    },
    {
      "cell_type": "code",
      "metadata": {
        "id": "7dTrLZFR5o52",
        "outputId": "8fb4494a-83e5-4d2d-9731-06454b7489d9",
        "colab": {
          "base_uri": "https://localhost:8080/"
        }
      },
      "source": [
        "from vectorhub.bi_encoders.text_text.tfhub import USEQA2Vec\n",
        "model = USEQA2Vec()\n",
        "q_vector = model.encode_question('How is the weather today?')\n",
        "a_vector = model.encode_answer('The weather is great today.')\n",
        "len(q_vector), q_vector[:10], len(a_vector), a_vector[:10]"
      ],
      "execution_count": null,
      "outputs": [
        {
          "output_type": "stream",
          "text": [
            "INFO:absl:Downloading TF-Hub Module 'https://tfhub.dev/google/universal-sentence-encoder-qa/3'.\n",
            "INFO:absl:Downloaded https://tfhub.dev/google/universal-sentence-encoder-qa/3, Total size: 588.94MB\n",
            "INFO:absl:Downloaded TF-Hub Module 'https://tfhub.dev/google/universal-sentence-encoder-qa/3'.\n"
          ],
          "name": "stderr"
        },
        {
          "output_type": "stream",
          "text": [
            "WARNING:tensorflow:11 out of the last 11 calls to <function recreate_function.<locals>.restored_function_body at 0x7fad4344fae8> triggered tf.function retracing. Tracing is expensive and the excessive number of tracings could be due to (1) creating @tf.function repeatedly in a loop, (2) passing tensors with different shapes, (3) passing Python objects instead of tensors. For (1), please define your @tf.function outside of the loop. For (2), @tf.function has experimental_relax_shapes=True option that relaxes argument shapes that can avoid unnecessary retracing. For (3), please refer to https://www.tensorflow.org/tutorials/customization/performance#python_or_tensor_args and https://www.tensorflow.org/api_docs/python/tf/function for  more details.\n"
          ],
          "name": "stdout"
        },
        {
          "output_type": "stream",
          "text": [
            "WARNING:tensorflow:11 out of the last 11 calls to <function recreate_function.<locals>.restored_function_body at 0x7fad4344fae8> triggered tf.function retracing. Tracing is expensive and the excessive number of tracings could be due to (1) creating @tf.function repeatedly in a loop, (2) passing tensors with different shapes, (3) passing Python objects instead of tensors. For (1), please define your @tf.function outside of the loop. For (2), @tf.function has experimental_relax_shapes=True option that relaxes argument shapes that can avoid unnecessary retracing. For (3), please refer to https://www.tensorflow.org/tutorials/customization/performance#python_or_tensor_args and https://www.tensorflow.org/api_docs/python/tf/function for  more details.\n"
          ],
          "name": "stderr"
        },
        {
          "output_type": "execute_result",
          "data": {
            "text/plain": [
              "(512,\n",
              " [0.016045808792114258,\n",
              "  -0.043040379881858826,\n",
              "  0.07887386530637741,\n",
              "  0.04960925877094269,\n",
              "  -0.03173493966460228,\n",
              "  0.013906203210353851,\n",
              "  0.03847653046250343,\n",
              "  0.03160930797457695,\n",
              "  -0.04524993896484375,\n",
              "  0.030441774055361748],\n",
              " 512,\n",
              " [0.022999223321676254,\n",
              "  -0.03275342658162117,\n",
              "  0.07618879526853561,\n",
              "  0.04189026355743408,\n",
              "  0.05775227025151253,\n",
              "  0.03411644324660301,\n",
              "  0.035125598311424255,\n",
              "  0.025239063426852226,\n",
              "  -0.04660375043749809,\n",
              "  -0.03390398994088173])"
            ]
          },
          "metadata": {
            "tags": []
          },
          "execution_count": 31
        }
      ]
    },
    {
      "cell_type": "markdown",
      "metadata": {
        "id": "YVHdtqZG5rZd"
      },
      "source": [
        "### USEMultieQA2Vec\n",
        "Unviersal Sentence Encoder Mulitlingual Question Answering"
      ]
    },
    {
      "cell_type": "code",
      "metadata": {
        "id": "DEEAsNNx43Pn",
        "outputId": "7235204b-3b0a-4437-b493-3cdccd3fcdce",
        "colab": {
          "base_uri": "https://localhost:8080/"
        }
      },
      "source": [
        "from vectorhub.bi_encoders.text_text.tfhub import USEMultiQA2Vec\n",
        "model = USEMultiQA2Vec()\n",
        "q_vector = model.encode_question('How is the weather today?')\n",
        "a_vector = model.encode_answer('The weather is great today.')\n",
        "len(q_vector), q_vector[:10], len(a_vector), a_vector[:10]"
      ],
      "execution_count": null,
      "outputs": [
        {
          "output_type": "stream",
          "text": [
            "INFO:absl:Downloading TF-Hub Module 'https://tfhub.dev/google/universal-sentence-encoder-multilingual-qa/3'.\n",
            "INFO:absl:Downloaded https://tfhub.dev/google/universal-sentence-encoder-multilingual-qa/3, Total size: 348.55MB\n",
            "INFO:absl:Downloaded TF-Hub Module 'https://tfhub.dev/google/universal-sentence-encoder-multilingual-qa/3'.\n"
          ],
          "name": "stderr"
        },
        {
          "output_type": "stream",
          "text": [
            "WARNING:tensorflow:11 out of the last 11 calls to <function recreate_function.<locals>.restored_function_body at 0x7fad45d3c840> triggered tf.function retracing. Tracing is expensive and the excessive number of tracings could be due to (1) creating @tf.function repeatedly in a loop, (2) passing tensors with different shapes, (3) passing Python objects instead of tensors. For (1), please define your @tf.function outside of the loop. For (2), @tf.function has experimental_relax_shapes=True option that relaxes argument shapes that can avoid unnecessary retracing. For (3), please refer to https://www.tensorflow.org/tutorials/customization/performance#python_or_tensor_args and https://www.tensorflow.org/api_docs/python/tf/function for  more details.\n"
          ],
          "name": "stdout"
        },
        {
          "output_type": "stream",
          "text": [
            "WARNING:tensorflow:11 out of the last 11 calls to <function recreate_function.<locals>.restored_function_body at 0x7fad45d3c840> triggered tf.function retracing. Tracing is expensive and the excessive number of tracings could be due to (1) creating @tf.function repeatedly in a loop, (2) passing tensors with different shapes, (3) passing Python objects instead of tensors. For (1), please define your @tf.function outside of the loop. For (2), @tf.function has experimental_relax_shapes=True option that relaxes argument shapes that can avoid unnecessary retracing. For (3), please refer to https://www.tensorflow.org/tutorials/customization/performance#python_or_tensor_args and https://www.tensorflow.org/api_docs/python/tf/function for  more details.\n"
          ],
          "name": "stderr"
        },
        {
          "output_type": "stream",
          "text": [
            "WARNING:tensorflow:11 out of the last 11 calls to <function recreate_function.<locals>.restored_function_body at 0x7fad4344f158> triggered tf.function retracing. Tracing is expensive and the excessive number of tracings could be due to (1) creating @tf.function repeatedly in a loop, (2) passing tensors with different shapes, (3) passing Python objects instead of tensors. For (1), please define your @tf.function outside of the loop. For (2), @tf.function has experimental_relax_shapes=True option that relaxes argument shapes that can avoid unnecessary retracing. For (3), please refer to https://www.tensorflow.org/tutorials/customization/performance#python_or_tensor_args and https://www.tensorflow.org/api_docs/python/tf/function for  more details.\n"
          ],
          "name": "stdout"
        },
        {
          "output_type": "stream",
          "text": [
            "WARNING:tensorflow:11 out of the last 11 calls to <function recreate_function.<locals>.restored_function_body at 0x7fad4344f158> triggered tf.function retracing. Tracing is expensive and the excessive number of tracings could be due to (1) creating @tf.function repeatedly in a loop, (2) passing tensors with different shapes, (3) passing Python objects instead of tensors. For (1), please define your @tf.function outside of the loop. For (2), @tf.function has experimental_relax_shapes=True option that relaxes argument shapes that can avoid unnecessary retracing. For (3), please refer to https://www.tensorflow.org/tutorials/customization/performance#python_or_tensor_args and https://www.tensorflow.org/api_docs/python/tf/function for  more details.\n"
          ],
          "name": "stderr"
        },
        {
          "output_type": "execute_result",
          "data": {
            "text/plain": [
              "(512,\n",
              " [0.04586700722575188,\n",
              "  -0.04745269939303398,\n",
              "  -0.036448970437049866,\n",
              "  -0.10308169573545456,\n",
              "  -0.08364672213792801,\n",
              "  0.06672786176204681,\n",
              "  -0.047646693885326385,\n",
              "  0.058453988283872604,\n",
              "  0.018309807404875755,\n",
              "  -0.07734357565641403],\n",
              " 512,\n",
              " [0.02722945623099804,\n",
              "  -0.01223964523524046,\n",
              "  -0.05937158688902855,\n",
              "  0.02729908563196659,\n",
              "  -0.05680926516652107,\n",
              "  0.02130836248397827,\n",
              "  -0.06708989292383194,\n",
              "  0.043317489326000214,\n",
              "  0.0029923515394330025,\n",
              "  -0.0535140223801136])"
            ]
          },
          "metadata": {
            "tags": []
          },
          "execution_count": 32
        }
      ]
    },
    {
      "cell_type": "markdown",
      "metadata": {
        "id": "vvuiYUCh_glf"
      },
      "source": [
        "### LAReQA2Vec\n",
        "Language-agnostic Question Answering model for retrieving answers from a multilingual candidate pool"
      ]
    },
    {
      "cell_type": "code",
      "metadata": {
        "id": "-ZU4VYPG5L31",
        "outputId": "7d1966d8-d0a7-46d0-b2ee-cff5b3e7e9cd",
        "colab": {
          "base_uri": "https://localhost:8080/"
        }
      },
      "source": [
        "from vectorhub.bi_encoders.text_text.tfhub import LAReQA2Vec\n",
        "model = LAReQA2Vec()\n",
        "q_vector = model.encode_question('How is the weather today?')\n",
        "a_vector = model.encode_answer('The weather is great today.')\n",
        "len(q_vector), q_vector[:10], len(a_vector), a_vector[:10]"
      ],
      "execution_count": null,
      "outputs": [
        {
          "output_type": "stream",
          "text": [
            "INFO:absl:Downloading TF-Hub Module 'https://tfhub.dev/google/LAReQA/mBERT_En_En/1'.\n",
            "INFO:absl:Downloaded https://tfhub.dev/google/LAReQA/mBERT_En_En/1, Total size: 681.40MB\n",
            "INFO:absl:Downloaded TF-Hub Module 'https://tfhub.dev/google/LAReQA/mBERT_En_En/1'.\n"
          ],
          "name": "stderr"
        },
        {
          "output_type": "stream",
          "text": [
            "WARNING:tensorflow:11 out of the last 11 calls to <function recreate_function.<locals>.restored_function_body at 0x7fad8b11e9d8> triggered tf.function retracing. Tracing is expensive and the excessive number of tracings could be due to (1) creating @tf.function repeatedly in a loop, (2) passing tensors with different shapes, (3) passing Python objects instead of tensors. For (1), please define your @tf.function outside of the loop. For (2), @tf.function has experimental_relax_shapes=True option that relaxes argument shapes that can avoid unnecessary retracing. For (3), please refer to https://www.tensorflow.org/tutorials/customization/performance#python_or_tensor_args and https://www.tensorflow.org/api_docs/python/tf/function for  more details.\n"
          ],
          "name": "stdout"
        },
        {
          "output_type": "stream",
          "text": [
            "WARNING:tensorflow:11 out of the last 11 calls to <function recreate_function.<locals>.restored_function_body at 0x7fad8b11e9d8> triggered tf.function retracing. Tracing is expensive and the excessive number of tracings could be due to (1) creating @tf.function repeatedly in a loop, (2) passing tensors with different shapes, (3) passing Python objects instead of tensors. For (1), please define your @tf.function outside of the loop. For (2), @tf.function has experimental_relax_shapes=True option that relaxes argument shapes that can avoid unnecessary retracing. For (3), please refer to https://www.tensorflow.org/tutorials/customization/performance#python_or_tensor_args and https://www.tensorflow.org/api_docs/python/tf/function for  more details.\n"
          ],
          "name": "stderr"
        },
        {
          "output_type": "execute_result",
          "data": {
            "text/plain": [
              "(768,\n",
              " [-0.00475115142762661,\n",
              "  -0.008070685900747776,\n",
              "  0.03443632274866104,\n",
              "  0.029951388016343117,\n",
              "  0.06215948611497879,\n",
              "  -0.0021374477073550224,\n",
              "  -0.003773134434595704,\n",
              "  0.011240703985095024,\n",
              "  0.01533481851220131,\n",
              "  0.011144084855914116],\n",
              " 768,\n",
              " [-0.03146867826581001,\n",
              "  -0.002026214497163892,\n",
              "  0.034710291773080826,\n",
              "  0.019098758697509766,\n",
              "  0.06205341964960098,\n",
              "  -0.01791439950466156,\n",
              "  -0.007370147854089737,\n",
              "  0.00870119035243988,\n",
              "  0.012205611914396286,\n",
              "  0.012876193039119244])"
            ]
          },
          "metadata": {
            "tags": []
          },
          "execution_count": 33
        }
      ]
    },
    {
      "cell_type": "markdown",
      "metadata": {
        "id": "-zIUEwxg5-n5"
      },
      "source": [
        "## Pytorch Transformers"
      ]
    },
    {
      "cell_type": "markdown",
      "metadata": {
        "id": "ZYEQfi7K5zz-"
      },
      "source": [
        "### DPR2Vec - By Facebook \n",
        "Dense Passage Retrieval"
      ]
    },
    {
      "cell_type": "code",
      "metadata": {
        "id": "GFOs1v3Q5zz_",
        "outputId": "7efb6ddc-d185-4ed0-cff8-62a85aedc96b",
        "colab": {
          "base_uri": "https://localhost:8080/",
          "height": 734,
          "referenced_widgets": [
            "468ffb10cdee4cddb44c4d391e2331d7",
            "99a03679273848dc890e7aadde50d358",
            "03bb795fb145491ca6585aff703d02bb",
            "4f337836c475426ba59049432e3ccfbd",
            "0cefb6cc80f846129dae724baf6377ed",
            "059caadbf542453cae0cf54b8076fd09",
            "504bf105d52f4892bb6fd47934609d55",
            "55f3f97c2bd544abb0d51a70de53ead2",
            "a3dceaeb4dc24736a71e556ace34e8b7",
            "e36128b755d543d7972b5db7a4514252",
            "88ae11f8dfa44216bca6b8e99fbf2ff9",
            "1089b49caf6d4d7cb39ab4221b510564",
            "e059e18a12634bb184cff8d10276ab3b",
            "fc48e1fcdd9e40dd8f167c8f6c49c43b",
            "686d89d247a6430c885cb8d905abd152",
            "78ee3448ea56418ca3a8c923dffa2e69",
            "54675ff29cf24d948721d5444fb3991b",
            "71023333f39a4ef2a39924d659b3c2dd",
            "1913b874f4cc42b59756598ee2b880ee",
            "9fdf013a3aea40dd80ba7b63c8c34236",
            "cbcb794b99334009b58d11a38eaf30be",
            "c1e01112215443908508793186d59a1b",
            "90b7271078064895b05e3d131e436478",
            "0127827e68c6474e84c8b36c629801ea",
            "6bd5b04a04c54b3e9fc243435f45b54f",
            "b4d1a3eff5464d55a4ba35fa2b9fa8d2",
            "0e2d496b16b14df8980a28ead333beb2",
            "40afc45883c5440a8e12b140b86a2acc",
            "2ef07b02c6cd41b7addd14e3a59cc469",
            "07ff7c7abacc43cbba21b6ca74d35b81",
            "8ede83b5635f4983a41d2fdac2f16f47",
            "1c109a0a990644f7a9e061e9dbbf99a8",
            "1d3e1828b1174221835589f86d2c4435",
            "c99999cdf5104c4093bab35a58d74164",
            "70358afa3edf4693b243f5e25034a824",
            "cbfd90f162e24d5b95c7f2048e732202",
            "1950b7a29fe04faa858921f1c1a8d17d",
            "ea3f4f587199405e83da54bc225050ef",
            "ebcb2b2a0e124960b39e75615efab973",
            "7cd24fc74ecf4cb9b1c0093aa8c9e36e",
            "3adf17fa083f454b9405ee91b197cf51",
            "40729fd817904e1fbf04e66ca3c1a5f3",
            "b6561082a18943578cf4f3049a6dc032",
            "f8dcfb84ac8e43aa9dcb2456e631c0de",
            "5caa05889472498e9de1ab80d5caced3",
            "244050e4d61c414a92cd42a2e9e9d866",
            "7f4fca8b171044a083c7201c4c20499e",
            "78d1423b47b045d1968b30f3d43a6f52",
            "da00be1bbbef4e3482e4c89756ecb473",
            "ce390e69a3c24766ad1cf1b4edaa5a50",
            "1e9f0f242e2649d284fcfe805efef50b",
            "b17aa131e1b24942815d1fa3412b6fc4",
            "afbb11a6437b4ac885532a274310772e",
            "dc8dceabae6b499d8978469269946f4b",
            "2fcb76bc3e9c41758067530b8523b97f",
            "efd7ee1d9d3b42db81d1e6153e614810"
          ]
        }
      },
      "source": [
        "from vectorhub.bi_encoders.text_text.torch_transformers import DPR2Vec\n",
        "model = DPR2Vec()\n",
        "q_vector = model.encode_question('How is the weather today?')\n",
        "a_vector = model.encode_answer('The weather is great today.')\n",
        "len(q_vector), q_vector[:10], len(a_vector), a_vector[:10]"
      ],
      "execution_count": null,
      "outputs": [
        {
          "output_type": "display_data",
          "data": {
            "application/vnd.jupyter.widget-view+json": {
              "model_id": "468ffb10cdee4cddb44c4d391e2331d7",
              "version_minor": 0,
              "version_major": 2
            },
            "text/plain": [
              "HBox(children=(FloatProgress(value=0.0, description='Downloading', max=466062.0, style=ProgressStyle(descripti…"
            ]
          },
          "metadata": {
            "tags": []
          }
        },
        {
          "output_type": "stream",
          "text": [
            "\n"
          ],
          "name": "stdout"
        },
        {
          "output_type": "display_data",
          "data": {
            "application/vnd.jupyter.widget-view+json": {
              "model_id": "a3dceaeb4dc24736a71e556ace34e8b7",
              "version_minor": 0,
              "version_major": 2
            },
            "text/plain": [
              "HBox(children=(FloatProgress(value=0.0, description='Downloading', max=492.0, style=ProgressStyle(description_…"
            ]
          },
          "metadata": {
            "tags": []
          }
        },
        {
          "output_type": "stream",
          "text": [
            "\n"
          ],
          "name": "stdout"
        },
        {
          "output_type": "display_data",
          "data": {
            "application/vnd.jupyter.widget-view+json": {
              "model_id": "54675ff29cf24d948721d5444fb3991b",
              "version_minor": 0,
              "version_major": 2
            },
            "text/plain": [
              "HBox(children=(FloatProgress(value=0.0, description='Downloading', max=437983985.0, style=ProgressStyle(descri…"
            ]
          },
          "metadata": {
            "tags": []
          }
        },
        {
          "output_type": "stream",
          "text": [
            "\n"
          ],
          "name": "stdout"
        },
        {
          "output_type": "display_data",
          "data": {
            "application/vnd.jupyter.widget-view+json": {
              "model_id": "6bd5b04a04c54b3e9fc243435f45b54f",
              "version_minor": 0,
              "version_major": 2
            },
            "text/plain": [
              "HBox(children=(FloatProgress(value=0.0, description='Downloading', max=493.0, style=ProgressStyle(description_…"
            ]
          },
          "metadata": {
            "tags": []
          }
        },
        {
          "output_type": "stream",
          "text": [
            "\n"
          ],
          "name": "stdout"
        },
        {
          "output_type": "display_data",
          "data": {
            "application/vnd.jupyter.widget-view+json": {
              "model_id": "1d3e1828b1174221835589f86d2c4435",
              "version_minor": 0,
              "version_major": 2
            },
            "text/plain": [
              "HBox(children=(FloatProgress(value=0.0, description='Downloading', max=437986065.0, style=ProgressStyle(descri…"
            ]
          },
          "metadata": {
            "tags": []
          }
        },
        {
          "output_type": "stream",
          "text": [
            "\n"
          ],
          "name": "stdout"
        },
        {
          "output_type": "display_data",
          "data": {
            "application/vnd.jupyter.widget-view+json": {
              "model_id": "3adf17fa083f454b9405ee91b197cf51",
              "version_minor": 0,
              "version_major": 2
            },
            "text/plain": [
              "HBox(children=(FloatProgress(value=0.0, description='Downloading', max=484.0, style=ProgressStyle(description_…"
            ]
          },
          "metadata": {
            "tags": []
          }
        },
        {
          "output_type": "stream",
          "text": [
            "\n"
          ],
          "name": "stdout"
        },
        {
          "output_type": "display_data",
          "data": {
            "application/vnd.jupyter.widget-view+json": {
              "model_id": "da00be1bbbef4e3482e4c89756ecb473",
              "version_minor": 0,
              "version_major": 2
            },
            "text/plain": [
              "HBox(children=(FloatProgress(value=0.0, description='Downloading', max=437998572.0, style=ProgressStyle(descri…"
            ]
          },
          "metadata": {
            "tags": []
          }
        },
        {
          "output_type": "stream",
          "text": [
            "\n"
          ],
          "name": "stdout"
        },
        {
          "output_type": "execute_result",
          "data": {
            "text/plain": [
              "(768,\n",
              " [0.38520655035972595,\n",
              "  0.037575557827949524,\n",
              "  0.33666062355041504,\n",
              "  0.1357431709766388,\n",
              "  0.26139581203460693,\n",
              "  -0.20699873566627502,\n",
              "  0.33886364102363586,\n",
              "  0.2096884399652481,\n",
              "  -0.11666563898324966,\n",
              "  -0.3050388693809509],\n",
              " 768,\n",
              " [0.12573188543319702,\n",
              "  0.09063692390918732,\n",
              "  0.22302208840847015,\n",
              "  -0.22612245380878448,\n",
              "  0.00587753439322114,\n",
              "  -0.40788567066192627,\n",
              "  0.6642342805862427,\n",
              "  1.0489115715026855,\n",
              "  -0.6422920823097229,\n",
              "  -0.9332435131072998])"
            ]
          },
          "metadata": {
            "tags": []
          },
          "execution_count": 34
        }
      ]
    },
    {
      "cell_type": "markdown",
      "metadata": {
        "id": "gQSGm4_P8xv-"
      },
      "source": [
        "## Sentence Transformers"
      ]
    },
    {
      "cell_type": "markdown",
      "metadata": {
        "id": "CIX1FKd68q4j"
      },
      "source": [
        "### DistilRobertaQA2Vec"
      ]
    },
    {
      "cell_type": "code",
      "metadata": {
        "id": "n9Oi7wuF8qcu",
        "outputId": "df7ce966-325f-44dd-94e7-1387ad6e83c7",
        "colab": {
          "base_uri": "https://localhost:8080/"
        }
      },
      "source": [
        "from vectorhub.bi_encoders.text_text.sentence_transformers import DistilRobertaQA2Vec\n",
        "model = DistilRobertaQA2Vec()\n",
        "q_vector = model.encode_question('How is the weather today?')\n",
        "a_vector = model.encode_answer('The weather is great today.')\n",
        "len(q_vector), q_vector[:10], len(a_vector), a_vector[:10]"
      ],
      "execution_count": null,
      "outputs": [
        {
          "output_type": "execute_result",
          "data": {
            "text/plain": [
              "(768,\n",
              " [1.129922866821289,\n",
              "  0.5829585194587708,\n",
              "  0.17778196930885315,\n",
              "  -0.09017980098724365,\n",
              "  0.3229660987854004,\n",
              "  -0.8049975633621216,\n",
              "  0.3316192030906677,\n",
              "  -0.3474065065383911,\n",
              "  0.5975155234336853,\n",
              "  0.2112181931734085],\n",
              " 768,\n",
              " [0.7734353542327881,\n",
              "  0.7911091446876526,\n",
              "  0.18971982598304749,\n",
              "  -0.7204448580741882,\n",
              "  0.29347801208496094,\n",
              "  -0.45650196075439453,\n",
              "  0.40947067737579346,\n",
              "  -0.7629557847976685,\n",
              "  1.3929301500320435,\n",
              "  0.21254363656044006])"
            ]
          },
          "metadata": {
            "tags": []
          },
          "execution_count": 35
        }
      ]
    }
  ]
}