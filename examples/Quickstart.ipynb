{
  "nbformat": 4,
  "nbformat_minor": 0,
  "metadata": {
    "colab": {
      "name": "Quickstart.ipynb",
      "provenance": [],
      "collapsed_sections": []
    },
    "kernelspec": {
      "name": "python3",
      "display_name": "Python 3"
    }
  },
  "cells": [
    {
      "cell_type": "markdown",
      "metadata": {
        "id": "1ie9CHX-Uea3"
      },
      "source": [
        "## Quickstart\n",
        "\n",
        "### Here we have demonstrate few models that you can use for getting embedding"
      ]
    },
    {
      "cell_type": "markdown",
      "metadata": {
        "id": "vhhm6lAbVrhd"
      },
      "source": [
        "### Build Bit image encoder from Tensorflow Hub"
      ]
    },
    {
      "cell_type": "code",
      "metadata": {
        "id": "pCdDxwKrTdmd"
      },
      "source": [
        "from vectorhub.image.encoder.tfhub import BitMedium2Vec\n",
        "\n",
        "bit_model = BitMedium2Vec()\n",
        "sample = bit_model.read('https://assets.pokemon.com/assets/cms2/img/pokedex/full/001.png')\n",
        "result = bit_model.encode(sample)"
      ],
      "execution_count": null,
      "outputs": []
    },
    {
      "cell_type": "markdown",
      "metadata": {
        "id": "JKKT1PPtYeZS"
      },
      "source": [
        "### Build State of the art Bert encoder from Tensorflow Hub"
      ]
    },
    {
      "cell_type": "code",
      "metadata": {
        "id": "u3LBzIT7Ydgp"
      },
      "source": [
        "from vectorhub.text.encoder.tfhub import Bert2Vec\n",
        "\n",
        "bert_model = Bert2Vec()\n",
        "result = bert_model.encode('How are you ?')"
      ],
      "execution_count": null,
      "outputs": []
    },
    {
      "cell_type": "markdown",
      "metadata": {
        "id": "fxCMQe_davvK"
      },
      "source": [
        "### Build Universal Sentence Bi-encoder from Tensorflow Hub"
      ]
    },
    {
      "cell_type": "code",
      "metadata": {
        "id": "uUOorja4dGtn"
      },
      "source": [
        "from vectorhub.text.bi_encoder.tfhub import USEMultiQA2Vec\n",
        "\n",
        "use_model = USEMultiQA2Vec()\n",
        "question_embedding = use_model.encode_question('What is your age?')\n",
        "answer_embedding = use_model.encode_answer('I am 20 years old.','I will be 21 next year.')"
      ],
      "execution_count": null,
      "outputs": []
    },
    {
      "cell_type": "markdown",
      "metadata": {
        "id": "MhmmrXCteUlV"
      },
      "source": [
        "### Build Trill Audio encoder from Tensorflow Hub"
      ]
    },
    {
      "cell_type": "code",
      "metadata": {
        "id": "znbohtMlfOhd"
      },
      "source": [
        "from vectorhub.audio.encoder.tfhub import Trill2Vec\n",
        "\n",
        "trill_model = Trill2Vec()\n",
        "sample = trill_model.read('https://vecsearch-bucket.s3.us-east-2.amazonaws.com/voices/common_voice_en_2.wav')\n",
        "result = trill_model.encode(sample)"
      ],
      "execution_count": null,
      "outputs": []
    },
    {
      "cell_type": "markdown",
      "metadata": {
        "id": "1Mx8Fd9khU6f"
      },
      "source": [
        "### Build Pytorch FairSeq audio encoder"
      ]
    },
    {
      "cell_type": "code",
      "metadata": {
        "id": "f4vl8XkxhULg"
      },
      "source": [
        "from vectorhub.audio.encoder.pytorch import Wav2Vec\n",
        "\n",
        "wav_model = Wav2Vec()\n",
        "sample = wav_model.read('https://vecsearch-bucket.s3.us-east-2.amazonaws.com/voices/common_voice_en_2.wav')\n",
        "result = wav_model.encode(sample)"
      ],
      "execution_count": null,
      "outputs": []
    }
  ]
}